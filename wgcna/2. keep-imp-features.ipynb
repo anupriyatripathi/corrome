{
 "cells": [
  {
   "cell_type": "code",
   "execution_count": 1,
   "metadata": {
    "collapsed": true
   },
   "outputs": [],
   "source": [
    "import pandas as pd\n",
    "import scipy.stats as ss\n",
    "import numpy as np\n",
    "% matplotlib inline"
   ]
  },
  {
   "cell_type": "code",
   "execution_count": 2,
   "metadata": {
    "collapsed": true
   },
   "outputs": [],
   "source": [
    "microbiome=pd.read_table(\"../otu_6week_matched_srows.txt\", sep='\\t', index_col=\"#SampleID\", dtype=str)\n",
    "metabolome=pd.read_table(\"../metab_6weeks_matched_srows.txt\", sep='\\t', index_col=\"#SampleID\", dtype=str)"
   ]
  },
  {
   "cell_type": "code",
   "execution_count": 3,
   "metadata": {
    "collapsed": false
   },
   "outputs": [
    {
     "name": "stdout",
     "output_type": "stream",
     "text": [
      "(207, 3463)\n",
      "(207, 12868)\n"
     ]
    }
   ],
   "source": [
    "print(microbiome.shape)\n",
    "print(metabolome.shape)"
   ]
  },
  {
   "cell_type": "code",
   "execution_count": 4,
   "metadata": {
    "collapsed": true
   },
   "outputs": [],
   "source": [
    "rf_microb=pd.read_table(\"../process1/rf_otu_proto.csv\", sep=',', index_col=0, dtype=str)\n",
    "rf_metab=pd.read_table(\"../process1/rf_metab_proto.csv\", sep=',', index_col=0, dtype=str)"
   ]
  },
  {
   "cell_type": "code",
   "execution_count": 5,
   "metadata": {
    "collapsed": true
   },
   "outputs": [],
   "source": [
    "thresh=0\n",
    "rf_microb[\"MeanDecreaseAccuracy\"]=pd.to_numeric(rf_microb[\"MeanDecreaseAccuracy\"])\n",
    "rf_metab[\"MeanDecreaseAccuracy\"]=pd.to_numeric(rf_metab[\"MeanDecreaseAccuracy\"])"
   ]
  },
  {
   "cell_type": "code",
   "execution_count": 6,
   "metadata": {
    "collapsed": false
   },
   "outputs": [],
   "source": [
    "impbac=[bac for bac in rf_microb.index if rf_microb.ix[bac,\"MeanDecreaseAccuracy\"]>thresh]\n",
    "impmol=[mol for mol in rf_metab.index if rf_metab.ix[mol,\"MeanDecreaseAccuracy\"]>thresh]"
   ]
  },
  {
   "cell_type": "code",
   "execution_count": 7,
   "metadata": {
    "collapsed": false
   },
   "outputs": [
    {
     "name": "stdout",
     "output_type": "stream",
     "text": [
      "2317\n",
      "3576\n"
     ]
    }
   ],
   "source": [
    "print(len(impbac))\n",
    "print(len(impmol))"
   ]
  },
  {
   "cell_type": "code",
   "execution_count": 8,
   "metadata": {
    "collapsed": false
   },
   "outputs": [],
   "source": [
    "mic=pd.DataFrame(index=microbiome.index)\n",
    "for bac in impbac:\n",
    "    mic[str(bac)]=microbiome[str(bac)]"
   ]
  },
  {
   "cell_type": "code",
   "execution_count": 9,
   "metadata": {
    "collapsed": false
   },
   "outputs": [],
   "source": [
    "met=pd.DataFrame(index=metabolome.index)\n",
    "for mol in impmol:\n",
    "    met[str(mol)]=metabolome[str(mol)]"
   ]
  },
  {
   "cell_type": "code",
   "execution_count": 10,
   "metadata": {
    "collapsed": false
   },
   "outputs": [
    {
     "data": {
      "text/html": [
       "<div>\n",
       "<table border=\"1\" class=\"dataframe\">\n",
       "  <thead>\n",
       "    <tr style=\"text-align: right;\">\n",
       "      <th></th>\n",
       "      <th>268733</th>\n",
       "      <th>4428313</th>\n",
       "      <th>300662</th>\n",
       "      <th>182643</th>\n",
       "      <th>4446320</th>\n",
       "      <th>231510</th>\n",
       "      <th>829337</th>\n",
       "      <th>263252</th>\n",
       "      <th>266061</th>\n",
       "      <th>4454432</th>\n",
       "      <th>...</th>\n",
       "      <th>4450646</th>\n",
       "      <th>311734</th>\n",
       "      <th>2343601</th>\n",
       "      <th>575652</th>\n",
       "      <th>267935</th>\n",
       "      <th>174698</th>\n",
       "      <th>806497</th>\n",
       "      <th>1951826</th>\n",
       "      <th>203879</th>\n",
       "      <th>950620</th>\n",
       "    </tr>\n",
       "    <tr>\n",
       "      <th>#SampleID</th>\n",
       "      <th></th>\n",
       "      <th></th>\n",
       "      <th></th>\n",
       "      <th></th>\n",
       "      <th></th>\n",
       "      <th></th>\n",
       "      <th></th>\n",
       "      <th></th>\n",
       "      <th></th>\n",
       "      <th></th>\n",
       "      <th></th>\n",
       "      <th></th>\n",
       "      <th></th>\n",
       "      <th></th>\n",
       "      <th></th>\n",
       "      <th></th>\n",
       "      <th></th>\n",
       "      <th></th>\n",
       "      <th></th>\n",
       "      <th></th>\n",
       "      <th></th>\n",
       "    </tr>\n",
       "  </thead>\n",
       "  <tbody>\n",
       "    <tr>\n",
       "      <th>10422.17.F.1</th>\n",
       "      <td>0.0</td>\n",
       "      <td>0.0</td>\n",
       "      <td>0.0</td>\n",
       "      <td>0.0</td>\n",
       "      <td>0.0</td>\n",
       "      <td>0.0</td>\n",
       "      <td>0.0</td>\n",
       "      <td>0.0</td>\n",
       "      <td>0.0</td>\n",
       "      <td>0.0</td>\n",
       "      <td>...</td>\n",
       "      <td>0.0</td>\n",
       "      <td>0.0</td>\n",
       "      <td>0.0</td>\n",
       "      <td>0.0</td>\n",
       "      <td>0.0</td>\n",
       "      <td>0.0</td>\n",
       "      <td>0.0</td>\n",
       "      <td>0.0</td>\n",
       "      <td>0.0</td>\n",
       "      <td>0.0</td>\n",
       "    </tr>\n",
       "    <tr>\n",
       "      <th>10422.17.F.10</th>\n",
       "      <td>2.0</td>\n",
       "      <td>2.0</td>\n",
       "      <td>1.0</td>\n",
       "      <td>0.0</td>\n",
       "      <td>0.0</td>\n",
       "      <td>37.0</td>\n",
       "      <td>0.0</td>\n",
       "      <td>0.0</td>\n",
       "      <td>0.0</td>\n",
       "      <td>0.0</td>\n",
       "      <td>...</td>\n",
       "      <td>0.0</td>\n",
       "      <td>0.0</td>\n",
       "      <td>0.0</td>\n",
       "      <td>0.0</td>\n",
       "      <td>0.0</td>\n",
       "      <td>0.0</td>\n",
       "      <td>0.0</td>\n",
       "      <td>0.0</td>\n",
       "      <td>0.0</td>\n",
       "      <td>1.0</td>\n",
       "    </tr>\n",
       "    <tr>\n",
       "      <th>10422.17.F.11</th>\n",
       "      <td>0.0</td>\n",
       "      <td>1.0</td>\n",
       "      <td>0.0</td>\n",
       "      <td>0.0</td>\n",
       "      <td>0.0</td>\n",
       "      <td>15.0</td>\n",
       "      <td>0.0</td>\n",
       "      <td>0.0</td>\n",
       "      <td>0.0</td>\n",
       "      <td>0.0</td>\n",
       "      <td>...</td>\n",
       "      <td>0.0</td>\n",
       "      <td>0.0</td>\n",
       "      <td>0.0</td>\n",
       "      <td>0.0</td>\n",
       "      <td>0.0</td>\n",
       "      <td>0.0</td>\n",
       "      <td>0.0</td>\n",
       "      <td>0.0</td>\n",
       "      <td>0.0</td>\n",
       "      <td>0.0</td>\n",
       "    </tr>\n",
       "  </tbody>\n",
       "</table>\n",
       "<p>3 rows × 2317 columns</p>\n",
       "</div>"
      ],
      "text/plain": [
       "              268733 4428313 300662 182643 4446320 231510 829337 263252  \\\n",
       "#SampleID                                                                 \n",
       "10422.17.F.1     0.0     0.0    0.0    0.0     0.0    0.0    0.0    0.0   \n",
       "10422.17.F.10    2.0     2.0    1.0    0.0     0.0   37.0    0.0    0.0   \n",
       "10422.17.F.11    0.0     1.0    0.0    0.0     0.0   15.0    0.0    0.0   \n",
       "\n",
       "              266061 4454432  ...   4450646 311734 2343601 575652 267935  \\\n",
       "#SampleID                     ...                                          \n",
       "10422.17.F.1     0.0     0.0  ...       0.0    0.0     0.0    0.0    0.0   \n",
       "10422.17.F.10    0.0     0.0  ...       0.0    0.0     0.0    0.0    0.0   \n",
       "10422.17.F.11    0.0     0.0  ...       0.0    0.0     0.0    0.0    0.0   \n",
       "\n",
       "              174698 806497 1951826 203879 950620  \n",
       "#SampleID                                          \n",
       "10422.17.F.1     0.0    0.0     0.0    0.0    0.0  \n",
       "10422.17.F.10    0.0    0.0     0.0    0.0    1.0  \n",
       "10422.17.F.11    0.0    0.0     0.0    0.0    0.0  \n",
       "\n",
       "[3 rows x 2317 columns]"
      ]
     },
     "execution_count": 10,
     "metadata": {},
     "output_type": "execute_result"
    }
   ],
   "source": [
    "mic.head(3)"
   ]
  },
  {
   "cell_type": "code",
   "execution_count": 11,
   "metadata": {
    "collapsed": false
   },
   "outputs": [
    {
     "data": {
      "text/html": [
       "<div>\n",
       "<table border=\"1\" class=\"dataframe\">\n",
       "  <thead>\n",
       "    <tr style=\"text-align: right;\">\n",
       "      <th></th>\n",
       "      <th>222.066842105263_385.199902286792</th>\n",
       "      <th>265.237627968338_348.325906172883</th>\n",
       "      <th>20.6489735772358_155.054001629239</th>\n",
       "      <th>222.526924901186_504.262332538465</th>\n",
       "      <th>20.0305406504065_185.065251997431</th>\n",
       "      <th>300.271438438439_321.25622828474</th>\n",
       "      <th>220.181373956594_358.36769599684</th>\n",
       "      <th>225.047791018998_356.352013120216</th>\n",
       "      <th>127.55486_319.138085593871</th>\n",
       "      <th>181.878255681818_385.212041622595</th>\n",
       "      <th>...</th>\n",
       "      <th>205.277055555556_313.106259654082</th>\n",
       "      <th>105.588666666667_353.19027905443</th>\n",
       "      <th>147.484318181818_397.196221892206</th>\n",
       "      <th>327.7828_318.299664766717</th>\n",
       "      <th>238.545616161616_375.280062074783</th>\n",
       "      <th>352.154174460432_154.097450945057</th>\n",
       "      <th>241.242083333334_623.305314806046</th>\n",
       "      <th>314.991474393531_280.234579974309</th>\n",
       "      <th>72.1633_345.144442057333</th>\n",
       "      <th>97.7422326530613_402.697779868946</th>\n",
       "    </tr>\n",
       "    <tr>\n",
       "      <th>#SampleID</th>\n",
       "      <th></th>\n",
       "      <th></th>\n",
       "      <th></th>\n",
       "      <th></th>\n",
       "      <th></th>\n",
       "      <th></th>\n",
       "      <th></th>\n",
       "      <th></th>\n",
       "      <th></th>\n",
       "      <th></th>\n",
       "      <th></th>\n",
       "      <th></th>\n",
       "      <th></th>\n",
       "      <th></th>\n",
       "      <th></th>\n",
       "      <th></th>\n",
       "      <th></th>\n",
       "      <th></th>\n",
       "      <th></th>\n",
       "      <th></th>\n",
       "      <th></th>\n",
       "    </tr>\n",
       "  </thead>\n",
       "  <tbody>\n",
       "    <tr>\n",
       "      <th>10422.17.F.1</th>\n",
       "      <td>0.0</td>\n",
       "      <td>3241180.0</td>\n",
       "      <td>0.0</td>\n",
       "      <td>8533210.0</td>\n",
       "      <td>0.0</td>\n",
       "      <td>0.0</td>\n",
       "      <td>8202370.0</td>\n",
       "      <td>0.0</td>\n",
       "      <td>0.0</td>\n",
       "      <td>16234900.0</td>\n",
       "      <td>...</td>\n",
       "      <td>0.0</td>\n",
       "      <td>0.0</td>\n",
       "      <td>2648270.0</td>\n",
       "      <td>0.0</td>\n",
       "      <td>0.0</td>\n",
       "      <td>9140070.0</td>\n",
       "      <td>0.0</td>\n",
       "      <td>18463800.0</td>\n",
       "      <td>0.0</td>\n",
       "      <td>0.0</td>\n",
       "    </tr>\n",
       "    <tr>\n",
       "      <th>10422.17.F.10</th>\n",
       "      <td>7311520.0</td>\n",
       "      <td>0.0</td>\n",
       "      <td>0.0</td>\n",
       "      <td>4351600.0</td>\n",
       "      <td>0.0</td>\n",
       "      <td>6197950.0</td>\n",
       "      <td>11749800.0</td>\n",
       "      <td>10161900.0</td>\n",
       "      <td>0.0</td>\n",
       "      <td>23635100.0</td>\n",
       "      <td>...</td>\n",
       "      <td>0.0</td>\n",
       "      <td>0.0</td>\n",
       "      <td>0.0</td>\n",
       "      <td>0.0</td>\n",
       "      <td>0.0</td>\n",
       "      <td>18908200.0</td>\n",
       "      <td>7874280.0</td>\n",
       "      <td>0.0</td>\n",
       "      <td>0.0</td>\n",
       "      <td>0.0</td>\n",
       "    </tr>\n",
       "    <tr>\n",
       "      <th>10422.17.F.11</th>\n",
       "      <td>11951000.0</td>\n",
       "      <td>3865940.0</td>\n",
       "      <td>0.0</td>\n",
       "      <td>9331860.0</td>\n",
       "      <td>15243800.0</td>\n",
       "      <td>6200980.0</td>\n",
       "      <td>34601400.0</td>\n",
       "      <td>27234600.0</td>\n",
       "      <td>0.0</td>\n",
       "      <td>33155900.0</td>\n",
       "      <td>...</td>\n",
       "      <td>0.0</td>\n",
       "      <td>0.0</td>\n",
       "      <td>0.0</td>\n",
       "      <td>0.0</td>\n",
       "      <td>0.0</td>\n",
       "      <td>19444800.0</td>\n",
       "      <td>21739800.0</td>\n",
       "      <td>0.0</td>\n",
       "      <td>0.0</td>\n",
       "      <td>0.0</td>\n",
       "    </tr>\n",
       "  </tbody>\n",
       "</table>\n",
       "<p>3 rows × 3576 columns</p>\n",
       "</div>"
      ],
      "text/plain": [
       "              222.066842105263_385.199902286792  \\\n",
       "#SampleID                                         \n",
       "10422.17.F.1                                0.0   \n",
       "10422.17.F.10                         7311520.0   \n",
       "10422.17.F.11                        11951000.0   \n",
       "\n",
       "              265.237627968338_348.325906172883  \\\n",
       "#SampleID                                         \n",
       "10422.17.F.1                          3241180.0   \n",
       "10422.17.F.10                               0.0   \n",
       "10422.17.F.11                         3865940.0   \n",
       "\n",
       "              20.6489735772358_155.054001629239  \\\n",
       "#SampleID                                         \n",
       "10422.17.F.1                                0.0   \n",
       "10422.17.F.10                               0.0   \n",
       "10422.17.F.11                               0.0   \n",
       "\n",
       "              222.526924901186_504.262332538465  \\\n",
       "#SampleID                                         \n",
       "10422.17.F.1                          8533210.0   \n",
       "10422.17.F.10                         4351600.0   \n",
       "10422.17.F.11                         9331860.0   \n",
       "\n",
       "              20.0305406504065_185.065251997431  \\\n",
       "#SampleID                                         \n",
       "10422.17.F.1                                0.0   \n",
       "10422.17.F.10                               0.0   \n",
       "10422.17.F.11                        15243800.0   \n",
       "\n",
       "              300.271438438439_321.25622828474  \\\n",
       "#SampleID                                        \n",
       "10422.17.F.1                               0.0   \n",
       "10422.17.F.10                        6197950.0   \n",
       "10422.17.F.11                        6200980.0   \n",
       "\n",
       "              220.181373956594_358.36769599684  \\\n",
       "#SampleID                                        \n",
       "10422.17.F.1                         8202370.0   \n",
       "10422.17.F.10                       11749800.0   \n",
       "10422.17.F.11                       34601400.0   \n",
       "\n",
       "              225.047791018998_356.352013120216 127.55486_319.138085593871  \\\n",
       "#SampleID                                                                    \n",
       "10422.17.F.1                                0.0                        0.0   \n",
       "10422.17.F.10                        10161900.0                        0.0   \n",
       "10422.17.F.11                        27234600.0                        0.0   \n",
       "\n",
       "              181.878255681818_385.212041622595  \\\n",
       "#SampleID                                         \n",
       "10422.17.F.1                         16234900.0   \n",
       "10422.17.F.10                        23635100.0   \n",
       "10422.17.F.11                        33155900.0   \n",
       "\n",
       "                             ...                 \\\n",
       "#SampleID                    ...                  \n",
       "10422.17.F.1                 ...                  \n",
       "10422.17.F.10                ...                  \n",
       "10422.17.F.11                ...                  \n",
       "\n",
       "              205.277055555556_313.106259654082  \\\n",
       "#SampleID                                         \n",
       "10422.17.F.1                                0.0   \n",
       "10422.17.F.10                               0.0   \n",
       "10422.17.F.11                               0.0   \n",
       "\n",
       "              105.588666666667_353.19027905443  \\\n",
       "#SampleID                                        \n",
       "10422.17.F.1                               0.0   \n",
       "10422.17.F.10                              0.0   \n",
       "10422.17.F.11                              0.0   \n",
       "\n",
       "              147.484318181818_397.196221892206 327.7828_318.299664766717  \\\n",
       "#SampleID                                                                   \n",
       "10422.17.F.1                          2648270.0                       0.0   \n",
       "10422.17.F.10                               0.0                       0.0   \n",
       "10422.17.F.11                               0.0                       0.0   \n",
       "\n",
       "              238.545616161616_375.280062074783  \\\n",
       "#SampleID                                         \n",
       "10422.17.F.1                                0.0   \n",
       "10422.17.F.10                               0.0   \n",
       "10422.17.F.11                               0.0   \n",
       "\n",
       "              352.154174460432_154.097450945057  \\\n",
       "#SampleID                                         \n",
       "10422.17.F.1                          9140070.0   \n",
       "10422.17.F.10                        18908200.0   \n",
       "10422.17.F.11                        19444800.0   \n",
       "\n",
       "              241.242083333334_623.305314806046  \\\n",
       "#SampleID                                         \n",
       "10422.17.F.1                                0.0   \n",
       "10422.17.F.10                         7874280.0   \n",
       "10422.17.F.11                        21739800.0   \n",
       "\n",
       "              314.991474393531_280.234579974309 72.1633_345.144442057333  \\\n",
       "#SampleID                                                                  \n",
       "10422.17.F.1                         18463800.0                      0.0   \n",
       "10422.17.F.10                               0.0                      0.0   \n",
       "10422.17.F.11                               0.0                      0.0   \n",
       "\n",
       "              97.7422326530613_402.697779868946  \n",
       "#SampleID                                        \n",
       "10422.17.F.1                                0.0  \n",
       "10422.17.F.10                               0.0  \n",
       "10422.17.F.11                               0.0  \n",
       "\n",
       "[3 rows x 3576 columns]"
      ]
     },
     "execution_count": 11,
     "metadata": {},
     "output_type": "execute_result"
    }
   ],
   "source": [
    "met.head(3)"
   ]
  },
  {
   "cell_type": "code",
   "execution_count": 12,
   "metadata": {
    "collapsed": false
   },
   "outputs": [
    {
     "name": "stdout",
     "output_type": "stream",
     "text": [
      "(207, 2317)\n",
      "(207, 3576)\n"
     ]
    }
   ],
   "source": [
    "print(mic.shape)\n",
    "print(met.shape)"
   ]
  },
  {
   "cell_type": "code",
   "execution_count": 13,
   "metadata": {
    "collapsed": false
   },
   "outputs": [],
   "source": [
    "## normalize feature in met\n",
    "for feature in met.columns:\n",
    "    met[feature]=pd.to_numeric(met[feature])\n",
    "    met[feature]=met[feature]/float(sum(met[feature]))"
   ]
  },
  {
   "cell_type": "code",
   "execution_count": 14,
   "metadata": {
    "collapsed": false
   },
   "outputs": [],
   "source": [
    "##normalize sample in mic and met\n",
    "for samp in mic.index:\n",
    "    mic.ix[samp]=pd.to_numeric(mic.ix[samp])\n",
    "    met.ix[samp]=pd.to_numeric(met.ix[samp])\n",
    "    mic.ix[samp]=mic.ix[samp]/float(sum(mic.ix[samp]))\n",
    "    met.ix[samp]=met.ix[samp]/float(sum(met.ix[samp]))"
   ]
  },
  {
   "cell_type": "code",
   "execution_count": 15,
   "metadata": {
    "collapsed": false
   },
   "outputs": [
    {
     "data": {
      "text/plain": [
       "SpearmanrResult(correlation=-0.51295246434318165, pvalue=2.7410713350938843e-15)"
      ]
     },
     "execution_count": 15,
     "metadata": {},
     "output_type": "execute_result"
    }
   ],
   "source": [
    "##test\n",
    "ss.spearmanr(np.array(met['222.066842105263_385.199902286792']),np.array(mic['268733']))"
   ]
  },
  {
   "cell_type": "code",
   "execution_count": 16,
   "metadata": {
    "collapsed": false
   },
   "outputs": [],
   "source": [
    "# #pairwise correlations taking too long\n",
    "# pairs=[]\n",
    "# for mol in met.columns:\n",
    "#     for bac in mic.columns:\n",
    "#         res=ss.spearmanr(np.array(met[mol]),np.array(mic[bac]))\n",
    "#         pairs.append(res)"
   ]
  },
  {
   "cell_type": "code",
   "execution_count": 17,
   "metadata": {
    "collapsed": false,
    "scrolled": false
   },
   "outputs": [],
   "source": [
    "met.to_csv(\"../metab_rf_filter_srows.txt\", sep='\\t')\n",
    "met.T.to_csv(\"../metab_rf_filter_scolumns.txt\", sep='\\t')\n",
    "mic.to_csv(\"../micro_rf_filter_srows.txt\", sep='\\t')\n",
    "mic.T.to_csv(\"../micro_rf_filter_scolumns.txt\", sep='\\t')"
   ]
  },
  {
   "cell_type": "code",
   "execution_count": null,
   "metadata": {
    "collapsed": true
   },
   "outputs": [],
   "source": [
    "## pairwise correlations between "
   ]
  }
 ],
 "metadata": {
  "kernelspec": {
   "display_name": "Python 2",
   "language": "python",
   "name": "python2"
  },
  "language_info": {
   "codemirror_mode": {
    "name": "ipython",
    "version": 2
   },
   "file_extension": ".py",
   "mimetype": "text/x-python",
   "name": "python",
   "nbconvert_exporter": "python",
   "pygments_lexer": "ipython2",
   "version": "2.7.12"
  }
 },
 "nbformat": 4,
 "nbformat_minor": 2
}
