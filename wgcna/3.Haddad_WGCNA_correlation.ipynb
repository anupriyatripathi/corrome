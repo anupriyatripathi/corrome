{
 "cells": [
  {
   "cell_type": "code",
   "execution_count": 1,
   "metadata": {
    "collapsed": false
   },
   "outputs": [
    {
     "name": "stderr",
     "output_type": "stream",
     "text": [
      "Loading required package: dynamicTreeCut\n",
      "Loading required package: fastcluster\n",
      "\n",
      "Attaching package: ‘fastcluster’\n",
      "\n",
      "The following object is masked from ‘package:stats’:\n",
      "\n",
      "    hclust\n",
      "\n",
      "\n"
     ]
    },
    {
     "name": "stdout",
     "output_type": "stream",
     "text": [
      "==========================================================================\n",
      "*\n",
      "*  Package WGCNA 1.51 loaded.\n",
      "*\n",
      "*    Important note: It appears that your system supports multi-threading,\n",
      "*    but it is not enabled within WGCNA in R. \n",
      "*    To allow multi-threading within WGCNA with all available cores, use \n",
      "*\n",
      "*          allowWGCNAThreads()\n",
      "*\n",
      "*    within R. Use disableWGCNAThreads() to disable threading if necessary.\n",
      "*    Alternatively, set the following environment variable on your system:\n",
      "*\n",
      "*          ALLOW_WGCNA_THREADS=<number_of_processors>\n",
      "*\n",
      "*    for example \n",
      "*\n",
      "*          ALLOW_WGCNA_THREADS=8\n",
      "*\n",
      "*    To set the environment variable in linux bash shell, type \n",
      "*\n",
      "*           export ALLOW_WGCNA_THREADS=8\n",
      "*\n",
      "*     before running R. Other operating systems or shells will\n",
      "*     have a similar command to achieve the same aim.\n",
      "*\n",
      "==========================================================================\n",
      "\n",
      "\n"
     ]
    },
    {
     "name": "stderr",
     "output_type": "stream",
     "text": [
      "\n",
      "Attaching package: ‘WGCNA’\n",
      "\n",
      "The following object is masked from ‘package:stats’:\n",
      "\n",
      "    cor\n",
      "\n"
     ]
    },
    {
     "name": "stdout",
     "output_type": "stream",
     "text": [
      "Allowing parallel execution with up to 7 working processes.\n"
     ]
    }
   ],
   "source": [
    "options(warn = -1)\n",
    "library(WGCNA)\n",
    "options(stringsAsFactors=FALSE)\n",
    "enableWGCNAThreads()"
   ]
  },
  {
   "cell_type": "code",
   "execution_count": 2,
   "metadata": {
    "collapsed": true
   },
   "outputs": [],
   "source": [
    "load(file='Haddad_metab_mapping.RData')\n",
    "load(file='Haddad_microb_mapping.RData')"
   ]
  },
  {
   "cell_type": "code",
   "execution_count": 3,
   "metadata": {
    "collapsed": false
   },
   "outputs": [],
   "source": [
    "load(file='Haddad_metab_modules.RData')\n",
    "load(file='Haddad_microb_modules.RData')"
   ]
  },
  {
   "cell_type": "code",
   "execution_count": 4,
   "metadata": {
    "collapsed": false
   },
   "outputs": [],
   "source": [
    "# define numbers of genes and samples\n",
    "nMetabs = ncol(dat_metab)\n",
    "nSamples_metab = nrow(dat_metab)\n",
    "# recalculate MEs with color labels\n",
    "MEs0_metab = moduleEigengenes(dat_metab, moduleColors_metab)$eigengenes\n",
    "MEs_metab = orderMEs(MEs0_metab)\n",
    "moduleTraitCor_metab = cor(MEs_metab, trait, use='p')\n",
    "moduleTraitPvalue_metab = corPvalueStudent(moduleTraitCor_metab, nSamples_metab)\n",
    "\n",
    "nMicrobs = ncol(dat_microb)\n",
    "nSamples_microb = nrow(dat_microb)\n",
    "MEs0_microb = moduleEigengenes(dat_microb, moduleColors_microb)$eigengenes\n",
    "MEs_microb = orderMEs(MEs0_microb)\n",
    "moduleTraitCor_microb = cor(MEs_microb, trait, use='p')\n",
    "moduleTraitPvalue_microb = corPvalueStudent(moduleTraitCor_microb, nSamples_microb)"
   ]
  },
  {
   "cell_type": "code",
   "execution_count": 5,
   "metadata": {
    "collapsed": false
   },
   "outputs": [
    {
     "data": {
      "text/html": [
       "<strong>pdf:</strong> 2"
      ],
      "text/latex": [
       "\\textbf{pdf:} 2"
      ],
      "text/markdown": [
       "**pdf:** 2"
      ],
      "text/plain": [
       "pdf \n",
       "  2 "
      ]
     },
     "metadata": {},
     "output_type": "display_data"
    }
   ],
   "source": [
    "pdf('correlation_metab.pdf', width=50, height=40)\n",
    "textMatrix = paste(signif(moduleTraitCor_metab, 2), '\\n(', signif(moduleTraitPvalue_metab, 1), ')', sep='')\n",
    "dim(textMatrix) = dim(moduleTraitCor_metab)\n",
    "par(mar=c(30, 30, 10, 10)) # set margins\n",
    "# display the correlation values within a heatmap plot\n",
    "labeledHeatmap(Matrix=moduleTraitCor_metab, xLabels=names(trait), \n",
    "               yLabels=names(MEs_metab), ySymbols=names(MEs_metab),\n",
    "               colorLabels=FALSE, colors=greenWhiteRed(50), textMatrix=textMatrix, setStdMargins=FALSE,\n",
    "               cex.text=2, zlim=c(-1,1), main=paste('Metab Module-Variables relationships'),\n",
    "               xColorWidth = 0.5, cex.main=5, cex.lab=3, xLabelsAngle = 20)\n",
    "dev.off()"
   ]
  },
  {
   "cell_type": "code",
   "execution_count": 6,
   "metadata": {
    "collapsed": false
   },
   "outputs": [
    {
     "data": {
      "text/html": [
       "<strong>pdf:</strong> 2"
      ],
      "text/latex": [
       "\\textbf{pdf:} 2"
      ],
      "text/markdown": [
       "**pdf:** 2"
      ],
      "text/plain": [
       "pdf \n",
       "  2 "
      ]
     },
     "metadata": {},
     "output_type": "display_data"
    }
   ],
   "source": [
    "pdf('correlation_microb.pdf', width=50, height=40)\n",
    "textMatrix = paste(signif(moduleTraitCor_microb, 2), '\\n(', signif(moduleTraitPvalue_microb, 1), ')', sep='')\n",
    "dim(textMatrix) = dim(moduleTraitCor_microb)\n",
    "par(mar=c(30, 30, 10, 10)) # set margins\n",
    "# display the correlation values within a heatmap plot\n",
    "labeledHeatmap(Matrix=moduleTraitCor_microb, xLabels=names(trait), \n",
    "               yLabels=names(MEs_microb), ySymbols=names(MEs_microb),\n",
    "               colorLabels=FALSE, colors=greenWhiteRed(50), textMatrix=textMatrix, setStdMargins=FALSE,\n",
    "               cex.text=3, zlim=c(-1,1), main=paste('Microb Module-Variables relationships'),\n",
    "               xColorWidth = 0.5, cex.main=5, cex.lab=3, xLabelsAngle = 20)\n",
    "dev.off()"
   ]
  },
  {
   "cell_type": "code",
   "execution_count": 7,
   "metadata": {
    "collapsed": true
   },
   "outputs": [],
   "source": [
    "########## correlation between Metab and Microb modules #########"
   ]
  },
  {
   "cell_type": "code",
   "execution_count": 78,
   "metadata": {
    "collapsed": false
   },
   "outputs": [],
   "source": [
    "#pick interesting modules based on associations with metadata\n",
    "int_MEs_metab=MEs_metab[, c('MElightcyan', 'MEbrown', 'MEpink', 'MEyellow','MEpurple','MEorange')]\n",
    "int_MEs_microb=MEs_microb[, c('MEgreen', 'MEblue', 'MEturquoise', 'MElightcyan','MEred','MEyellow')]"
   ]
  },
  {
   "cell_type": "code",
   "execution_count": 79,
   "metadata": {
    "collapsed": true
   },
   "outputs": [],
   "source": [
    "# define numbers of genes and samples (same samples for Metab and Microb)\n",
    "moduleTraitCor = cor(int_MEs_metab, int_MEs_microb, use='p')\n",
    "moduleTraitPvalue = corPvalueStudent(moduleTraitCor, nSamples_metab)"
   ]
  },
  {
   "cell_type": "code",
   "execution_count": 80,
   "metadata": {
    "collapsed": false
   },
   "outputs": [
    {
     "data": {
      "text/html": [
       "<strong>pdf:</strong> 2"
      ],
      "text/latex": [
       "\\textbf{pdf:} 2"
      ],
      "text/markdown": [
       "**pdf:** 2"
      ],
      "text/plain": [
       "pdf \n",
       "  2 "
      ]
     },
     "metadata": {},
     "output_type": "display_data"
    }
   ],
   "source": [
    "pdf('correlation_interesting_MM.pdf', width=50, height=30)\n",
    "textMatrix = paste(signif(moduleTraitCor, 2), '\\n(', signif(moduleTraitPvalue, 1), ')', sep='')\n",
    "dim(textMatrix) = dim(moduleTraitCor)\n",
    "par(mar=c(20, 30, 10, 10)) # set margins\n",
    "labeledHeatmap(Matrix=moduleTraitCor, xLabels=names(int_MEs_microb), yLabels=names(int_MEs_metab), \n",
    "               ySymbols=names(int_MEs_metab),xSymbols=names(int_MEs_microb),colorLabels=TRUE, colors=greenWhiteRed(50), \n",
    "               textMatrix=textMatrix, setStdMargins=FALSE,\n",
    "               cex.text=2, zlim=c(-1,1), main=paste('Metab-Microb Modules Correlations'),\n",
    "               xColorWidth = 0.1, cex.main=5, cex.lab=3, xLabelsAngle = 20)\n",
    "dev.off()"
   ]
  },
  {
   "cell_type": "code",
   "execution_count": 66,
   "metadata": {
    "collapsed": false
   },
   "outputs": [],
   "source": [
    "save(MEs_metab, moduleTraitCor_metab, moduleTraitPvalue_metab, \n",
    "     file='Haddad_metab_correlation.RData')\n",
    "save(MEs_microb, moduleTraitCor_microb, moduleTraitPvalue_microb, \n",
    "     file='Haddad_microb_correlation.RData')"
   ]
  },
  {
   "cell_type": "code",
   "execution_count": 38,
   "metadata": {
    "collapsed": true
   },
   "outputs": [],
   "source": [
    "########### see specific metabs or microbes within each module ##########"
   ]
  },
  {
   "cell_type": "code",
   "execution_count": 7,
   "metadata": {
    "collapsed": false
   },
   "outputs": [
    {
     "name": "stdout",
     "output_type": "stream",
     "text": [
      "moduleColors_metab\n",
      "        black          blue         brown          cyan     darkgreen \n",
      "           96           312           195            66            51 \n",
      "     darkgrey    darkorange       darkred darkturquoise         green \n",
      "           46            37            51            47           109 \n",
      "  greenyellow          grey        grey60     lightcyan    lightgreen \n",
      "           77          1068            64            65            62 \n",
      "  lightyellow       magenta  midnightblue        orange          pink \n",
      "           57            82            65            43            92 \n",
      "       purple           red     royalblue        salmon       skyblue \n",
      "           79           108            55            68            31 \n",
      "          tan     turquoise         white        yellow \n",
      "           70           333            36           111 \n",
      "moduleColors_microb\n",
      "       black         blue        brown         cyan        green  greenyellow \n",
      "          59           93           82           40           67           46 \n",
      "        grey       grey60    lightcyan   lightgreen  lightyellow      magenta \n",
      "        1242           33           37           31           30           50 \n",
      "midnightblue         pink       purple          red       salmon          tan \n",
      "          38           51           50           62           46           46 \n",
      "   turquoise       yellow \n",
      "         142           72 \n"
     ]
    }
   ],
   "source": [
    "print(table(moduleColors_metab))\n",
    "print(table(moduleColors_microb))"
   ]
  },
  {
   "cell_type": "markdown",
   "metadata": {},
   "source": [
    "## pairwise correlaation between members of lightcyan (microb) and purple (metab)"
   ]
  },
  {
   "cell_type": "code",
   "execution_count": 81,
   "metadata": {
    "collapsed": false
   },
   "outputs": [
    {
     "data": {
      "text/html": [
       "<ol class=list-inline>\n",
       "\t<li>'k__Bacteria..p__Firmicutes..c__Clostridia..o__Clostridiales..f__Clostridiaceae..g__..s__id268733'</li>\n",
       "\t<li>'k__Bacteria..p__Firmicutes..c__Clostridia..o__Clostridiales..f__Clostridiaceae..g__Sarcina..s__id300662'</li>\n",
       "\t<li>'k__Bacteria..p__Firmicutes..c__Clostridia..o__Clostridiales..f__Clostridiaceae..g__..s__id182643'</li>\n",
       "\t<li>'k__Bacteria..p__Firmicutes..c__Clostridia..o__Clostridiales..f__Clostridiaceae..g__..s__id4446320'</li>\n",
       "\t<li>'k__Bacteria..p__Firmicutes..c__Clostridia..o__Clostridiales..f__Clostridiaceae..g__..s__id4454432'</li>\n",
       "\t<li>'k__Bacteria..p__Firmicutes..c__Clostridia..o__Clostridiales..f__Ruminococcaceae..g__..s__id276044'</li>\n",
       "\t<li>'k__Bacteria..p__Firmicutes..c__Clostridia..o__Clostridiales..f__Clostridiaceae..g__..s__id342666'</li>\n",
       "\t<li>'k__Bacteria..p__Firmicutes..c__Clostridia..o__Clostridiales..f__Clostridiaceae..g__..s__id190637'</li>\n",
       "\t<li>'k__Bacteria..p__Firmicutes..c__Clostridia..o__Clostridiales..f__Lachnospiraceae..g__Epulopiscium..s__id4371562'</li>\n",
       "\t<li>'k__Bacteria..p__Firmicutes..c__Clostridia..o__Clostridiales..f__Clostridiaceae..g__02d06..s__id196391'</li>\n",
       "\t<li>'k__Bacteria..p__Firmicutes..c__Clostridia..o__Clostridiales..f__Lachnospiraceae..g__..s__id3392842'</li>\n",
       "\t<li>'k__Bacteria..p__Firmicutes..c__Clostridia..o__Clostridiales..f__Clostridiaceae..g__Clostridium..s__celatumid4315688'</li>\n",
       "\t<li>'k__Bacteria..p__Firmicutes..c__Clostridia..o__Clostridiales..f__Clostridiaceae..g__..s__id4481624'</li>\n",
       "\t<li>'k__Bacteria..p__Firmicutes..c__Clostridia..o__Clostridiales..f__Clostridiaceae..g__..s__id4325836'</li>\n",
       "\t<li>'k__Bacteria..p__Firmicutes..c__Clostridia..o__Clostridiales..f__..g__..s__id270448'</li>\n",
       "\t<li>'k__Bacteria..p__Proteobacteria..c__Gammaproteobacteria..o__Alteromonadales..f__..g__..s__id110549'</li>\n",
       "\t<li>'k__Bacteria..p__Firmicutes..c__Clostridia..o__Clostridiales..f__Lachnospiraceae..g__Dorea..s__id4421128'</li>\n",
       "\t<li>'k__Bacteria..p__Firmicutes..c__Clostridia..o__Clostridiales..f__..g__..s__id277067'</li>\n",
       "\t<li>'k__Bacteria..p__Proteobacteria..c__Betaproteobacteria..o__Burkholderiales..f__..g__..s__id4445604'</li>\n",
       "\t<li>'k__Bacteria..p__Actinobacteria..c__OPB41..o__..f__..g__..s__id268199'</li>\n",
       "\t<li>'k__Bacteria..p__Firmicutes..c__Clostridia..o__Clostridiales..f__Ruminococcaceae..g__..s__id1105016'</li>\n",
       "\t<li>'k__Bacteria..p__Firmicutes..c__Clostridia..o__Clostridiales..f__Clostridiaceae..g__..s__id4482516'</li>\n",
       "\t<li>'k__Bacteria..p__Actinobacteria..c__Actinobacteria..o__Actinomycetales..f__ACK.M1..g__..s__id807614'</li>\n",
       "\t<li>'k__Bacteria..p__Firmicutes..c__Clostridia..o__Clostridiales..f__..g__..s__id188457'</li>\n",
       "\t<li>'k__Bacteria..p__Proteobacteria..c__Alphaproteobacteria..o__Sphingomonadales..f__Sphingomonadaceae..g__Kaistobacter..s__id249385'</li>\n",
       "\t<li>'k__Bacteria..p__Proteobacteria..c__Gammaproteobacteria..o__Legionellales..f__Legionellaceae..g__..s__id843964'</li>\n",
       "\t<li>'k__Bacteria..p__Firmicutes..c__Clostridia..o__Clostridiales..f__..g__..s__id4393892'</li>\n",
       "\t<li>'k__Bacteria..p__Proteobacteria..c__Alphaproteobacteria..o__Rhodobacterales..f__Rhodobacteraceae..g__Rhodobacter..s__id4300152'</li>\n",
       "\t<li>'k__Bacteria..p__Proteobacteria..c__Betaproteobacteria..o__Rhodocyclales..f__Rhodocyclaceae..g__Zoogloea..s__id584010'</li>\n",
       "\t<li>'k__Bacteria..p__Proteobacteria..c__Alphaproteobacteria..o__Rhodobacterales..f__Rhodobacteraceae..g__Rhodobacter..s__id321409'</li>\n",
       "\t<li>'k__Archaea..p__Euryarchaeota..c__Methanomicrobia..o__Methanosarcinales..f__Methanosarcinaceae..g__Methanosarcina..s__id592689'</li>\n",
       "\t<li>'k__Bacteria..p__Verrucomicrobia..c__Verrucomicrobiae..o__Verrucomicrobiales..f__Verrucomicrobiaceae..g__Luteolibacter..s__id145278'</li>\n",
       "\t<li>'k__Bacteria..p__Cyanobacteria..c__Chloroplast..o__Stramenopiles..f__..g__..s__id317660'</li>\n",
       "\t<li>'k__Bacteria..p__Firmicutes..c__Clostridia..o__Clostridiales..f__Clostridiaceae..g__..s__id4347265'</li>\n",
       "\t<li>'k__Bacteria..p__Acidobacteria..c__Acidobacteriia..o__Acidobacteriales..f__Koribacteraceae..g__Candidatus.Koribacter..s__id4354098'</li>\n",
       "\t<li>'k__Bacteria..p__Firmicutes..c__Clostridia..o__Clostridiales..f__Veillonellaceae..g__..s__id4338745'</li>\n",
       "\t<li>'k__Bacteria..p__Proteobacteria..c__Betaproteobacteria..o__Rhodocyclales..f__Rhodocyclaceae..g__Z.35..s__id537083'</li>\n",
       "</ol>\n"
      ],
      "text/latex": [
       "\\begin{enumerate*}\n",
       "\\item 'k\\_\\_Bacteria..p\\_\\_Firmicutes..c\\_\\_Clostridia..o\\_\\_Clostridiales..f\\_\\_Clostridiaceae..g\\_\\_..s\\_\\_id268733'\n",
       "\\item 'k\\_\\_Bacteria..p\\_\\_Firmicutes..c\\_\\_Clostridia..o\\_\\_Clostridiales..f\\_\\_Clostridiaceae..g\\_\\_Sarcina..s\\_\\_id300662'\n",
       "\\item 'k\\_\\_Bacteria..p\\_\\_Firmicutes..c\\_\\_Clostridia..o\\_\\_Clostridiales..f\\_\\_Clostridiaceae..g\\_\\_..s\\_\\_id182643'\n",
       "\\item 'k\\_\\_Bacteria..p\\_\\_Firmicutes..c\\_\\_Clostridia..o\\_\\_Clostridiales..f\\_\\_Clostridiaceae..g\\_\\_..s\\_\\_id4446320'\n",
       "\\item 'k\\_\\_Bacteria..p\\_\\_Firmicutes..c\\_\\_Clostridia..o\\_\\_Clostridiales..f\\_\\_Clostridiaceae..g\\_\\_..s\\_\\_id4454432'\n",
       "\\item 'k\\_\\_Bacteria..p\\_\\_Firmicutes..c\\_\\_Clostridia..o\\_\\_Clostridiales..f\\_\\_Ruminococcaceae..g\\_\\_..s\\_\\_id276044'\n",
       "\\item 'k\\_\\_Bacteria..p\\_\\_Firmicutes..c\\_\\_Clostridia..o\\_\\_Clostridiales..f\\_\\_Clostridiaceae..g\\_\\_..s\\_\\_id342666'\n",
       "\\item 'k\\_\\_Bacteria..p\\_\\_Firmicutes..c\\_\\_Clostridia..o\\_\\_Clostridiales..f\\_\\_Clostridiaceae..g\\_\\_..s\\_\\_id190637'\n",
       "\\item 'k\\_\\_Bacteria..p\\_\\_Firmicutes..c\\_\\_Clostridia..o\\_\\_Clostridiales..f\\_\\_Lachnospiraceae..g\\_\\_Epulopiscium..s\\_\\_id4371562'\n",
       "\\item 'k\\_\\_Bacteria..p\\_\\_Firmicutes..c\\_\\_Clostridia..o\\_\\_Clostridiales..f\\_\\_Clostridiaceae..g\\_\\_02d06..s\\_\\_id196391'\n",
       "\\item 'k\\_\\_Bacteria..p\\_\\_Firmicutes..c\\_\\_Clostridia..o\\_\\_Clostridiales..f\\_\\_Lachnospiraceae..g\\_\\_..s\\_\\_id3392842'\n",
       "\\item 'k\\_\\_Bacteria..p\\_\\_Firmicutes..c\\_\\_Clostridia..o\\_\\_Clostridiales..f\\_\\_Clostridiaceae..g\\_\\_Clostridium..s\\_\\_celatumid4315688'\n",
       "\\item 'k\\_\\_Bacteria..p\\_\\_Firmicutes..c\\_\\_Clostridia..o\\_\\_Clostridiales..f\\_\\_Clostridiaceae..g\\_\\_..s\\_\\_id4481624'\n",
       "\\item 'k\\_\\_Bacteria..p\\_\\_Firmicutes..c\\_\\_Clostridia..o\\_\\_Clostridiales..f\\_\\_Clostridiaceae..g\\_\\_..s\\_\\_id4325836'\n",
       "\\item 'k\\_\\_Bacteria..p\\_\\_Firmicutes..c\\_\\_Clostridia..o\\_\\_Clostridiales..f\\_\\_..g\\_\\_..s\\_\\_id270448'\n",
       "\\item 'k\\_\\_Bacteria..p\\_\\_Proteobacteria..c\\_\\_Gammaproteobacteria..o\\_\\_Alteromonadales..f\\_\\_..g\\_\\_..s\\_\\_id110549'\n",
       "\\item 'k\\_\\_Bacteria..p\\_\\_Firmicutes..c\\_\\_Clostridia..o\\_\\_Clostridiales..f\\_\\_Lachnospiraceae..g\\_\\_Dorea..s\\_\\_id4421128'\n",
       "\\item 'k\\_\\_Bacteria..p\\_\\_Firmicutes..c\\_\\_Clostridia..o\\_\\_Clostridiales..f\\_\\_..g\\_\\_..s\\_\\_id277067'\n",
       "\\item 'k\\_\\_Bacteria..p\\_\\_Proteobacteria..c\\_\\_Betaproteobacteria..o\\_\\_Burkholderiales..f\\_\\_..g\\_\\_..s\\_\\_id4445604'\n",
       "\\item 'k\\_\\_Bacteria..p\\_\\_Actinobacteria..c\\_\\_OPB41..o\\_\\_..f\\_\\_..g\\_\\_..s\\_\\_id268199'\n",
       "\\item 'k\\_\\_Bacteria..p\\_\\_Firmicutes..c\\_\\_Clostridia..o\\_\\_Clostridiales..f\\_\\_Ruminococcaceae..g\\_\\_..s\\_\\_id1105016'\n",
       "\\item 'k\\_\\_Bacteria..p\\_\\_Firmicutes..c\\_\\_Clostridia..o\\_\\_Clostridiales..f\\_\\_Clostridiaceae..g\\_\\_..s\\_\\_id4482516'\n",
       "\\item 'k\\_\\_Bacteria..p\\_\\_Actinobacteria..c\\_\\_Actinobacteria..o\\_\\_Actinomycetales..f\\_\\_ACK.M1..g\\_\\_..s\\_\\_id807614'\n",
       "\\item 'k\\_\\_Bacteria..p\\_\\_Firmicutes..c\\_\\_Clostridia..o\\_\\_Clostridiales..f\\_\\_..g\\_\\_..s\\_\\_id188457'\n",
       "\\item 'k\\_\\_Bacteria..p\\_\\_Proteobacteria..c\\_\\_Alphaproteobacteria..o\\_\\_Sphingomonadales..f\\_\\_Sphingomonadaceae..g\\_\\_Kaistobacter..s\\_\\_id249385'\n",
       "\\item 'k\\_\\_Bacteria..p\\_\\_Proteobacteria..c\\_\\_Gammaproteobacteria..o\\_\\_Legionellales..f\\_\\_Legionellaceae..g\\_\\_..s\\_\\_id843964'\n",
       "\\item 'k\\_\\_Bacteria..p\\_\\_Firmicutes..c\\_\\_Clostridia..o\\_\\_Clostridiales..f\\_\\_..g\\_\\_..s\\_\\_id4393892'\n",
       "\\item 'k\\_\\_Bacteria..p\\_\\_Proteobacteria..c\\_\\_Alphaproteobacteria..o\\_\\_Rhodobacterales..f\\_\\_Rhodobacteraceae..g\\_\\_Rhodobacter..s\\_\\_id4300152'\n",
       "\\item 'k\\_\\_Bacteria..p\\_\\_Proteobacteria..c\\_\\_Betaproteobacteria..o\\_\\_Rhodocyclales..f\\_\\_Rhodocyclaceae..g\\_\\_Zoogloea..s\\_\\_id584010'\n",
       "\\item 'k\\_\\_Bacteria..p\\_\\_Proteobacteria..c\\_\\_Alphaproteobacteria..o\\_\\_Rhodobacterales..f\\_\\_Rhodobacteraceae..g\\_\\_Rhodobacter..s\\_\\_id321409'\n",
       "\\item 'k\\_\\_Archaea..p\\_\\_Euryarchaeota..c\\_\\_Methanomicrobia..o\\_\\_Methanosarcinales..f\\_\\_Methanosarcinaceae..g\\_\\_Methanosarcina..s\\_\\_id592689'\n",
       "\\item 'k\\_\\_Bacteria..p\\_\\_Verrucomicrobia..c\\_\\_Verrucomicrobiae..o\\_\\_Verrucomicrobiales..f\\_\\_Verrucomicrobiaceae..g\\_\\_Luteolibacter..s\\_\\_id145278'\n",
       "\\item 'k\\_\\_Bacteria..p\\_\\_Cyanobacteria..c\\_\\_Chloroplast..o\\_\\_Stramenopiles..f\\_\\_..g\\_\\_..s\\_\\_id317660'\n",
       "\\item 'k\\_\\_Bacteria..p\\_\\_Firmicutes..c\\_\\_Clostridia..o\\_\\_Clostridiales..f\\_\\_Clostridiaceae..g\\_\\_..s\\_\\_id4347265'\n",
       "\\item 'k\\_\\_Bacteria..p\\_\\_Acidobacteria..c\\_\\_Acidobacteriia..o\\_\\_Acidobacteriales..f\\_\\_Koribacteraceae..g\\_\\_Candidatus.Koribacter..s\\_\\_id4354098'\n",
       "\\item 'k\\_\\_Bacteria..p\\_\\_Firmicutes..c\\_\\_Clostridia..o\\_\\_Clostridiales..f\\_\\_Veillonellaceae..g\\_\\_..s\\_\\_id4338745'\n",
       "\\item 'k\\_\\_Bacteria..p\\_\\_Proteobacteria..c\\_\\_Betaproteobacteria..o\\_\\_Rhodocyclales..f\\_\\_Rhodocyclaceae..g\\_\\_Z.35..s\\_\\_id537083'\n",
       "\\end{enumerate*}\n"
      ],
      "text/markdown": [
       "1. 'k__Bacteria..p__Firmicutes..c__Clostridia..o__Clostridiales..f__Clostridiaceae..g__..s__id268733'\n",
       "2. 'k__Bacteria..p__Firmicutes..c__Clostridia..o__Clostridiales..f__Clostridiaceae..g__Sarcina..s__id300662'\n",
       "3. 'k__Bacteria..p__Firmicutes..c__Clostridia..o__Clostridiales..f__Clostridiaceae..g__..s__id182643'\n",
       "4. 'k__Bacteria..p__Firmicutes..c__Clostridia..o__Clostridiales..f__Clostridiaceae..g__..s__id4446320'\n",
       "5. 'k__Bacteria..p__Firmicutes..c__Clostridia..o__Clostridiales..f__Clostridiaceae..g__..s__id4454432'\n",
       "6. 'k__Bacteria..p__Firmicutes..c__Clostridia..o__Clostridiales..f__Ruminococcaceae..g__..s__id276044'\n",
       "7. 'k__Bacteria..p__Firmicutes..c__Clostridia..o__Clostridiales..f__Clostridiaceae..g__..s__id342666'\n",
       "8. 'k__Bacteria..p__Firmicutes..c__Clostridia..o__Clostridiales..f__Clostridiaceae..g__..s__id190637'\n",
       "9. 'k__Bacteria..p__Firmicutes..c__Clostridia..o__Clostridiales..f__Lachnospiraceae..g__Epulopiscium..s__id4371562'\n",
       "10. 'k__Bacteria..p__Firmicutes..c__Clostridia..o__Clostridiales..f__Clostridiaceae..g__02d06..s__id196391'\n",
       "11. 'k__Bacteria..p__Firmicutes..c__Clostridia..o__Clostridiales..f__Lachnospiraceae..g__..s__id3392842'\n",
       "12. 'k__Bacteria..p__Firmicutes..c__Clostridia..o__Clostridiales..f__Clostridiaceae..g__Clostridium..s__celatumid4315688'\n",
       "13. 'k__Bacteria..p__Firmicutes..c__Clostridia..o__Clostridiales..f__Clostridiaceae..g__..s__id4481624'\n",
       "14. 'k__Bacteria..p__Firmicutes..c__Clostridia..o__Clostridiales..f__Clostridiaceae..g__..s__id4325836'\n",
       "15. 'k__Bacteria..p__Firmicutes..c__Clostridia..o__Clostridiales..f__..g__..s__id270448'\n",
       "16. 'k__Bacteria..p__Proteobacteria..c__Gammaproteobacteria..o__Alteromonadales..f__..g__..s__id110549'\n",
       "17. 'k__Bacteria..p__Firmicutes..c__Clostridia..o__Clostridiales..f__Lachnospiraceae..g__Dorea..s__id4421128'\n",
       "18. 'k__Bacteria..p__Firmicutes..c__Clostridia..o__Clostridiales..f__..g__..s__id277067'\n",
       "19. 'k__Bacteria..p__Proteobacteria..c__Betaproteobacteria..o__Burkholderiales..f__..g__..s__id4445604'\n",
       "20. 'k__Bacteria..p__Actinobacteria..c__OPB41..o__..f__..g__..s__id268199'\n",
       "21. 'k__Bacteria..p__Firmicutes..c__Clostridia..o__Clostridiales..f__Ruminococcaceae..g__..s__id1105016'\n",
       "22. 'k__Bacteria..p__Firmicutes..c__Clostridia..o__Clostridiales..f__Clostridiaceae..g__..s__id4482516'\n",
       "23. 'k__Bacteria..p__Actinobacteria..c__Actinobacteria..o__Actinomycetales..f__ACK.M1..g__..s__id807614'\n",
       "24. 'k__Bacteria..p__Firmicutes..c__Clostridia..o__Clostridiales..f__..g__..s__id188457'\n",
       "25. 'k__Bacteria..p__Proteobacteria..c__Alphaproteobacteria..o__Sphingomonadales..f__Sphingomonadaceae..g__Kaistobacter..s__id249385'\n",
       "26. 'k__Bacteria..p__Proteobacteria..c__Gammaproteobacteria..o__Legionellales..f__Legionellaceae..g__..s__id843964'\n",
       "27. 'k__Bacteria..p__Firmicutes..c__Clostridia..o__Clostridiales..f__..g__..s__id4393892'\n",
       "28. 'k__Bacteria..p__Proteobacteria..c__Alphaproteobacteria..o__Rhodobacterales..f__Rhodobacteraceae..g__Rhodobacter..s__id4300152'\n",
       "29. 'k__Bacteria..p__Proteobacteria..c__Betaproteobacteria..o__Rhodocyclales..f__Rhodocyclaceae..g__Zoogloea..s__id584010'\n",
       "30. 'k__Bacteria..p__Proteobacteria..c__Alphaproteobacteria..o__Rhodobacterales..f__Rhodobacteraceae..g__Rhodobacter..s__id321409'\n",
       "31. 'k__Archaea..p__Euryarchaeota..c__Methanomicrobia..o__Methanosarcinales..f__Methanosarcinaceae..g__Methanosarcina..s__id592689'\n",
       "32. 'k__Bacteria..p__Verrucomicrobia..c__Verrucomicrobiae..o__Verrucomicrobiales..f__Verrucomicrobiaceae..g__Luteolibacter..s__id145278'\n",
       "33. 'k__Bacteria..p__Cyanobacteria..c__Chloroplast..o__Stramenopiles..f__..g__..s__id317660'\n",
       "34. 'k__Bacteria..p__Firmicutes..c__Clostridia..o__Clostridiales..f__Clostridiaceae..g__..s__id4347265'\n",
       "35. 'k__Bacteria..p__Acidobacteria..c__Acidobacteriia..o__Acidobacteriales..f__Koribacteraceae..g__Candidatus.Koribacter..s__id4354098'\n",
       "36. 'k__Bacteria..p__Firmicutes..c__Clostridia..o__Clostridiales..f__Veillonellaceae..g__..s__id4338745'\n",
       "37. 'k__Bacteria..p__Proteobacteria..c__Betaproteobacteria..o__Rhodocyclales..f__Rhodocyclaceae..g__Z.35..s__id537083'\n",
       "\n",
       "\n"
      ],
      "text/plain": [
       " [1] \"k__Bacteria..p__Firmicutes..c__Clostridia..o__Clostridiales..f__Clostridiaceae..g__..s__id268733\"                                  \n",
       " [2] \"k__Bacteria..p__Firmicutes..c__Clostridia..o__Clostridiales..f__Clostridiaceae..g__Sarcina..s__id300662\"                           \n",
       " [3] \"k__Bacteria..p__Firmicutes..c__Clostridia..o__Clostridiales..f__Clostridiaceae..g__..s__id182643\"                                  \n",
       " [4] \"k__Bacteria..p__Firmicutes..c__Clostridia..o__Clostridiales..f__Clostridiaceae..g__..s__id4446320\"                                 \n",
       " [5] \"k__Bacteria..p__Firmicutes..c__Clostridia..o__Clostridiales..f__Clostridiaceae..g__..s__id4454432\"                                 \n",
       " [6] \"k__Bacteria..p__Firmicutes..c__Clostridia..o__Clostridiales..f__Ruminococcaceae..g__..s__id276044\"                                 \n",
       " [7] \"k__Bacteria..p__Firmicutes..c__Clostridia..o__Clostridiales..f__Clostridiaceae..g__..s__id342666\"                                  \n",
       " [8] \"k__Bacteria..p__Firmicutes..c__Clostridia..o__Clostridiales..f__Clostridiaceae..g__..s__id190637\"                                  \n",
       " [9] \"k__Bacteria..p__Firmicutes..c__Clostridia..o__Clostridiales..f__Lachnospiraceae..g__Epulopiscium..s__id4371562\"                    \n",
       "[10] \"k__Bacteria..p__Firmicutes..c__Clostridia..o__Clostridiales..f__Clostridiaceae..g__02d06..s__id196391\"                             \n",
       "[11] \"k__Bacteria..p__Firmicutes..c__Clostridia..o__Clostridiales..f__Lachnospiraceae..g__..s__id3392842\"                                \n",
       "[12] \"k__Bacteria..p__Firmicutes..c__Clostridia..o__Clostridiales..f__Clostridiaceae..g__Clostridium..s__celatumid4315688\"               \n",
       "[13] \"k__Bacteria..p__Firmicutes..c__Clostridia..o__Clostridiales..f__Clostridiaceae..g__..s__id4481624\"                                 \n",
       "[14] \"k__Bacteria..p__Firmicutes..c__Clostridia..o__Clostridiales..f__Clostridiaceae..g__..s__id4325836\"                                 \n",
       "[15] \"k__Bacteria..p__Firmicutes..c__Clostridia..o__Clostridiales..f__..g__..s__id270448\"                                                \n",
       "[16] \"k__Bacteria..p__Proteobacteria..c__Gammaproteobacteria..o__Alteromonadales..f__..g__..s__id110549\"                                 \n",
       "[17] \"k__Bacteria..p__Firmicutes..c__Clostridia..o__Clostridiales..f__Lachnospiraceae..g__Dorea..s__id4421128\"                           \n",
       "[18] \"k__Bacteria..p__Firmicutes..c__Clostridia..o__Clostridiales..f__..g__..s__id277067\"                                                \n",
       "[19] \"k__Bacteria..p__Proteobacteria..c__Betaproteobacteria..o__Burkholderiales..f__..g__..s__id4445604\"                                 \n",
       "[20] \"k__Bacteria..p__Actinobacteria..c__OPB41..o__..f__..g__..s__id268199\"                                                              \n",
       "[21] \"k__Bacteria..p__Firmicutes..c__Clostridia..o__Clostridiales..f__Ruminococcaceae..g__..s__id1105016\"                                \n",
       "[22] \"k__Bacteria..p__Firmicutes..c__Clostridia..o__Clostridiales..f__Clostridiaceae..g__..s__id4482516\"                                 \n",
       "[23] \"k__Bacteria..p__Actinobacteria..c__Actinobacteria..o__Actinomycetales..f__ACK.M1..g__..s__id807614\"                                \n",
       "[24] \"k__Bacteria..p__Firmicutes..c__Clostridia..o__Clostridiales..f__..g__..s__id188457\"                                                \n",
       "[25] \"k__Bacteria..p__Proteobacteria..c__Alphaproteobacteria..o__Sphingomonadales..f__Sphingomonadaceae..g__Kaistobacter..s__id249385\"   \n",
       "[26] \"k__Bacteria..p__Proteobacteria..c__Gammaproteobacteria..o__Legionellales..f__Legionellaceae..g__..s__id843964\"                     \n",
       "[27] \"k__Bacteria..p__Firmicutes..c__Clostridia..o__Clostridiales..f__..g__..s__id4393892\"                                               \n",
       "[28] \"k__Bacteria..p__Proteobacteria..c__Alphaproteobacteria..o__Rhodobacterales..f__Rhodobacteraceae..g__Rhodobacter..s__id4300152\"     \n",
       "[29] \"k__Bacteria..p__Proteobacteria..c__Betaproteobacteria..o__Rhodocyclales..f__Rhodocyclaceae..g__Zoogloea..s__id584010\"              \n",
       "[30] \"k__Bacteria..p__Proteobacteria..c__Alphaproteobacteria..o__Rhodobacterales..f__Rhodobacteraceae..g__Rhodobacter..s__id321409\"      \n",
       "[31] \"k__Archaea..p__Euryarchaeota..c__Methanomicrobia..o__Methanosarcinales..f__Methanosarcinaceae..g__Methanosarcina..s__id592689\"     \n",
       "[32] \"k__Bacteria..p__Verrucomicrobia..c__Verrucomicrobiae..o__Verrucomicrobiales..f__Verrucomicrobiaceae..g__Luteolibacter..s__id145278\"\n",
       "[33] \"k__Bacteria..p__Cyanobacteria..c__Chloroplast..o__Stramenopiles..f__..g__..s__id317660\"                                            \n",
       "[34] \"k__Bacteria..p__Firmicutes..c__Clostridia..o__Clostridiales..f__Clostridiaceae..g__..s__id4347265\"                                 \n",
       "[35] \"k__Bacteria..p__Acidobacteria..c__Acidobacteriia..o__Acidobacteriales..f__Koribacteraceae..g__Candidatus.Koribacter..s__id4354098\" \n",
       "[36] \"k__Bacteria..p__Firmicutes..c__Clostridia..o__Clostridiales..f__Veillonellaceae..g__..s__id4338745\"                                \n",
       "[37] \"k__Bacteria..p__Proteobacteria..c__Betaproteobacteria..o__Rhodocyclales..f__Rhodocyclaceae..g__Z.35..s__id537083\"                  "
      ]
     },
     "metadata": {},
     "output_type": "display_data"
    }
   ],
   "source": [
    "microb_lc = names(dat_microb)[moduleColors_microb == 'lightcyan']\n",
    "microb_lc"
   ]
  },
  {
   "cell_type": "code",
   "execution_count": 83,
   "metadata": {
    "collapsed": false
   },
   "outputs": [
    {
     "data": {
      "text/html": [
       "<ol class=list-inline>\n",
       "\t<li>'X12.S..Hydroxy.16.heptadecynoic.acid_265.2_348.3'</li>\n",
       "\t<li>'X20.6489735772358_155.054001629239'</li>\n",
       "\t<li>'X20.0305406504065_185.065251997431'</li>\n",
       "\t<li>'X13.14.Dihydro.15.ketoprostaglandin.D1_220.1_358.3'</li>\n",
       "\t<li>'Traumatic.Acid_225.0_356.3'</li>\n",
       "\t<li>'X9.10..EpOME_297.6_340.3'</li>\n",
       "\t<li>'X12.S..Hydroxy.16.heptadecynoic.acid_262.7_362.3'</li>\n",
       "\t<li>'X8.9..EET.methyl.ester_316.3_332.3'</li>\n",
       "\t<li>'ReSpect.PM018114.Sinapoylmalate_204.6_364.3'</li>\n",
       "\t<li>'X15.OxoETE_319.7_326.3'</li>\n",
       "\t<li>'X9.S..HpOTrE_292.6_342.3'</li>\n",
       "\t<li>'X5.Z..8.Z..11.Z..Eicosatrienoic.acid.methyl.ester_321.9_429.3'</li>\n",
       "\t<li>'Dihydrokavain_232.6_320.2'</li>\n",
       "\t<li>'Dodecanedioic.acid_214.6_345.2'</li>\n",
       "\t<li>'Dodecanedioic.acid_230.2_354.3'</li>\n",
       "\t<li>'Azelaic.acid_189.2_374.3'</li>\n",
       "\t<li>'ReSpect.PM018114.Sinapoylmalate_198.3_342.3'</li>\n",
       "\t<li>'Jasmine.lactone_196.0_330.3'</li>\n",
       "\t<li>'X2.Butanone..4..2.6.6.trimethyl.2.cyclohexen.1.yl.._178.2_326.1'</li>\n",
       "\t<li>'X20.0671541095891_201.038588682285'</li>\n",
       "\t<li>'Jasmine.lactone_196.6_372.3'</li>\n",
       "\t<li>'X...Equol_239.4_318.2'</li>\n",
       "\t<li>'Dihydrokavain_233.0_422.2'</li>\n",
       "\t<li>'X13.14.Dihydro.15.ketoprostaglandin.D1_220.6_372.3'</li>\n",
       "\t<li>'Linoleoyl.ethanolamide_322.8_149.0'</li>\n",
       "\t<li>'X2.Butanone..4..2.6.6.trimethyl.2.cyclohexen.1.yl.._181.5_332.1'</li>\n",
       "\t<li>'Artemisinin_305.1_427.3'</li>\n",
       "\t<li>'Traumatic.Acid_224.9_370.3'</li>\n",
       "\t<li>'Azelaic.acid_189.5_381.2'</li>\n",
       "\t<li>'X28.1018510638298_222.079048570206'</li>\n",
       "\t<li>'X5.Z..8.Z..11.Z..Eicosatrienoic.acid.methyl.ester_322.6_411.3'</li>\n",
       "\t<li>'X4..5.Dihydroxy.7.methoxyflavanone_288.1_394.2'</li>\n",
       "\t<li>'Massbank.KNA00389.beta.D.Fructose.1.6.bisphosphate_174.4_336.2'</li>\n",
       "\t<li>'Genipin_208.3_362.3'</li>\n",
       "\t<li>'X15S.Hydroxy.8Z.11Z.13E.eicosatrienoic.acid_305.6_463.3'</li>\n",
       "\t<li>'ReSpect.PM018114.Sinapoylmalate_201.2_306.2'</li>\n",
       "\t<li>'X112.328096_267.10048331358'</li>\n",
       "\t<li>'Dihydrokavain_234.1_369.2'</li>\n",
       "\t<li>'Jasmine.lactone_196.0_344.3'</li>\n",
       "\t<li>'N.3.Oxotetradec.7Z.enoyl.L.homoserine.lactone_306.4_481.3'</li>\n",
       "\t<li>'Dihydrokavain_235.3_388.2'</li>\n",
       "\t<li>'X15S.Hydroxy.8Z.11Z.13E.eicosatrienoic.acid_305.2_304.2'</li>\n",
       "\t<li>'X...Equol_241.8_450.3'</li>\n",
       "\t<li>'X3.Hydroxydodecanoic.acid_217.1_313.2'</li>\n",
       "\t<li>'X2.Butanone..4..2.6.6.trimethyl.2.cyclohexen.1.yl.._179.8_595.7'</li>\n",
       "\t<li>'trans.EKODE..E..Ib_311.7_597.2'</li>\n",
       "\t<li>'X4..5.Dihydroxy.7.methoxyflavanone_288.1_265.6'</li>\n",
       "\t<li>'X9.S..HpOTrE_290.6_356.3'</li>\n",
       "\t<li>'X9.S..HpOTrE_292.1_411.2'</li>\n",
       "\t<li>'Genipin_211.1_356.3'</li>\n",
       "\t<li>'X20.8030520467836_171.076373360314'</li>\n",
       "\t<li>'X4..5.Dihydroxy.7.methoxyflavanone_288.0_309.2'</li>\n",
       "\t<li>'X9.S..HpOTrE_292.9_343.3'</li>\n",
       "\t<li>'X....Perillyl.alcohol_159.3_202.1'</li>\n",
       "\t<li>'Artemisinin_304.9_445.3'</li>\n",
       "\t<li>'ReSpect.PM018114.Sinapoylmalate_204.3_378.3'</li>\n",
       "\t<li>'Dihydrokavain_237.2_632.9'</li>\n",
       "\t<li>'SCLAREOLIDE_245.7_447.7'</li>\n",
       "\t<li>'ReSpect.PM018114.Sinapoylmalate_200.9_370.3'</li>\n",
       "\t<li>'X15S.Hydroxy.8Z.11Z.13E.eicosatrienoic.acid_305.4_305.3'</li>\n",
       "\t<li>'X19.20..EpDPE_326.7_360.3'</li>\n",
       "\t<li>'X114.621704081633_287.200808547777'</li>\n",
       "\t<li>'X2.Butanone..4..2.6.6.trimethyl.2.cyclohexen.1.yl.._181.1_514.2'</li>\n",
       "\t<li>'X9.S..HpOTrE_289.9_408.3'</li>\n",
       "\t<li>'X4..5.Dihydroxy.7.methoxyflavanone_288.2_798.5'</li>\n",
       "\t<li>'X....Malyngolide_272.6_346.3'</li>\n",
       "\t<li>'X21.5805516129032_202.038874043229'</li>\n",
       "\t<li>'X2.Butanone..4..2.6.6.trimethyl.2.cyclohexen.1.yl.._179.7_334.2'</li>\n",
       "\t<li>'X4..5.Dihydroxy.7.methoxyflavanone_287.9_267.6'</li>\n",
       "\t<li>'X2.Butanone..4..2.6.6.trimethyl.2.cyclohexen.1.yl.._177.0_657.3'</li>\n",
       "\t<li>'ReSpect.PM018114.Sinapoylmalate_205.4_443.3'</li>\n",
       "\t<li>'Amitriptyline_278.4_413.3'</li>\n",
       "\t<li>'Genipin_209.4_423.2'</li>\n",
       "\t<li>'Traumatic.Acid_226.0_357.2'</li>\n",
       "\t<li>'X115.294862068966_251.63289853936'</li>\n",
       "\t<li>'X5.Z..8.Z..11.Z..Eicosatrienoic.acid.methyl.ester_322.4_465.3'</li>\n",
       "\t<li>'Genipin_210.5_485.2'</li>\n",
       "\t<li>'Jasmine.lactone_187.8_547.2'</li>\n",
       "\t<li>'X2.Butanone..4..2.6.6.trimethyl.2.cyclohexen.1.yl.._181.4_893.3'</li>\n",
       "</ol>\n"
      ],
      "text/latex": [
       "\\begin{enumerate*}\n",
       "\\item 'X12.S..Hydroxy.16.heptadecynoic.acid\\_265.2\\_348.3'\n",
       "\\item 'X20.6489735772358\\_155.054001629239'\n",
       "\\item 'X20.0305406504065\\_185.065251997431'\n",
       "\\item 'X13.14.Dihydro.15.ketoprostaglandin.D1\\_220.1\\_358.3'\n",
       "\\item 'Traumatic.Acid\\_225.0\\_356.3'\n",
       "\\item 'X9.10..EpOME\\_297.6\\_340.3'\n",
       "\\item 'X12.S..Hydroxy.16.heptadecynoic.acid\\_262.7\\_362.3'\n",
       "\\item 'X8.9..EET.methyl.ester\\_316.3\\_332.3'\n",
       "\\item 'ReSpect.PM018114.Sinapoylmalate\\_204.6\\_364.3'\n",
       "\\item 'X15.OxoETE\\_319.7\\_326.3'\n",
       "\\item 'X9.S..HpOTrE\\_292.6\\_342.3'\n",
       "\\item 'X5.Z..8.Z..11.Z..Eicosatrienoic.acid.methyl.ester\\_321.9\\_429.3'\n",
       "\\item 'Dihydrokavain\\_232.6\\_320.2'\n",
       "\\item 'Dodecanedioic.acid\\_214.6\\_345.2'\n",
       "\\item 'Dodecanedioic.acid\\_230.2\\_354.3'\n",
       "\\item 'Azelaic.acid\\_189.2\\_374.3'\n",
       "\\item 'ReSpect.PM018114.Sinapoylmalate\\_198.3\\_342.3'\n",
       "\\item 'Jasmine.lactone\\_196.0\\_330.3'\n",
       "\\item 'X2.Butanone..4..2.6.6.trimethyl.2.cyclohexen.1.yl..\\_178.2\\_326.1'\n",
       "\\item 'X20.0671541095891\\_201.038588682285'\n",
       "\\item 'Jasmine.lactone\\_196.6\\_372.3'\n",
       "\\item 'X...Equol\\_239.4\\_318.2'\n",
       "\\item 'Dihydrokavain\\_233.0\\_422.2'\n",
       "\\item 'X13.14.Dihydro.15.ketoprostaglandin.D1\\_220.6\\_372.3'\n",
       "\\item 'Linoleoyl.ethanolamide\\_322.8\\_149.0'\n",
       "\\item 'X2.Butanone..4..2.6.6.trimethyl.2.cyclohexen.1.yl..\\_181.5\\_332.1'\n",
       "\\item 'Artemisinin\\_305.1\\_427.3'\n",
       "\\item 'Traumatic.Acid\\_224.9\\_370.3'\n",
       "\\item 'Azelaic.acid\\_189.5\\_381.2'\n",
       "\\item 'X28.1018510638298\\_222.079048570206'\n",
       "\\item 'X5.Z..8.Z..11.Z..Eicosatrienoic.acid.methyl.ester\\_322.6\\_411.3'\n",
       "\\item 'X4..5.Dihydroxy.7.methoxyflavanone\\_288.1\\_394.2'\n",
       "\\item 'Massbank.KNA00389.beta.D.Fructose.1.6.bisphosphate\\_174.4\\_336.2'\n",
       "\\item 'Genipin\\_208.3\\_362.3'\n",
       "\\item 'X15S.Hydroxy.8Z.11Z.13E.eicosatrienoic.acid\\_305.6\\_463.3'\n",
       "\\item 'ReSpect.PM018114.Sinapoylmalate\\_201.2\\_306.2'\n",
       "\\item 'X112.328096\\_267.10048331358'\n",
       "\\item 'Dihydrokavain\\_234.1\\_369.2'\n",
       "\\item 'Jasmine.lactone\\_196.0\\_344.3'\n",
       "\\item 'N.3.Oxotetradec.7Z.enoyl.L.homoserine.lactone\\_306.4\\_481.3'\n",
       "\\item 'Dihydrokavain\\_235.3\\_388.2'\n",
       "\\item 'X15S.Hydroxy.8Z.11Z.13E.eicosatrienoic.acid\\_305.2\\_304.2'\n",
       "\\item 'X...Equol\\_241.8\\_450.3'\n",
       "\\item 'X3.Hydroxydodecanoic.acid\\_217.1\\_313.2'\n",
       "\\item 'X2.Butanone..4..2.6.6.trimethyl.2.cyclohexen.1.yl..\\_179.8\\_595.7'\n",
       "\\item 'trans.EKODE..E..Ib\\_311.7\\_597.2'\n",
       "\\item 'X4..5.Dihydroxy.7.methoxyflavanone\\_288.1\\_265.6'\n",
       "\\item 'X9.S..HpOTrE\\_290.6\\_356.3'\n",
       "\\item 'X9.S..HpOTrE\\_292.1\\_411.2'\n",
       "\\item 'Genipin\\_211.1\\_356.3'\n",
       "\\item 'X20.8030520467836\\_171.076373360314'\n",
       "\\item 'X4..5.Dihydroxy.7.methoxyflavanone\\_288.0\\_309.2'\n",
       "\\item 'X9.S..HpOTrE\\_292.9\\_343.3'\n",
       "\\item 'X....Perillyl.alcohol\\_159.3\\_202.1'\n",
       "\\item 'Artemisinin\\_304.9\\_445.3'\n",
       "\\item 'ReSpect.PM018114.Sinapoylmalate\\_204.3\\_378.3'\n",
       "\\item 'Dihydrokavain\\_237.2\\_632.9'\n",
       "\\item 'SCLAREOLIDE\\_245.7\\_447.7'\n",
       "\\item 'ReSpect.PM018114.Sinapoylmalate\\_200.9\\_370.3'\n",
       "\\item 'X15S.Hydroxy.8Z.11Z.13E.eicosatrienoic.acid\\_305.4\\_305.3'\n",
       "\\item 'X19.20..EpDPE\\_326.7\\_360.3'\n",
       "\\item 'X114.621704081633\\_287.200808547777'\n",
       "\\item 'X2.Butanone..4..2.6.6.trimethyl.2.cyclohexen.1.yl..\\_181.1\\_514.2'\n",
       "\\item 'X9.S..HpOTrE\\_289.9\\_408.3'\n",
       "\\item 'X4..5.Dihydroxy.7.methoxyflavanone\\_288.2\\_798.5'\n",
       "\\item 'X....Malyngolide\\_272.6\\_346.3'\n",
       "\\item 'X21.5805516129032\\_202.038874043229'\n",
       "\\item 'X2.Butanone..4..2.6.6.trimethyl.2.cyclohexen.1.yl..\\_179.7\\_334.2'\n",
       "\\item 'X4..5.Dihydroxy.7.methoxyflavanone\\_287.9\\_267.6'\n",
       "\\item 'X2.Butanone..4..2.6.6.trimethyl.2.cyclohexen.1.yl..\\_177.0\\_657.3'\n",
       "\\item 'ReSpect.PM018114.Sinapoylmalate\\_205.4\\_443.3'\n",
       "\\item 'Amitriptyline\\_278.4\\_413.3'\n",
       "\\item 'Genipin\\_209.4\\_423.2'\n",
       "\\item 'Traumatic.Acid\\_226.0\\_357.2'\n",
       "\\item 'X115.294862068966\\_251.63289853936'\n",
       "\\item 'X5.Z..8.Z..11.Z..Eicosatrienoic.acid.methyl.ester\\_322.4\\_465.3'\n",
       "\\item 'Genipin\\_210.5\\_485.2'\n",
       "\\item 'Jasmine.lactone\\_187.8\\_547.2'\n",
       "\\item 'X2.Butanone..4..2.6.6.trimethyl.2.cyclohexen.1.yl..\\_181.4\\_893.3'\n",
       "\\end{enumerate*}\n"
      ],
      "text/markdown": [
       "1. 'X12.S..Hydroxy.16.heptadecynoic.acid_265.2_348.3'\n",
       "2. 'X20.6489735772358_155.054001629239'\n",
       "3. 'X20.0305406504065_185.065251997431'\n",
       "4. 'X13.14.Dihydro.15.ketoprostaglandin.D1_220.1_358.3'\n",
       "5. 'Traumatic.Acid_225.0_356.3'\n",
       "6. 'X9.10..EpOME_297.6_340.3'\n",
       "7. 'X12.S..Hydroxy.16.heptadecynoic.acid_262.7_362.3'\n",
       "8. 'X8.9..EET.methyl.ester_316.3_332.3'\n",
       "9. 'ReSpect.PM018114.Sinapoylmalate_204.6_364.3'\n",
       "10. 'X15.OxoETE_319.7_326.3'\n",
       "11. 'X9.S..HpOTrE_292.6_342.3'\n",
       "12. 'X5.Z..8.Z..11.Z..Eicosatrienoic.acid.methyl.ester_321.9_429.3'\n",
       "13. 'Dihydrokavain_232.6_320.2'\n",
       "14. 'Dodecanedioic.acid_214.6_345.2'\n",
       "15. 'Dodecanedioic.acid_230.2_354.3'\n",
       "16. 'Azelaic.acid_189.2_374.3'\n",
       "17. 'ReSpect.PM018114.Sinapoylmalate_198.3_342.3'\n",
       "18. 'Jasmine.lactone_196.0_330.3'\n",
       "19. 'X2.Butanone..4..2.6.6.trimethyl.2.cyclohexen.1.yl.._178.2_326.1'\n",
       "20. 'X20.0671541095891_201.038588682285'\n",
       "21. 'Jasmine.lactone_196.6_372.3'\n",
       "22. 'X...Equol_239.4_318.2'\n",
       "23. 'Dihydrokavain_233.0_422.2'\n",
       "24. 'X13.14.Dihydro.15.ketoprostaglandin.D1_220.6_372.3'\n",
       "25. 'Linoleoyl.ethanolamide_322.8_149.0'\n",
       "26. 'X2.Butanone..4..2.6.6.trimethyl.2.cyclohexen.1.yl.._181.5_332.1'\n",
       "27. 'Artemisinin_305.1_427.3'\n",
       "28. 'Traumatic.Acid_224.9_370.3'\n",
       "29. 'Azelaic.acid_189.5_381.2'\n",
       "30. 'X28.1018510638298_222.079048570206'\n",
       "31. 'X5.Z..8.Z..11.Z..Eicosatrienoic.acid.methyl.ester_322.6_411.3'\n",
       "32. 'X4..5.Dihydroxy.7.methoxyflavanone_288.1_394.2'\n",
       "33. 'Massbank.KNA00389.beta.D.Fructose.1.6.bisphosphate_174.4_336.2'\n",
       "34. 'Genipin_208.3_362.3'\n",
       "35. 'X15S.Hydroxy.8Z.11Z.13E.eicosatrienoic.acid_305.6_463.3'\n",
       "36. 'ReSpect.PM018114.Sinapoylmalate_201.2_306.2'\n",
       "37. 'X112.328096_267.10048331358'\n",
       "38. 'Dihydrokavain_234.1_369.2'\n",
       "39. 'Jasmine.lactone_196.0_344.3'\n",
       "40. 'N.3.Oxotetradec.7Z.enoyl.L.homoserine.lactone_306.4_481.3'\n",
       "41. 'Dihydrokavain_235.3_388.2'\n",
       "42. 'X15S.Hydroxy.8Z.11Z.13E.eicosatrienoic.acid_305.2_304.2'\n",
       "43. 'X...Equol_241.8_450.3'\n",
       "44. 'X3.Hydroxydodecanoic.acid_217.1_313.2'\n",
       "45. 'X2.Butanone..4..2.6.6.trimethyl.2.cyclohexen.1.yl.._179.8_595.7'\n",
       "46. 'trans.EKODE..E..Ib_311.7_597.2'\n",
       "47. 'X4..5.Dihydroxy.7.methoxyflavanone_288.1_265.6'\n",
       "48. 'X9.S..HpOTrE_290.6_356.3'\n",
       "49. 'X9.S..HpOTrE_292.1_411.2'\n",
       "50. 'Genipin_211.1_356.3'\n",
       "51. 'X20.8030520467836_171.076373360314'\n",
       "52. 'X4..5.Dihydroxy.7.methoxyflavanone_288.0_309.2'\n",
       "53. 'X9.S..HpOTrE_292.9_343.3'\n",
       "54. 'X....Perillyl.alcohol_159.3_202.1'\n",
       "55. 'Artemisinin_304.9_445.3'\n",
       "56. 'ReSpect.PM018114.Sinapoylmalate_204.3_378.3'\n",
       "57. 'Dihydrokavain_237.2_632.9'\n",
       "58. 'SCLAREOLIDE_245.7_447.7'\n",
       "59. 'ReSpect.PM018114.Sinapoylmalate_200.9_370.3'\n",
       "60. 'X15S.Hydroxy.8Z.11Z.13E.eicosatrienoic.acid_305.4_305.3'\n",
       "61. 'X19.20..EpDPE_326.7_360.3'\n",
       "62. 'X114.621704081633_287.200808547777'\n",
       "63. 'X2.Butanone..4..2.6.6.trimethyl.2.cyclohexen.1.yl.._181.1_514.2'\n",
       "64. 'X9.S..HpOTrE_289.9_408.3'\n",
       "65. 'X4..5.Dihydroxy.7.methoxyflavanone_288.2_798.5'\n",
       "66. 'X....Malyngolide_272.6_346.3'\n",
       "67. 'X21.5805516129032_202.038874043229'\n",
       "68. 'X2.Butanone..4..2.6.6.trimethyl.2.cyclohexen.1.yl.._179.7_334.2'\n",
       "69. 'X4..5.Dihydroxy.7.methoxyflavanone_287.9_267.6'\n",
       "70. 'X2.Butanone..4..2.6.6.trimethyl.2.cyclohexen.1.yl.._177.0_657.3'\n",
       "71. 'ReSpect.PM018114.Sinapoylmalate_205.4_443.3'\n",
       "72. 'Amitriptyline_278.4_413.3'\n",
       "73. 'Genipin_209.4_423.2'\n",
       "74. 'Traumatic.Acid_226.0_357.2'\n",
       "75. 'X115.294862068966_251.63289853936'\n",
       "76. 'X5.Z..8.Z..11.Z..Eicosatrienoic.acid.methyl.ester_322.4_465.3'\n",
       "77. 'Genipin_210.5_485.2'\n",
       "78. 'Jasmine.lactone_187.8_547.2'\n",
       "79. 'X2.Butanone..4..2.6.6.trimethyl.2.cyclohexen.1.yl.._181.4_893.3'\n",
       "\n",
       "\n"
      ],
      "text/plain": [
       " [1] \"X12.S..Hydroxy.16.heptadecynoic.acid_265.2_348.3\"               \n",
       " [2] \"X20.6489735772358_155.054001629239\"                             \n",
       " [3] \"X20.0305406504065_185.065251997431\"                             \n",
       " [4] \"X13.14.Dihydro.15.ketoprostaglandin.D1_220.1_358.3\"             \n",
       " [5] \"Traumatic.Acid_225.0_356.3\"                                     \n",
       " [6] \"X9.10..EpOME_297.6_340.3\"                                       \n",
       " [7] \"X12.S..Hydroxy.16.heptadecynoic.acid_262.7_362.3\"               \n",
       " [8] \"X8.9..EET.methyl.ester_316.3_332.3\"                             \n",
       " [9] \"ReSpect.PM018114.Sinapoylmalate_204.6_364.3\"                    \n",
       "[10] \"X15.OxoETE_319.7_326.3\"                                         \n",
       "[11] \"X9.S..HpOTrE_292.6_342.3\"                                       \n",
       "[12] \"X5.Z..8.Z..11.Z..Eicosatrienoic.acid.methyl.ester_321.9_429.3\"  \n",
       "[13] \"Dihydrokavain_232.6_320.2\"                                      \n",
       "[14] \"Dodecanedioic.acid_214.6_345.2\"                                 \n",
       "[15] \"Dodecanedioic.acid_230.2_354.3\"                                 \n",
       "[16] \"Azelaic.acid_189.2_374.3\"                                       \n",
       "[17] \"ReSpect.PM018114.Sinapoylmalate_198.3_342.3\"                    \n",
       "[18] \"Jasmine.lactone_196.0_330.3\"                                    \n",
       "[19] \"X2.Butanone..4..2.6.6.trimethyl.2.cyclohexen.1.yl.._178.2_326.1\"\n",
       "[20] \"X20.0671541095891_201.038588682285\"                             \n",
       "[21] \"Jasmine.lactone_196.6_372.3\"                                    \n",
       "[22] \"X...Equol_239.4_318.2\"                                          \n",
       "[23] \"Dihydrokavain_233.0_422.2\"                                      \n",
       "[24] \"X13.14.Dihydro.15.ketoprostaglandin.D1_220.6_372.3\"             \n",
       "[25] \"Linoleoyl.ethanolamide_322.8_149.0\"                             \n",
       "[26] \"X2.Butanone..4..2.6.6.trimethyl.2.cyclohexen.1.yl.._181.5_332.1\"\n",
       "[27] \"Artemisinin_305.1_427.3\"                                        \n",
       "[28] \"Traumatic.Acid_224.9_370.3\"                                     \n",
       "[29] \"Azelaic.acid_189.5_381.2\"                                       \n",
       "[30] \"X28.1018510638298_222.079048570206\"                             \n",
       "[31] \"X5.Z..8.Z..11.Z..Eicosatrienoic.acid.methyl.ester_322.6_411.3\"  \n",
       "[32] \"X4..5.Dihydroxy.7.methoxyflavanone_288.1_394.2\"                 \n",
       "[33] \"Massbank.KNA00389.beta.D.Fructose.1.6.bisphosphate_174.4_336.2\" \n",
       "[34] \"Genipin_208.3_362.3\"                                            \n",
       "[35] \"X15S.Hydroxy.8Z.11Z.13E.eicosatrienoic.acid_305.6_463.3\"        \n",
       "[36] \"ReSpect.PM018114.Sinapoylmalate_201.2_306.2\"                    \n",
       "[37] \"X112.328096_267.10048331358\"                                    \n",
       "[38] \"Dihydrokavain_234.1_369.2\"                                      \n",
       "[39] \"Jasmine.lactone_196.0_344.3\"                                    \n",
       "[40] \"N.3.Oxotetradec.7Z.enoyl.L.homoserine.lactone_306.4_481.3\"      \n",
       "[41] \"Dihydrokavain_235.3_388.2\"                                      \n",
       "[42] \"X15S.Hydroxy.8Z.11Z.13E.eicosatrienoic.acid_305.2_304.2\"        \n",
       "[43] \"X...Equol_241.8_450.3\"                                          \n",
       "[44] \"X3.Hydroxydodecanoic.acid_217.1_313.2\"                          \n",
       "[45] \"X2.Butanone..4..2.6.6.trimethyl.2.cyclohexen.1.yl.._179.8_595.7\"\n",
       "[46] \"trans.EKODE..E..Ib_311.7_597.2\"                                 \n",
       "[47] \"X4..5.Dihydroxy.7.methoxyflavanone_288.1_265.6\"                 \n",
       "[48] \"X9.S..HpOTrE_290.6_356.3\"                                       \n",
       "[49] \"X9.S..HpOTrE_292.1_411.2\"                                       \n",
       "[50] \"Genipin_211.1_356.3\"                                            \n",
       "[51] \"X20.8030520467836_171.076373360314\"                             \n",
       "[52] \"X4..5.Dihydroxy.7.methoxyflavanone_288.0_309.2\"                 \n",
       "[53] \"X9.S..HpOTrE_292.9_343.3\"                                       \n",
       "[54] \"X....Perillyl.alcohol_159.3_202.1\"                              \n",
       "[55] \"Artemisinin_304.9_445.3\"                                        \n",
       "[56] \"ReSpect.PM018114.Sinapoylmalate_204.3_378.3\"                    \n",
       "[57] \"Dihydrokavain_237.2_632.9\"                                      \n",
       "[58] \"SCLAREOLIDE_245.7_447.7\"                                        \n",
       "[59] \"ReSpect.PM018114.Sinapoylmalate_200.9_370.3\"                    \n",
       "[60] \"X15S.Hydroxy.8Z.11Z.13E.eicosatrienoic.acid_305.4_305.3\"        \n",
       "[61] \"X19.20..EpDPE_326.7_360.3\"                                      \n",
       "[62] \"X114.621704081633_287.200808547777\"                             \n",
       "[63] \"X2.Butanone..4..2.6.6.trimethyl.2.cyclohexen.1.yl.._181.1_514.2\"\n",
       "[64] \"X9.S..HpOTrE_289.9_408.3\"                                       \n",
       "[65] \"X4..5.Dihydroxy.7.methoxyflavanone_288.2_798.5\"                 \n",
       "[66] \"X....Malyngolide_272.6_346.3\"                                   \n",
       "[67] \"X21.5805516129032_202.038874043229\"                             \n",
       "[68] \"X2.Butanone..4..2.6.6.trimethyl.2.cyclohexen.1.yl.._179.7_334.2\"\n",
       "[69] \"X4..5.Dihydroxy.7.methoxyflavanone_287.9_267.6\"                 \n",
       "[70] \"X2.Butanone..4..2.6.6.trimethyl.2.cyclohexen.1.yl.._177.0_657.3\"\n",
       "[71] \"ReSpect.PM018114.Sinapoylmalate_205.4_443.3\"                    \n",
       "[72] \"Amitriptyline_278.4_413.3\"                                      \n",
       "[73] \"Genipin_209.4_423.2\"                                            \n",
       "[74] \"Traumatic.Acid_226.0_357.2\"                                     \n",
       "[75] \"X115.294862068966_251.63289853936\"                              \n",
       "[76] \"X5.Z..8.Z..11.Z..Eicosatrienoic.acid.methyl.ester_322.4_465.3\"  \n",
       "[77] \"Genipin_210.5_485.2\"                                            \n",
       "[78] \"Jasmine.lactone_187.8_547.2\"                                    \n",
       "[79] \"X2.Butanone..4..2.6.6.trimethyl.2.cyclohexen.1.yl.._181.4_893.3\""
      ]
     },
     "metadata": {},
     "output_type": "display_data"
    }
   ],
   "source": [
    "metab_pr = names(dat_metab)[moduleColors_metab == 'purple']\n",
    "metab_pr"
   ]
  },
  {
   "cell_type": "code",
   "execution_count": 18,
   "metadata": {
    "collapsed": true
   },
   "outputs": [],
   "source": [
    "## pairwise correlations between microbiome and metabolome features"
   ]
  },
  {
   "cell_type": "code",
   "execution_count": 8,
   "metadata": {
    "collapsed": true
   },
   "outputs": [],
   "source": [
    "feature_corr=cor(dat_microb, dat_metab, use='p')\n",
    "feature_corrPvalue=corPvalueStudent(feature_corr, nSamples_metab)"
   ]
  },
  {
   "cell_type": "code",
   "execution_count": 9,
   "metadata": {
    "collapsed": false
   },
   "outputs": [
    {
     "data": {
      "text/html": [
       "<ol class=list-inline>\n",
       "\t<li>2317</li>\n",
       "\t<li>3576</li>\n",
       "</ol>\n"
      ],
      "text/latex": [
       "\\begin{enumerate*}\n",
       "\\item 2317\n",
       "\\item 3576\n",
       "\\end{enumerate*}\n"
      ],
      "text/markdown": [
       "1. 2317\n",
       "2. 3576\n",
       "\n",
       "\n"
      ],
      "text/plain": [
       "[1] 2317 3576"
      ]
     },
     "metadata": {},
     "output_type": "display_data"
    }
   ],
   "source": [
    "dim(feature_corr)\n",
    "\n",
    "#8285592 correlations"
   ]
  },
  {
   "cell_type": "code",
   "execution_count": 10,
   "metadata": {
    "collapsed": false
   },
   "outputs": [
    {
     "data": {
      "text/html": [
       "54865"
      ],
      "text/latex": [
       "54865"
      ],
      "text/markdown": [
       "54865"
      ],
      "text/plain": [
       "[1] 54865"
      ]
     },
     "metadata": {},
     "output_type": "display_data"
    }
   ],
   "source": [
    "z=feature_corrPvalue < 0.05/8285592 \n",
    "sum(z, na.rm=TRUE)"
   ]
  },
  {
   "cell_type": "code",
   "execution_count": 45,
   "metadata": {
    "collapsed": true
   },
   "outputs": [],
   "source": [
    "## pairwise correlations between features in modules, darkgreen (metab) and black (microb)"
   ]
  },
  {
   "cell_type": "code",
   "execution_count": 84,
   "metadata": {
    "collapsed": false
   },
   "outputs": [
    {
     "data": {
      "text/html": [
       "<table>\n",
       "<thead><tr><th></th><th scope=col>X13.14.Dihydro.15.ketoprostaglandin.D1_222.0_385.1</th><th scope=col>X12.S..Hydroxy.16.heptadecynoic.acid_265.2_348.3</th><th scope=col>X20.6489735772358_155.054001629239</th><th scope=col>X13.14.Dihydro.15.ketoprostaglandin.D1_222.5_504.2</th><th scope=col>X20.0305406504065_185.065251997431</th><th scope=col>X......11.Hydroxy.5Z.8Z.12E.14Z.17Z.eicosapentaenoic.acid_300.2_321.2</th><th scope=col>X13.14.Dihydro.15.ketoprostaglandin.D1_220.1_358.3</th><th scope=col>Traumatic.Acid_225.0_356.3</th><th scope=col>X127.55486_319.138085593871</th><th scope=col>X2.Butanone..4..2.6.6.trimethyl.2.cyclohexen.1.yl.._181.8_385.2</th><th scope=col>⋯</th><th scope=col>ReSpect.PM018114.Sinapoylmalate_205.2_313.1</th><th scope=col>X105.588666666667_353.19027905443</th><th scope=col>Massbank.KO002920.D.Glu.D.2.Aminoglutaric.acid.D.Glutamate.D.Glutaminic.acid.D.Glutamic.acid_147.4_397.1</th><th scope=col>X19.20..EpDPE_327.7_318.2</th><th scope=col>X...Equol_238.5_375.2</th><th scope=col>X3.beta..Hydroxy.5.cholenoic.acid_352.1_154.0</th><th scope=col>X...Equol_241.2_623.3</th><th scope=col>X9.10.Dihydroxy.12Z.octadecenoic.acid_314.9_280.2</th><th scope=col>X72.1633_345.144442057333</th><th scope=col>X97.7422326530613_402.697779868946</th></tr></thead>\n",
       "<tbody>\n",
       "\t<tr><th scope=row>10422.17.F.1</th><td>0.0000000000</td><td>5.386119e-05</td><td>0           </td><td>0.0000803997</td><td>0.0000000000</td><td>0.0000000000</td><td>2.083745e-05</td><td>0.0000000000</td><td>0           </td><td>0.0002192012</td><td>⋯           </td><td>0           </td><td>0           </td><td>0.001354906 </td><td>0           </td><td>0           </td><td>8.259006e-05</td><td>0.0000000000</td><td>0.0002990517</td><td>0           </td><td>0.00000000  </td></tr>\n",
       "\t<tr><th scope=row>10422.17.F.10</th><td>0.0016713317</td><td>0.000000e+00</td><td>0           </td><td>0.0002911851</td><td>0.0000000000</td><td>0.0012975678</td><td>2.119893e-04</td><td>0.0002579002</td><td>0           </td><td>0.0022663605</td><td>⋯           </td><td>0           </td><td>0           </td><td>0.000000000 </td><td>0           </td><td>0           </td><td>1.213407e-03</td><td>0.0008408061</td><td>0.0000000000</td><td>0           </td><td>0.00000000  </td></tr>\n",
       "\t<tr><th scope=row>10422.17.F.11</th><td>0.0018406453</td><td>3.074093e-04</td><td>0           </td><td>0.0004207259</td><td>0.0003891269</td><td>0.0008746881</td><td>4.206181e-04</td><td>0.0004657026</td><td>0           </td><td>0.0021421172</td><td>⋯           </td><td>0           </td><td>0           </td><td>0.000000000 </td><td>0           </td><td>0           </td><td>8.407576e-04</td><td>0.0015640528</td><td>0.0000000000</td><td>0           </td><td>0.00000000  </td></tr>\n",
       "\t<tr><th scope=row>10422.17.F.12</th><td>0.0000000000</td><td>0.000000e+00</td><td>0           </td><td>0.0005754357</td><td>0.0003788618</td><td>0.0012814423</td><td>3.413679e-04</td><td>0.0003973172</td><td>0           </td><td>0.0020600996</td><td>⋯           </td><td>0           </td><td>0           </td><td>0.000000000 </td><td>0           </td><td>0           </td><td>1.032841e-03</td><td>0.0009820846</td><td>0.0000000000</td><td>0           </td><td>0.00000000  </td></tr>\n",
       "\t<tr><th scope=row>10422.17.F.13</th><td>0.0006984369</td><td>0.000000e+00</td><td>0           </td><td>0.0007464963</td><td>0.0002851497</td><td>0.0007600684</td><td>2.856928e-04</td><td>0.0003500065</td><td>0           </td><td>0.0024723724</td><td>⋯           </td><td>0           </td><td>0           </td><td>0.000000000 </td><td>0           </td><td>0           </td><td>8.638315e-04</td><td>0.0002241020</td><td>0.0007477536</td><td>0           </td><td>0.00000000  </td></tr>\n",
       "\t<tr><th scope=row>10422.17.F.2</th><td>0.0010118490</td><td>0.000000e+00</td><td>0           </td><td>0.0000000000</td><td>0.0000000000</td><td>0.0000000000</td><td>1.373100e-04</td><td>0.0001162024</td><td>0           </td><td>0.0026705451</td><td>⋯           </td><td>0           </td><td>0           </td><td>0.000000000 </td><td>0           </td><td>0           </td><td>4.993384e-04</td><td>0.0000000000</td><td>0.0006055532</td><td>0           </td><td>0.00208403  </td></tr>\n",
       "</tbody>\n",
       "</table>\n"
      ],
      "text/latex": [
       "\\begin{tabular}{r|llllllllllllllllllllllllllllllllllllllllllllllllllllllllllllllllllllllllllllllllllllllllllllllllllllllllllllllllllllllllllllllllllllllllllllllllllllllllllllllllllllllllllllllllllllllllllllllllllllllllllllllllllllllllllllllllllllllllllllllllllllllllllllllllllllllllllllllllllllllllllllllllllllllllllllllllllllllllllllllllllllllllllllllllllllllllllllllllllllllllllllllllllllllllllllllllllllllllllllllllllllllllllllllllllllllllllllllllllllllllllllllllllllllllllllllllllllllllllllllllllllllllllllllllllllllllllllllllllllllllllllllllllllllllllllllllllllllllllllllllllllllllllllllllllllllllllllllllllllllllllllllllllllllllllllllllllllllllllllllllllllllllllllllllllllllllllllllllllllllllllllllllllllllllllllllllllllllllllllllllllllllllllllllllllllllllllllllllllllllllllllllllllllllllllllllllllllllllllllllllllllllllllllllllllllllllllllllllllllllllllllllllllllllllllllllllllllllllllllllllllllllllllllllllllllllllllllllllllllllllllllllllllllllllllllllllllllllllllllllllllllllllllllllllllllllllllllllllllllllllllllllllllllllllllllllllllllllllllllllllllllllllllllllllllllllllllllllllllllllllllllllllllllllllllllllllllllllllllllllllllllllllllllllllllllllllllllllllllllllllllllllllllllllllllllllllllllllllllllllllllllllllllllllllllllllllllllllllllllllllllllllllllllllllllllllllllllllllllllllllllllllllllllllllllllllllllllllllllllllllllllllllllllllllllllllllllllllllllllllllllllllllllllllllllllllllllllllllllllllllllllllllllllllllllllllllllllllllllllllllllllllllllllllllllllllllllllllllllllllllllllllllllllllllllllllllllllllllllllllllllllllllllllllllllllllllllllllllllllllllllllllllllllllllllllllllllllllllllllllllllllllllllllllllllllllllllllllllllllllllllllllllllllllllllllllllllllllllllllllllllllllllllllllllllllllllllllllllllllllllllllllllllllllllllllllllllllllllllllllllllllllllllllllllllllllllllllllllllllllllllllllllllllllllllllllllllllllllllllllllllllllllllllllllllllllllllllllllllllllllllllllllllllllllllllllllllllllllllllllllllllllllllllllllllllllllllllllllllllllllllllllllllllllllllllllllllllllllllllllllllllllllllllllllllllllllllllllllllllllllllllllllllllllllllllllllllllllllllllllllllllllllllllllllllllllllllllllllllllllllllllllllllllllllllllllllllllllllllllllllllllllllllllllllllllllllllllllllllllllllllllllllllllllllllllllllllllllllllllllllllllllllllllllllllllllllllllllllllllllllllllllllllllllllllllllllllllllllllllllllllllllllllllllllllllllllllllllllllllllllllllllllllllllllllllllllllllllllllllllllllllllllllllllllllllllllllllllllllllllllllllllllllllllllllllllllllllllllllllllllllllllllllllllllllllllllllllllllllllllllllllllllllllllllllllllllllllllllllllllllllllllllllllllllllllllllllllllllllllllllllllllllllllllllllllllllllllllllllllllllllllllllllllllllllllllllllllllllllllllllllllllllllllllllllllllllllllllllllllllllllllllllllllllllllllllllllllllllllllllllllllllllllllllllllllllllllllllllllllllllllllllllllllllllllllllllllllllllllllllllllllllllllllllllllllllllllllllllllllllllllllllllllllllllllllllllllllllllllllllllllllllllllllllllllllllllllllllllllllllllllllllllllllllllllllllllllllllllllllllllllllllllllllllllllllllllllllllllllllllllllllllllllllllllllllllllllllllllllllllllllllllllllllllllllllllllllllllllllllllllllllllllllllllllllllllllllllllllllllllllllllllllllllllllllllllllllllllllllllllllllllllllllllllllllllllllllllllllllllllllllllllllllllllllllllllllllllllllllllllllllllllllllllllllllllllllllllllllllllllllllllllllllllllllllllllllllllllllllllllllllllllllllllllllllllllllllllllllllllllllllllllllllllllllllllllllllllllllllllllllllllllllllllllllllllllllllllllllllllllllllllllllllllllllllllllllllllllllllllllllllllllllllllllllllllllllllllllllllllllllllllllllllllllll}\n",
       "  & X13.14.Dihydro.15.ketoprostaglandin.D1\\_222.0\\_385.1 & X12.S..Hydroxy.16.heptadecynoic.acid\\_265.2\\_348.3 & X20.6489735772358\\_155.054001629239 & X13.14.Dihydro.15.ketoprostaglandin.D1\\_222.5\\_504.2 & X20.0305406504065\\_185.065251997431 & X......11.Hydroxy.5Z.8Z.12E.14Z.17Z.eicosapentaenoic.acid\\_300.2\\_321.2 & X13.14.Dihydro.15.ketoprostaglandin.D1\\_220.1\\_358.3 & Traumatic.Acid\\_225.0\\_356.3 & X127.55486\\_319.138085593871 & X2.Butanone..4..2.6.6.trimethyl.2.cyclohexen.1.yl..\\_181.8\\_385.2 & ⋯ & ReSpect.PM018114.Sinapoylmalate\\_205.2\\_313.1 & X105.588666666667\\_353.19027905443 & Massbank.KO002920.D.Glu.D.2.Aminoglutaric.acid.D.Glutamate.D.Glutaminic.acid.D.Glutamic.acid\\_147.4\\_397.1 & X19.20..EpDPE\\_327.7\\_318.2 & X...Equol\\_238.5\\_375.2 & X3.beta..Hydroxy.5.cholenoic.acid\\_352.1\\_154.0 & X...Equol\\_241.2\\_623.3 & X9.10.Dihydroxy.12Z.octadecenoic.acid\\_314.9\\_280.2 & X72.1633\\_345.144442057333 & X97.7422326530613\\_402.697779868946\\\\\n",
       "\\hline\n",
       "\t10422.17.F.1 & 0.0000000000 & 5.386119e-05 & 0            & 0.0000803997 & 0.0000000000 & 0.0000000000 & 2.083745e-05 & 0.0000000000 & 0            & 0.0002192012 & ⋯            & 0            & 0            & 0.001354906  & 0            & 0            & 8.259006e-05 & 0.0000000000 & 0.0002990517 & 0            & 0.00000000  \\\\\n",
       "\t10422.17.F.10 & 0.0016713317 & 0.000000e+00 & 0            & 0.0002911851 & 0.0000000000 & 0.0012975678 & 2.119893e-04 & 0.0002579002 & 0            & 0.0022663605 & ⋯            & 0            & 0            & 0.000000000  & 0            & 0            & 1.213407e-03 & 0.0008408061 & 0.0000000000 & 0            & 0.00000000  \\\\\n",
       "\t10422.17.F.11 & 0.0018406453 & 3.074093e-04 & 0            & 0.0004207259 & 0.0003891269 & 0.0008746881 & 4.206181e-04 & 0.0004657026 & 0            & 0.0021421172 & ⋯            & 0            & 0            & 0.000000000  & 0            & 0            & 8.407576e-04 & 0.0015640528 & 0.0000000000 & 0            & 0.00000000  \\\\\n",
       "\t10422.17.F.12 & 0.0000000000 & 0.000000e+00 & 0            & 0.0005754357 & 0.0003788618 & 0.0012814423 & 3.413679e-04 & 0.0003973172 & 0            & 0.0020600996 & ⋯            & 0            & 0            & 0.000000000  & 0            & 0            & 1.032841e-03 & 0.0009820846 & 0.0000000000 & 0            & 0.00000000  \\\\\n",
       "\t10422.17.F.13 & 0.0006984369 & 0.000000e+00 & 0            & 0.0007464963 & 0.0002851497 & 0.0007600684 & 2.856928e-04 & 0.0003500065 & 0            & 0.0024723724 & ⋯            & 0            & 0            & 0.000000000  & 0            & 0            & 8.638315e-04 & 0.0002241020 & 0.0007477536 & 0            & 0.00000000  \\\\\n",
       "\t10422.17.F.2 & 0.0010118490 & 0.000000e+00 & 0            & 0.0000000000 & 0.0000000000 & 0.0000000000 & 1.373100e-04 & 0.0001162024 & 0            & 0.0026705451 & ⋯            & 0            & 0            & 0.000000000  & 0            & 0            & 4.993384e-04 & 0.0000000000 & 0.0006055532 & 0            & 0.00208403  \\\\\n",
       "\\end{tabular}\n"
      ],
      "text/markdown": [
       "\n",
       "| <!--/--> | X13.14.Dihydro.15.ketoprostaglandin.D1_222.0_385.1 | X12.S..Hydroxy.16.heptadecynoic.acid_265.2_348.3 | X20.6489735772358_155.054001629239 | X13.14.Dihydro.15.ketoprostaglandin.D1_222.5_504.2 | X20.0305406504065_185.065251997431 | X......11.Hydroxy.5Z.8Z.12E.14Z.17Z.eicosapentaenoic.acid_300.2_321.2 | X13.14.Dihydro.15.ketoprostaglandin.D1_220.1_358.3 | Traumatic.Acid_225.0_356.3 | X127.55486_319.138085593871 | X2.Butanone..4..2.6.6.trimethyl.2.cyclohexen.1.yl.._181.8_385.2 | ⋯ | ReSpect.PM018114.Sinapoylmalate_205.2_313.1 | X105.588666666667_353.19027905443 | Massbank.KO002920.D.Glu.D.2.Aminoglutaric.acid.D.Glutamate.D.Glutaminic.acid.D.Glutamic.acid_147.4_397.1 | X19.20..EpDPE_327.7_318.2 | X...Equol_238.5_375.2 | X3.beta..Hydroxy.5.cholenoic.acid_352.1_154.0 | X...Equol_241.2_623.3 | X9.10.Dihydroxy.12Z.octadecenoic.acid_314.9_280.2 | X72.1633_345.144442057333 | X97.7422326530613_402.697779868946 | \n",
       "|---|---|---|---|---|---|\n",
       "| 10422.17.F.1 | 0.0000000000 | 5.386119e-05 | 0            | 0.0000803997 | 0.0000000000 | 0.0000000000 | 2.083745e-05 | 0.0000000000 | 0            | 0.0002192012 | ⋯            | 0            | 0            | 0.001354906  | 0            | 0            | 8.259006e-05 | 0.0000000000 | 0.0002990517 | 0            | 0.00000000   | \n",
       "| 10422.17.F.10 | 0.0016713317 | 0.000000e+00 | 0            | 0.0002911851 | 0.0000000000 | 0.0012975678 | 2.119893e-04 | 0.0002579002 | 0            | 0.0022663605 | ⋯            | 0            | 0            | 0.000000000  | 0            | 0            | 1.213407e-03 | 0.0008408061 | 0.0000000000 | 0            | 0.00000000   | \n",
       "| 10422.17.F.11 | 0.0018406453 | 3.074093e-04 | 0            | 0.0004207259 | 0.0003891269 | 0.0008746881 | 4.206181e-04 | 0.0004657026 | 0            | 0.0021421172 | ⋯            | 0            | 0            | 0.000000000  | 0            | 0            | 8.407576e-04 | 0.0015640528 | 0.0000000000 | 0            | 0.00000000   | \n",
       "| 10422.17.F.12 | 0.0000000000 | 0.000000e+00 | 0            | 0.0005754357 | 0.0003788618 | 0.0012814423 | 3.413679e-04 | 0.0003973172 | 0            | 0.0020600996 | ⋯            | 0            | 0            | 0.000000000  | 0            | 0            | 1.032841e-03 | 0.0009820846 | 0.0000000000 | 0            | 0.00000000   | \n",
       "| 10422.17.F.13 | 0.0006984369 | 0.000000e+00 | 0            | 0.0007464963 | 0.0002851497 | 0.0007600684 | 2.856928e-04 | 0.0003500065 | 0            | 0.0024723724 | ⋯            | 0            | 0            | 0.000000000  | 0            | 0            | 8.638315e-04 | 0.0002241020 | 0.0007477536 | 0            | 0.00000000   | \n",
       "| 10422.17.F.2 | 0.0010118490 | 0.000000e+00 | 0            | 0.0000000000 | 0.0000000000 | 0.0000000000 | 1.373100e-04 | 0.0001162024 | 0            | 0.0026705451 | ⋯            | 0            | 0            | 0.000000000  | 0            | 0            | 4.993384e-04 | 0.0000000000 | 0.0006055532 | 0            | 0.00208403   | \n",
       "\n",
       "\n"
      ],
      "text/plain": [
       "              X13.14.Dihydro.15.ketoprostaglandin.D1_222.0_385.1\n",
       "10422.17.F.1  0.0000000000                                      \n",
       "10422.17.F.10 0.0016713317                                      \n",
       "10422.17.F.11 0.0018406453                                      \n",
       "10422.17.F.12 0.0000000000                                      \n",
       "10422.17.F.13 0.0006984369                                      \n",
       "10422.17.F.2  0.0010118490                                      \n",
       "              X12.S..Hydroxy.16.heptadecynoic.acid_265.2_348.3\n",
       "10422.17.F.1  5.386119e-05                                    \n",
       "10422.17.F.10 0.000000e+00                                    \n",
       "10422.17.F.11 3.074093e-04                                    \n",
       "10422.17.F.12 0.000000e+00                                    \n",
       "10422.17.F.13 0.000000e+00                                    \n",
       "10422.17.F.2  0.000000e+00                                    \n",
       "              X20.6489735772358_155.054001629239\n",
       "10422.17.F.1  0                                 \n",
       "10422.17.F.10 0                                 \n",
       "10422.17.F.11 0                                 \n",
       "10422.17.F.12 0                                 \n",
       "10422.17.F.13 0                                 \n",
       "10422.17.F.2  0                                 \n",
       "              X13.14.Dihydro.15.ketoprostaglandin.D1_222.5_504.2\n",
       "10422.17.F.1  0.0000803997                                      \n",
       "10422.17.F.10 0.0002911851                                      \n",
       "10422.17.F.11 0.0004207259                                      \n",
       "10422.17.F.12 0.0005754357                                      \n",
       "10422.17.F.13 0.0007464963                                      \n",
       "10422.17.F.2  0.0000000000                                      \n",
       "              X20.0305406504065_185.065251997431\n",
       "10422.17.F.1  0.0000000000                      \n",
       "10422.17.F.10 0.0000000000                      \n",
       "10422.17.F.11 0.0003891269                      \n",
       "10422.17.F.12 0.0003788618                      \n",
       "10422.17.F.13 0.0002851497                      \n",
       "10422.17.F.2  0.0000000000                      \n",
       "              X......11.Hydroxy.5Z.8Z.12E.14Z.17Z.eicosapentaenoic.acid_300.2_321.2\n",
       "10422.17.F.1  0.0000000000                                                         \n",
       "10422.17.F.10 0.0012975678                                                         \n",
       "10422.17.F.11 0.0008746881                                                         \n",
       "10422.17.F.12 0.0012814423                                                         \n",
       "10422.17.F.13 0.0007600684                                                         \n",
       "10422.17.F.2  0.0000000000                                                         \n",
       "              X13.14.Dihydro.15.ketoprostaglandin.D1_220.1_358.3\n",
       "10422.17.F.1  2.083745e-05                                      \n",
       "10422.17.F.10 2.119893e-04                                      \n",
       "10422.17.F.11 4.206181e-04                                      \n",
       "10422.17.F.12 3.413679e-04                                      \n",
       "10422.17.F.13 2.856928e-04                                      \n",
       "10422.17.F.2  1.373100e-04                                      \n",
       "              Traumatic.Acid_225.0_356.3 X127.55486_319.138085593871\n",
       "10422.17.F.1  0.0000000000               0                          \n",
       "10422.17.F.10 0.0002579002               0                          \n",
       "10422.17.F.11 0.0004657026               0                          \n",
       "10422.17.F.12 0.0003973172               0                          \n",
       "10422.17.F.13 0.0003500065               0                          \n",
       "10422.17.F.2  0.0001162024               0                          \n",
       "              X2.Butanone..4..2.6.6.trimethyl.2.cyclohexen.1.yl.._181.8_385.2 ⋯\n",
       "10422.17.F.1  0.0002192012                                                    ⋯\n",
       "10422.17.F.10 0.0022663605                                                    ⋯\n",
       "10422.17.F.11 0.0021421172                                                    ⋯\n",
       "10422.17.F.12 0.0020600996                                                    ⋯\n",
       "10422.17.F.13 0.0024723724                                                    ⋯\n",
       "10422.17.F.2  0.0026705451                                                    ⋯\n",
       "              ReSpect.PM018114.Sinapoylmalate_205.2_313.1\n",
       "10422.17.F.1  0                                          \n",
       "10422.17.F.10 0                                          \n",
       "10422.17.F.11 0                                          \n",
       "10422.17.F.12 0                                          \n",
       "10422.17.F.13 0                                          \n",
       "10422.17.F.2  0                                          \n",
       "              X105.588666666667_353.19027905443\n",
       "10422.17.F.1  0                                \n",
       "10422.17.F.10 0                                \n",
       "10422.17.F.11 0                                \n",
       "10422.17.F.12 0                                \n",
       "10422.17.F.13 0                                \n",
       "10422.17.F.2  0                                \n",
       "              Massbank.KO002920.D.Glu.D.2.Aminoglutaric.acid.D.Glutamate.D.Glutaminic.acid.D.Glutamic.acid_147.4_397.1\n",
       "10422.17.F.1  0.001354906                                                                                             \n",
       "10422.17.F.10 0.000000000                                                                                             \n",
       "10422.17.F.11 0.000000000                                                                                             \n",
       "10422.17.F.12 0.000000000                                                                                             \n",
       "10422.17.F.13 0.000000000                                                                                             \n",
       "10422.17.F.2  0.000000000                                                                                             \n",
       "              X19.20..EpDPE_327.7_318.2 X...Equol_238.5_375.2\n",
       "10422.17.F.1  0                         0                    \n",
       "10422.17.F.10 0                         0                    \n",
       "10422.17.F.11 0                         0                    \n",
       "10422.17.F.12 0                         0                    \n",
       "10422.17.F.13 0                         0                    \n",
       "10422.17.F.2  0                         0                    \n",
       "              X3.beta..Hydroxy.5.cholenoic.acid_352.1_154.0\n",
       "10422.17.F.1  8.259006e-05                                 \n",
       "10422.17.F.10 1.213407e-03                                 \n",
       "10422.17.F.11 8.407576e-04                                 \n",
       "10422.17.F.12 1.032841e-03                                 \n",
       "10422.17.F.13 8.638315e-04                                 \n",
       "10422.17.F.2  4.993384e-04                                 \n",
       "              X...Equol_241.2_623.3\n",
       "10422.17.F.1  0.0000000000         \n",
       "10422.17.F.10 0.0008408061         \n",
       "10422.17.F.11 0.0015640528         \n",
       "10422.17.F.12 0.0009820846         \n",
       "10422.17.F.13 0.0002241020         \n",
       "10422.17.F.2  0.0000000000         \n",
       "              X9.10.Dihydroxy.12Z.octadecenoic.acid_314.9_280.2\n",
       "10422.17.F.1  0.0002990517                                     \n",
       "10422.17.F.10 0.0000000000                                     \n",
       "10422.17.F.11 0.0000000000                                     \n",
       "10422.17.F.12 0.0000000000                                     \n",
       "10422.17.F.13 0.0007477536                                     \n",
       "10422.17.F.2  0.0006055532                                     \n",
       "              X72.1633_345.144442057333 X97.7422326530613_402.697779868946\n",
       "10422.17.F.1  0                         0.00000000                        \n",
       "10422.17.F.10 0                         0.00000000                        \n",
       "10422.17.F.11 0                         0.00000000                        \n",
       "10422.17.F.12 0                         0.00000000                        \n",
       "10422.17.F.13 0                         0.00000000                        \n",
       "10422.17.F.2  0                         0.00208403                        "
      ]
     },
     "metadata": {},
     "output_type": "display_data"
    }
   ],
   "source": [
    "head(dat_metab)"
   ]
  },
  {
   "cell_type": "code",
   "execution_count": 85,
   "metadata": {
    "collapsed": false,
    "scrolled": true
   },
   "outputs": [
    {
     "data": {
      "text/html": [
       "<table>\n",
       "<thead><tr><th></th><th scope=col>k__Bacteria..p__Firmicutes..c__Clostridia..o__Clostridiales..f__Clostridiaceae..g__..s__id268733</th><th scope=col>k__Bacteria..p__Firmicutes..c__Bacilli..o__Lactobacillales..f__Lactobacillaceae..g__Lactobacillus..s__id4428313</th><th scope=col>k__Bacteria..p__Firmicutes..c__Clostridia..o__Clostridiales..f__Clostridiaceae..g__Sarcina..s__id300662</th><th scope=col>k__Bacteria..p__Firmicutes..c__Clostridia..o__Clostridiales..f__Clostridiaceae..g__..s__id182643</th><th scope=col>k__Bacteria..p__Firmicutes..c__Clostridia..o__Clostridiales..f__Clostridiaceae..g__..s__id4446320</th><th scope=col>k__Bacteria..p__Actinobacteria..c__Coriobacteriia..o__Coriobacteriales..f__Coriobacteriaceae..g__Adlercreutzia..s__id231510</th><th scope=col>k__Bacteria..p__Firmicutes..c__Erysipelotrichi..o__Erysipelotrichales..f__Erysipelotrichaceae..g__Coprobacillus..s__id829337</th><th scope=col>k__Bacteria..p__Firmicutes..c__Clostridia..o__Clostridiales..f__Ruminococcaceae..g__..s__id263252</th><th scope=col>k__Bacteria..p__Firmicutes..c__Clostridia..o__Clostridiales..f__..g__..s__id266061</th><th scope=col>k__Bacteria..p__Firmicutes..c__Clostridia..o__Clostridiales..f__Clostridiaceae..g__..s__id4454432</th><th scope=col>⋯</th><th scope=col>k__Bacteria..p__Proteobacteria..c__Betaproteobacteria..o__Rhodocyclales..f__Rhodocyclaceae..g__..s__id4450646</th><th scope=col>k__Bacteria..p__Firmicutes..c__Clostridia..o__Clostridiales..f__..g__..s__id311734</th><th scope=col>k__Bacteria..p__Proteobacteria..c__Alphaproteobacteria..o__Rickettsiales..f__mitochondria..g__Pythium..s__ultimumid2343601</th><th scope=col>k__Bacteria..p__Bacteroidetes..c__Flavobacteriia..o__Flavobacteriales..f__.Weeksellaceae...g__..s__id575652</th><th scope=col>k__Bacteria..p__Firmicutes..c__Clostridia..o__Clostridiales..f__..g__..s__id267935</th><th scope=col>k__Bacteria..p__Firmicutes..c__Clostridia..o__Clostridiales..f__..g__..s__id174698</th><th scope=col>k__Bacteria..p__Firmicutes..c__Clostridia..o__Clostridiales..f__Veillonellaceae..g__Succiniclasticum..s__id806497</th><th scope=col>k__Bacteria..p__Proteobacteria..c__Gammaproteobacteria..o__Enterobacteriales..f__Enterobacteriaceae..g__..s__id1951826</th><th scope=col>k__Bacteria..p__Proteobacteria..c__Betaproteobacteria..o__..f__..g__..s__id203879</th><th scope=col>k__Bacteria..p__Verrucomicrobia..c__Verrucomicrobiae..o__Verrucomicrobiales..f__Verrucomicrobiaceae..g__Prosthecobacter..s__debontiiid950620</th></tr></thead>\n",
       "<tbody>\n",
       "\t<tr><th scope=row>10422.17.F.1</th><td>0.000000e+00</td><td>0.000000e+00</td><td>0.000000e+00</td><td>0           </td><td>0           </td><td>0.0000000000</td><td>0           </td><td>0           </td><td>0           </td><td>0           </td><td>⋯           </td><td>0           </td><td>0           </td><td>0           </td><td>0           </td><td>0           </td><td>0           </td><td>0           </td><td>0           </td><td>0           </td><td>0.000000e+00</td></tr>\n",
       "\t<tr><th scope=row>10422.17.F.10</th><td>1.603373e-05</td><td>1.603373e-05</td><td>8.016867e-06</td><td>0           </td><td>0           </td><td>0.0002966241</td><td>0           </td><td>0           </td><td>0           </td><td>0           </td><td>⋯           </td><td>0           </td><td>0           </td><td>0           </td><td>0           </td><td>0           </td><td>0           </td><td>0           </td><td>0           </td><td>0           </td><td>8.016867e-06</td></tr>\n",
       "\t<tr><th scope=row>10422.17.F.11</th><td>0.000000e+00</td><td>1.493005e-05</td><td>0.000000e+00</td><td>0           </td><td>0           </td><td>0.0002239508</td><td>0           </td><td>0           </td><td>0           </td><td>0           </td><td>⋯           </td><td>0           </td><td>0           </td><td>0           </td><td>0           </td><td>0           </td><td>0           </td><td>0           </td><td>0           </td><td>0           </td><td>0.000000e+00</td></tr>\n",
       "\t<tr><th scope=row>10422.17.F.12</th><td>9.539527e-06</td><td>9.539527e-06</td><td>0.000000e+00</td><td>0           </td><td>0           </td><td>0.0002861858</td><td>0           </td><td>0           </td><td>0           </td><td>0           </td><td>⋯           </td><td>0           </td><td>0           </td><td>0           </td><td>0           </td><td>0           </td><td>0           </td><td>0           </td><td>0           </td><td>0           </td><td>9.539527e-06</td></tr>\n",
       "\t<tr><th scope=row>10422.17.F.13</th><td>1.083318e-05</td><td>0.000000e+00</td><td>0.000000e+00</td><td>0           </td><td>0           </td><td>0.0003791613</td><td>0           </td><td>0           </td><td>0           </td><td>0           </td><td>⋯           </td><td>0           </td><td>0           </td><td>0           </td><td>0           </td><td>0           </td><td>0           </td><td>0           </td><td>0           </td><td>0           </td><td>0.000000e+00</td></tr>\n",
       "\t<tr><th scope=row>10422.17.F.2</th><td>0.000000e+00</td><td>0.000000e+00</td><td>0.000000e+00</td><td>0           </td><td>0           </td><td>0.0000000000</td><td>0           </td><td>0           </td><td>0           </td><td>0           </td><td>⋯           </td><td>0           </td><td>0           </td><td>0           </td><td>0           </td><td>0           </td><td>0           </td><td>0           </td><td>0           </td><td>0           </td><td>0.000000e+00</td></tr>\n",
       "</tbody>\n",
       "</table>\n"
      ],
      "text/latex": [
       "\\begin{tabular}{r|lllllllllllllllllllllllllllllllllllllllllllllllllllllllllllllllllllllllllllllllllllllllllllllllllllllllllllllllllllllllllllllllllllllllllllllllllllllllllllllllllllllllllllllllllllllllllllllllllllllllllllllllllllllllllllllllllllllllllllllllllllllllllllllllllllllllllllllllllllllllllllllllllllllllllllllllllllllllllllllllllllllllllllllllllllllllllllllllllllllllllllllllllllllllllllllllllllllllllllllllllllllllllllllllllllllllllllllllllllllllllllllllllllllllllllllllllllllllllllllllllllllllllllllllllllllllllllllllllllllllllllllllllllllllllllllllllllllllllllllllllllllllllllllllllllllllllllllllllllllllllllllllllllllllllllllllllllllllllllllllllllllllllllllllllllllllllllllllllllllllllllllllllllllllllllllllllllllllllllllllllllllllllllllllllllllllllllllllllllllllllllllllllllllllllllllllllllllllllllllllllllllllllllllllllllllllllllllllllllllllllllllllllllllllllllllllllllllllllllllllllllllllllllllllllllllllllllllllllllllllllllllllllllllllllllllllllllllllllllllllllllllllllllllllllllllllllllllllllllllllllllllllllllllllllllllllllllllllllllllllllllllllllllllllllllllllllllllllllllllllllllllllllllllllllllllllllllllllllllllllllllllllllllllllllllllllllllllllllllllllllllllllllllllllllllllllllllllllllllllllllllllllllllllllllllllllllllllllllllllllllllllllllllllllllllllllllllllllllllllllllllllllllllllllllllllllllllllllllllllllllllllllllllllllllllllllllllllllllllllllllllllllllllllllllllllllllllllllllllllllllllllllllllllllllllllllllllllllllllllllllllllllllllllllllllllllllllllllllllllllllllllllllllllllllllllllllllllllllllllllllllllllllllllllllllllllllllllllllllllllllllllllllllllllllllllllllllllllllllllllllllllllllllllllllllllllllllllllllllllllllllllllllllllllllllllllllllllllllllllllllllllllllllllllllllllllllllllllllllllllllllllllllllllllllllllllllllllllllllllllllllllllllllllllllllllllllllllllllllllllllllllllllllllllllllllllllllllllllllllllllllllllllllllllllllllllllllllllllllllllllllllllllllllllllllllllllllllllllllllllllllllllllllllllllllllllllllllllllllllllllllllllllllllllllllllllllllllllllllllllllllllllllllllllllllllllllllllllllllllllllllllllllllllllllllllllllllllllllllllllllllllllllllllllllllllllllllllllllllllllllllllllllllllllllllllllllllllllllllllllllllllllllllllllllllllllllllllllllllllllllllllllllllllllllllllllllllllllllllllllllllllllllllllllllllllllllllllllllllllllllllllllllllllllllllllllllllllllllllll}\n",
       "  & k\\_\\_Bacteria..p\\_\\_Firmicutes..c\\_\\_Clostridia..o\\_\\_Clostridiales..f\\_\\_Clostridiaceae..g\\_\\_..s\\_\\_id268733 & k\\_\\_Bacteria..p\\_\\_Firmicutes..c\\_\\_Bacilli..o\\_\\_Lactobacillales..f\\_\\_Lactobacillaceae..g\\_\\_Lactobacillus..s\\_\\_id4428313 & k\\_\\_Bacteria..p\\_\\_Firmicutes..c\\_\\_Clostridia..o\\_\\_Clostridiales..f\\_\\_Clostridiaceae..g\\_\\_Sarcina..s\\_\\_id300662 & k\\_\\_Bacteria..p\\_\\_Firmicutes..c\\_\\_Clostridia..o\\_\\_Clostridiales..f\\_\\_Clostridiaceae..g\\_\\_..s\\_\\_id182643 & k\\_\\_Bacteria..p\\_\\_Firmicutes..c\\_\\_Clostridia..o\\_\\_Clostridiales..f\\_\\_Clostridiaceae..g\\_\\_..s\\_\\_id4446320 & k\\_\\_Bacteria..p\\_\\_Actinobacteria..c\\_\\_Coriobacteriia..o\\_\\_Coriobacteriales..f\\_\\_Coriobacteriaceae..g\\_\\_Adlercreutzia..s\\_\\_id231510 & k\\_\\_Bacteria..p\\_\\_Firmicutes..c\\_\\_Erysipelotrichi..o\\_\\_Erysipelotrichales..f\\_\\_Erysipelotrichaceae..g\\_\\_Coprobacillus..s\\_\\_id829337 & k\\_\\_Bacteria..p\\_\\_Firmicutes..c\\_\\_Clostridia..o\\_\\_Clostridiales..f\\_\\_Ruminococcaceae..g\\_\\_..s\\_\\_id263252 & k\\_\\_Bacteria..p\\_\\_Firmicutes..c\\_\\_Clostridia..o\\_\\_Clostridiales..f\\_\\_..g\\_\\_..s\\_\\_id266061 & k\\_\\_Bacteria..p\\_\\_Firmicutes..c\\_\\_Clostridia..o\\_\\_Clostridiales..f\\_\\_Clostridiaceae..g\\_\\_..s\\_\\_id4454432 & ⋯ & k\\_\\_Bacteria..p\\_\\_Proteobacteria..c\\_\\_Betaproteobacteria..o\\_\\_Rhodocyclales..f\\_\\_Rhodocyclaceae..g\\_\\_..s\\_\\_id4450646 & k\\_\\_Bacteria..p\\_\\_Firmicutes..c\\_\\_Clostridia..o\\_\\_Clostridiales..f\\_\\_..g\\_\\_..s\\_\\_id311734 & k\\_\\_Bacteria..p\\_\\_Proteobacteria..c\\_\\_Alphaproteobacteria..o\\_\\_Rickettsiales..f\\_\\_mitochondria..g\\_\\_Pythium..s\\_\\_ultimumid2343601 & k\\_\\_Bacteria..p\\_\\_Bacteroidetes..c\\_\\_Flavobacteriia..o\\_\\_Flavobacteriales..f\\_\\_.Weeksellaceae...g\\_\\_..s\\_\\_id575652 & k\\_\\_Bacteria..p\\_\\_Firmicutes..c\\_\\_Clostridia..o\\_\\_Clostridiales..f\\_\\_..g\\_\\_..s\\_\\_id267935 & k\\_\\_Bacteria..p\\_\\_Firmicutes..c\\_\\_Clostridia..o\\_\\_Clostridiales..f\\_\\_..g\\_\\_..s\\_\\_id174698 & k\\_\\_Bacteria..p\\_\\_Firmicutes..c\\_\\_Clostridia..o\\_\\_Clostridiales..f\\_\\_Veillonellaceae..g\\_\\_Succiniclasticum..s\\_\\_id806497 & k\\_\\_Bacteria..p\\_\\_Proteobacteria..c\\_\\_Gammaproteobacteria..o\\_\\_Enterobacteriales..f\\_\\_Enterobacteriaceae..g\\_\\_..s\\_\\_id1951826 & k\\_\\_Bacteria..p\\_\\_Proteobacteria..c\\_\\_Betaproteobacteria..o\\_\\_..f\\_\\_..g\\_\\_..s\\_\\_id203879 & k\\_\\_Bacteria..p\\_\\_Verrucomicrobia..c\\_\\_Verrucomicrobiae..o\\_\\_Verrucomicrobiales..f\\_\\_Verrucomicrobiaceae..g\\_\\_Prosthecobacter..s\\_\\_debontiiid950620\\\\\n",
       "\\hline\n",
       "\t10422.17.F.1 & 0.000000e+00 & 0.000000e+00 & 0.000000e+00 & 0            & 0            & 0.0000000000 & 0            & 0            & 0            & 0            & ⋯            & 0            & 0            & 0            & 0            & 0            & 0            & 0            & 0            & 0            & 0.000000e+00\\\\\n",
       "\t10422.17.F.10 & 1.603373e-05 & 1.603373e-05 & 8.016867e-06 & 0            & 0            & 0.0002966241 & 0            & 0            & 0            & 0            & ⋯            & 0            & 0            & 0            & 0            & 0            & 0            & 0            & 0            & 0            & 8.016867e-06\\\\\n",
       "\t10422.17.F.11 & 0.000000e+00 & 1.493005e-05 & 0.000000e+00 & 0            & 0            & 0.0002239508 & 0            & 0            & 0            & 0            & ⋯            & 0            & 0            & 0            & 0            & 0            & 0            & 0            & 0            & 0            & 0.000000e+00\\\\\n",
       "\t10422.17.F.12 & 9.539527e-06 & 9.539527e-06 & 0.000000e+00 & 0            & 0            & 0.0002861858 & 0            & 0            & 0            & 0            & ⋯            & 0            & 0            & 0            & 0            & 0            & 0            & 0            & 0            & 0            & 9.539527e-06\\\\\n",
       "\t10422.17.F.13 & 1.083318e-05 & 0.000000e+00 & 0.000000e+00 & 0            & 0            & 0.0003791613 & 0            & 0            & 0            & 0            & ⋯            & 0            & 0            & 0            & 0            & 0            & 0            & 0            & 0            & 0            & 0.000000e+00\\\\\n",
       "\t10422.17.F.2 & 0.000000e+00 & 0.000000e+00 & 0.000000e+00 & 0            & 0            & 0.0000000000 & 0            & 0            & 0            & 0            & ⋯            & 0            & 0            & 0            & 0            & 0            & 0            & 0            & 0            & 0            & 0.000000e+00\\\\\n",
       "\\end{tabular}\n"
      ],
      "text/markdown": [
       "\n",
       "| <!--/--> | k__Bacteria..p__Firmicutes..c__Clostridia..o__Clostridiales..f__Clostridiaceae..g__..s__id268733 | k__Bacteria..p__Firmicutes..c__Bacilli..o__Lactobacillales..f__Lactobacillaceae..g__Lactobacillus..s__id4428313 | k__Bacteria..p__Firmicutes..c__Clostridia..o__Clostridiales..f__Clostridiaceae..g__Sarcina..s__id300662 | k__Bacteria..p__Firmicutes..c__Clostridia..o__Clostridiales..f__Clostridiaceae..g__..s__id182643 | k__Bacteria..p__Firmicutes..c__Clostridia..o__Clostridiales..f__Clostridiaceae..g__..s__id4446320 | k__Bacteria..p__Actinobacteria..c__Coriobacteriia..o__Coriobacteriales..f__Coriobacteriaceae..g__Adlercreutzia..s__id231510 | k__Bacteria..p__Firmicutes..c__Erysipelotrichi..o__Erysipelotrichales..f__Erysipelotrichaceae..g__Coprobacillus..s__id829337 | k__Bacteria..p__Firmicutes..c__Clostridia..o__Clostridiales..f__Ruminococcaceae..g__..s__id263252 | k__Bacteria..p__Firmicutes..c__Clostridia..o__Clostridiales..f__..g__..s__id266061 | k__Bacteria..p__Firmicutes..c__Clostridia..o__Clostridiales..f__Clostridiaceae..g__..s__id4454432 | ⋯ | k__Bacteria..p__Proteobacteria..c__Betaproteobacteria..o__Rhodocyclales..f__Rhodocyclaceae..g__..s__id4450646 | k__Bacteria..p__Firmicutes..c__Clostridia..o__Clostridiales..f__..g__..s__id311734 | k__Bacteria..p__Proteobacteria..c__Alphaproteobacteria..o__Rickettsiales..f__mitochondria..g__Pythium..s__ultimumid2343601 | k__Bacteria..p__Bacteroidetes..c__Flavobacteriia..o__Flavobacteriales..f__.Weeksellaceae...g__..s__id575652 | k__Bacteria..p__Firmicutes..c__Clostridia..o__Clostridiales..f__..g__..s__id267935 | k__Bacteria..p__Firmicutes..c__Clostridia..o__Clostridiales..f__..g__..s__id174698 | k__Bacteria..p__Firmicutes..c__Clostridia..o__Clostridiales..f__Veillonellaceae..g__Succiniclasticum..s__id806497 | k__Bacteria..p__Proteobacteria..c__Gammaproteobacteria..o__Enterobacteriales..f__Enterobacteriaceae..g__..s__id1951826 | k__Bacteria..p__Proteobacteria..c__Betaproteobacteria..o__..f__..g__..s__id203879 | k__Bacteria..p__Verrucomicrobia..c__Verrucomicrobiae..o__Verrucomicrobiales..f__Verrucomicrobiaceae..g__Prosthecobacter..s__debontiiid950620 | \n",
       "|---|---|---|---|---|---|\n",
       "| 10422.17.F.1 | 0.000000e+00 | 0.000000e+00 | 0.000000e+00 | 0            | 0            | 0.0000000000 | 0            | 0            | 0            | 0            | ⋯            | 0            | 0            | 0            | 0            | 0            | 0            | 0            | 0            | 0            | 0.000000e+00 | \n",
       "| 10422.17.F.10 | 1.603373e-05 | 1.603373e-05 | 8.016867e-06 | 0            | 0            | 0.0002966241 | 0            | 0            | 0            | 0            | ⋯            | 0            | 0            | 0            | 0            | 0            | 0            | 0            | 0            | 0            | 8.016867e-06 | \n",
       "| 10422.17.F.11 | 0.000000e+00 | 1.493005e-05 | 0.000000e+00 | 0            | 0            | 0.0002239508 | 0            | 0            | 0            | 0            | ⋯            | 0            | 0            | 0            | 0            | 0            | 0            | 0            | 0            | 0            | 0.000000e+00 | \n",
       "| 10422.17.F.12 | 9.539527e-06 | 9.539527e-06 | 0.000000e+00 | 0            | 0            | 0.0002861858 | 0            | 0            | 0            | 0            | ⋯            | 0            | 0            | 0            | 0            | 0            | 0            | 0            | 0            | 0            | 9.539527e-06 | \n",
       "| 10422.17.F.13 | 1.083318e-05 | 0.000000e+00 | 0.000000e+00 | 0            | 0            | 0.0003791613 | 0            | 0            | 0            | 0            | ⋯            | 0            | 0            | 0            | 0            | 0            | 0            | 0            | 0            | 0            | 0.000000e+00 | \n",
       "| 10422.17.F.2 | 0.000000e+00 | 0.000000e+00 | 0.000000e+00 | 0            | 0            | 0.0000000000 | 0            | 0            | 0            | 0            | ⋯            | 0            | 0            | 0            | 0            | 0            | 0            | 0            | 0            | 0            | 0.000000e+00 | \n",
       "\n",
       "\n"
      ],
      "text/plain": [
       "              k__Bacteria..p__Firmicutes..c__Clostridia..o__Clostridiales..f__Clostridiaceae..g__..s__id268733\n",
       "10422.17.F.1  0.000000e+00                                                                                    \n",
       "10422.17.F.10 1.603373e-05                                                                                    \n",
       "10422.17.F.11 0.000000e+00                                                                                    \n",
       "10422.17.F.12 9.539527e-06                                                                                    \n",
       "10422.17.F.13 1.083318e-05                                                                                    \n",
       "10422.17.F.2  0.000000e+00                                                                                    \n",
       "              k__Bacteria..p__Firmicutes..c__Bacilli..o__Lactobacillales..f__Lactobacillaceae..g__Lactobacillus..s__id4428313\n",
       "10422.17.F.1  0.000000e+00                                                                                                   \n",
       "10422.17.F.10 1.603373e-05                                                                                                   \n",
       "10422.17.F.11 1.493005e-05                                                                                                   \n",
       "10422.17.F.12 9.539527e-06                                                                                                   \n",
       "10422.17.F.13 0.000000e+00                                                                                                   \n",
       "10422.17.F.2  0.000000e+00                                                                                                   \n",
       "              k__Bacteria..p__Firmicutes..c__Clostridia..o__Clostridiales..f__Clostridiaceae..g__Sarcina..s__id300662\n",
       "10422.17.F.1  0.000000e+00                                                                                           \n",
       "10422.17.F.10 8.016867e-06                                                                                           \n",
       "10422.17.F.11 0.000000e+00                                                                                           \n",
       "10422.17.F.12 0.000000e+00                                                                                           \n",
       "10422.17.F.13 0.000000e+00                                                                                           \n",
       "10422.17.F.2  0.000000e+00                                                                                           \n",
       "              k__Bacteria..p__Firmicutes..c__Clostridia..o__Clostridiales..f__Clostridiaceae..g__..s__id182643\n",
       "10422.17.F.1  0                                                                                               \n",
       "10422.17.F.10 0                                                                                               \n",
       "10422.17.F.11 0                                                                                               \n",
       "10422.17.F.12 0                                                                                               \n",
       "10422.17.F.13 0                                                                                               \n",
       "10422.17.F.2  0                                                                                               \n",
       "              k__Bacteria..p__Firmicutes..c__Clostridia..o__Clostridiales..f__Clostridiaceae..g__..s__id4446320\n",
       "10422.17.F.1  0                                                                                                \n",
       "10422.17.F.10 0                                                                                                \n",
       "10422.17.F.11 0                                                                                                \n",
       "10422.17.F.12 0                                                                                                \n",
       "10422.17.F.13 0                                                                                                \n",
       "10422.17.F.2  0                                                                                                \n",
       "              k__Bacteria..p__Actinobacteria..c__Coriobacteriia..o__Coriobacteriales..f__Coriobacteriaceae..g__Adlercreutzia..s__id231510\n",
       "10422.17.F.1  0.0000000000                                                                                                               \n",
       "10422.17.F.10 0.0002966241                                                                                                               \n",
       "10422.17.F.11 0.0002239508                                                                                                               \n",
       "10422.17.F.12 0.0002861858                                                                                                               \n",
       "10422.17.F.13 0.0003791613                                                                                                               \n",
       "10422.17.F.2  0.0000000000                                                                                                               \n",
       "              k__Bacteria..p__Firmicutes..c__Erysipelotrichi..o__Erysipelotrichales..f__Erysipelotrichaceae..g__Coprobacillus..s__id829337\n",
       "10422.17.F.1  0                                                                                                                           \n",
       "10422.17.F.10 0                                                                                                                           \n",
       "10422.17.F.11 0                                                                                                                           \n",
       "10422.17.F.12 0                                                                                                                           \n",
       "10422.17.F.13 0                                                                                                                           \n",
       "10422.17.F.2  0                                                                                                                           \n",
       "              k__Bacteria..p__Firmicutes..c__Clostridia..o__Clostridiales..f__Ruminococcaceae..g__..s__id263252\n",
       "10422.17.F.1  0                                                                                                \n",
       "10422.17.F.10 0                                                                                                \n",
       "10422.17.F.11 0                                                                                                \n",
       "10422.17.F.12 0                                                                                                \n",
       "10422.17.F.13 0                                                                                                \n",
       "10422.17.F.2  0                                                                                                \n",
       "              k__Bacteria..p__Firmicutes..c__Clostridia..o__Clostridiales..f__..g__..s__id266061\n",
       "10422.17.F.1  0                                                                                 \n",
       "10422.17.F.10 0                                                                                 \n",
       "10422.17.F.11 0                                                                                 \n",
       "10422.17.F.12 0                                                                                 \n",
       "10422.17.F.13 0                                                                                 \n",
       "10422.17.F.2  0                                                                                 \n",
       "              k__Bacteria..p__Firmicutes..c__Clostridia..o__Clostridiales..f__Clostridiaceae..g__..s__id4454432\n",
       "10422.17.F.1  0                                                                                                \n",
       "10422.17.F.10 0                                                                                                \n",
       "10422.17.F.11 0                                                                                                \n",
       "10422.17.F.12 0                                                                                                \n",
       "10422.17.F.13 0                                                                                                \n",
       "10422.17.F.2  0                                                                                                \n",
       "              ⋯\n",
       "10422.17.F.1  ⋯\n",
       "10422.17.F.10 ⋯\n",
       "10422.17.F.11 ⋯\n",
       "10422.17.F.12 ⋯\n",
       "10422.17.F.13 ⋯\n",
       "10422.17.F.2  ⋯\n",
       "              k__Bacteria..p__Proteobacteria..c__Betaproteobacteria..o__Rhodocyclales..f__Rhodocyclaceae..g__..s__id4450646\n",
       "10422.17.F.1  0                                                                                                            \n",
       "10422.17.F.10 0                                                                                                            \n",
       "10422.17.F.11 0                                                                                                            \n",
       "10422.17.F.12 0                                                                                                            \n",
       "10422.17.F.13 0                                                                                                            \n",
       "10422.17.F.2  0                                                                                                            \n",
       "              k__Bacteria..p__Firmicutes..c__Clostridia..o__Clostridiales..f__..g__..s__id311734\n",
       "10422.17.F.1  0                                                                                 \n",
       "10422.17.F.10 0                                                                                 \n",
       "10422.17.F.11 0                                                                                 \n",
       "10422.17.F.12 0                                                                                 \n",
       "10422.17.F.13 0                                                                                 \n",
       "10422.17.F.2  0                                                                                 \n",
       "              k__Bacteria..p__Proteobacteria..c__Alphaproteobacteria..o__Rickettsiales..f__mitochondria..g__Pythium..s__ultimumid2343601\n",
       "10422.17.F.1  0                                                                                                                         \n",
       "10422.17.F.10 0                                                                                                                         \n",
       "10422.17.F.11 0                                                                                                                         \n",
       "10422.17.F.12 0                                                                                                                         \n",
       "10422.17.F.13 0                                                                                                                         \n",
       "10422.17.F.2  0                                                                                                                         \n",
       "              k__Bacteria..p__Bacteroidetes..c__Flavobacteriia..o__Flavobacteriales..f__.Weeksellaceae...g__..s__id575652\n",
       "10422.17.F.1  0                                                                                                          \n",
       "10422.17.F.10 0                                                                                                          \n",
       "10422.17.F.11 0                                                                                                          \n",
       "10422.17.F.12 0                                                                                                          \n",
       "10422.17.F.13 0                                                                                                          \n",
       "10422.17.F.2  0                                                                                                          \n",
       "              k__Bacteria..p__Firmicutes..c__Clostridia..o__Clostridiales..f__..g__..s__id267935\n",
       "10422.17.F.1  0                                                                                 \n",
       "10422.17.F.10 0                                                                                 \n",
       "10422.17.F.11 0                                                                                 \n",
       "10422.17.F.12 0                                                                                 \n",
       "10422.17.F.13 0                                                                                 \n",
       "10422.17.F.2  0                                                                                 \n",
       "              k__Bacteria..p__Firmicutes..c__Clostridia..o__Clostridiales..f__..g__..s__id174698\n",
       "10422.17.F.1  0                                                                                 \n",
       "10422.17.F.10 0                                                                                 \n",
       "10422.17.F.11 0                                                                                 \n",
       "10422.17.F.12 0                                                                                 \n",
       "10422.17.F.13 0                                                                                 \n",
       "10422.17.F.2  0                                                                                 \n",
       "              k__Bacteria..p__Firmicutes..c__Clostridia..o__Clostridiales..f__Veillonellaceae..g__Succiniclasticum..s__id806497\n",
       "10422.17.F.1  0                                                                                                                \n",
       "10422.17.F.10 0                                                                                                                \n",
       "10422.17.F.11 0                                                                                                                \n",
       "10422.17.F.12 0                                                                                                                \n",
       "10422.17.F.13 0                                                                                                                \n",
       "10422.17.F.2  0                                                                                                                \n",
       "              k__Bacteria..p__Proteobacteria..c__Gammaproteobacteria..o__Enterobacteriales..f__Enterobacteriaceae..g__..s__id1951826\n",
       "10422.17.F.1  0                                                                                                                     \n",
       "10422.17.F.10 0                                                                                                                     \n",
       "10422.17.F.11 0                                                                                                                     \n",
       "10422.17.F.12 0                                                                                                                     \n",
       "10422.17.F.13 0                                                                                                                     \n",
       "10422.17.F.2  0                                                                                                                     \n",
       "              k__Bacteria..p__Proteobacteria..c__Betaproteobacteria..o__..f__..g__..s__id203879\n",
       "10422.17.F.1  0                                                                                \n",
       "10422.17.F.10 0                                                                                \n",
       "10422.17.F.11 0                                                                                \n",
       "10422.17.F.12 0                                                                                \n",
       "10422.17.F.13 0                                                                                \n",
       "10422.17.F.2  0                                                                                \n",
       "              k__Bacteria..p__Verrucomicrobia..c__Verrucomicrobiae..o__Verrucomicrobiales..f__Verrucomicrobiaceae..g__Prosthecobacter..s__debontiiid950620\n",
       "10422.17.F.1  0.000000e+00                                                                                                                                \n",
       "10422.17.F.10 8.016867e-06                                                                                                                                \n",
       "10422.17.F.11 0.000000e+00                                                                                                                                \n",
       "10422.17.F.12 9.539527e-06                                                                                                                                \n",
       "10422.17.F.13 0.000000e+00                                                                                                                                \n",
       "10422.17.F.2  0.000000e+00                                                                                                                                "
      ]
     },
     "metadata": {},
     "output_type": "display_data"
    }
   ],
   "source": [
    "head(dat_microb)"
   ]
  },
  {
   "cell_type": "code",
   "execution_count": 86,
   "metadata": {
    "collapsed": false
   },
   "outputs": [],
   "source": [
    "dat_metab=dat_metab[, c(metab_pr)]"
   ]
  },
  {
   "cell_type": "code",
   "execution_count": 87,
   "metadata": {
    "collapsed": false
   },
   "outputs": [
    {
     "data": {
      "text/html": [
       "<ol class=list-inline>\n",
       "\t<li>202</li>\n",
       "\t<li>79</li>\n",
       "</ol>\n"
      ],
      "text/latex": [
       "\\begin{enumerate*}\n",
       "\\item 202\n",
       "\\item 79\n",
       "\\end{enumerate*}\n"
      ],
      "text/markdown": [
       "1. 202\n",
       "2. 79\n",
       "\n",
       "\n"
      ],
      "text/plain": [
       "[1] 202  79"
      ]
     },
     "metadata": {},
     "output_type": "display_data"
    }
   ],
   "source": [
    "dim(dat_metab)"
   ]
  },
  {
   "cell_type": "code",
   "execution_count": 88,
   "metadata": {
    "collapsed": false
   },
   "outputs": [],
   "source": [
    "dat_microb=dat_microb[, c(microb_lc)]"
   ]
  },
  {
   "cell_type": "code",
   "execution_count": 90,
   "metadata": {
    "collapsed": false
   },
   "outputs": [
    {
     "data": {
      "text/html": [
       "<ol class=list-inline>\n",
       "\t<li>202</li>\n",
       "\t<li>37</li>\n",
       "</ol>\n"
      ],
      "text/latex": [
       "\\begin{enumerate*}\n",
       "\\item 202\n",
       "\\item 37\n",
       "\\end{enumerate*}\n"
      ],
      "text/markdown": [
       "1. 202\n",
       "2. 37\n",
       "\n",
       "\n"
      ],
      "text/plain": [
       "[1] 202  37"
      ]
     },
     "metadata": {},
     "output_type": "display_data"
    }
   ],
   "source": [
    "dim(dat_microb)"
   ]
  },
  {
   "cell_type": "code",
   "execution_count": 8,
   "metadata": {
    "collapsed": false
   },
   "outputs": [],
   "source": [
    "feature_corr=cor(dat_microb, dat_metab, use='p')\n",
    "feature_corrPvalue=corPvalueStudent(feature_corr, nSamples_metab)\n",
    "\n",
    "# moduleTraitCor = cor(MEs_metab, MEs_microb, use='p')\n",
    "# moduleTraitPvalue = corPvalueStudent(moduleTraitCor, nSamples_metab)"
   ]
  },
  {
   "cell_type": "markdown",
   "metadata": {},
   "source": [
    "## plot pairwise corr"
   ]
  },
  {
   "cell_type": "markdown",
   "metadata": {
    "collapsed": false
   },
   "source": [
    "1. Visualize as a heatmap. http://seaborn.pydata.org/generated/seaborn.clustermap.html\n",
    "the key is to get the right clustering\n",
    "http://seaborn.pydata.org/examples/network_correlations.html\n",
    "2. Visualize as a network\n",
    "you can do it in cytoscape\n",
    "the most effective tutorial that I found was actually through speic easi\n",
    "https://stamps.mbl.edu/images/e/e9/SpiecEasi_tutorial_08102016.pdf\n",
    "https://stamps.mbl.edu/images/c/c2/STAMPS_Network_3.pdf\n",
    "tutorials from stamps last year\n",
    "3. the 3rd way is doing a PCoA on the correlation matrix -- this one will take a bit of thought though ...\n",
    "its analogous to the PLS biplots that I had with the office study\n",
    "basically trying to see the driving axes of correlation\""
   ]
  },
  {
   "cell_type": "code",
   "execution_count": 95,
   "metadata": {
    "collapsed": false
   },
   "outputs": [
    {
     "data": {
      "text/html": [
       "<table>\n",
       "<thead><tr><th></th><th scope=col>X12.S..Hydroxy.16.heptadecynoic.acid_265.2_348.3</th><th scope=col>X20.6489735772358_155.054001629239</th><th scope=col>X20.0305406504065_185.065251997431</th><th scope=col>X13.14.Dihydro.15.ketoprostaglandin.D1_220.1_358.3</th><th scope=col>Traumatic.Acid_225.0_356.3</th><th scope=col>X9.10..EpOME_297.6_340.3</th><th scope=col>X12.S..Hydroxy.16.heptadecynoic.acid_262.7_362.3</th><th scope=col>X8.9..EET.methyl.ester_316.3_332.3</th><th scope=col>ReSpect.PM018114.Sinapoylmalate_204.6_364.3</th><th scope=col>X15.OxoETE_319.7_326.3</th><th scope=col>⋯</th><th scope=col>X2.Butanone..4..2.6.6.trimethyl.2.cyclohexen.1.yl.._177.0_657.3</th><th scope=col>ReSpect.PM018114.Sinapoylmalate_205.4_443.3</th><th scope=col>Amitriptyline_278.4_413.3</th><th scope=col>Genipin_209.4_423.2</th><th scope=col>Traumatic.Acid_226.0_357.2</th><th scope=col>X115.294862068966_251.63289853936</th><th scope=col>X5.Z..8.Z..11.Z..Eicosatrienoic.acid.methyl.ester_322.4_465.3</th><th scope=col>Genipin_210.5_485.2</th><th scope=col>Jasmine.lactone_187.8_547.2</th><th scope=col>X2.Butanone..4..2.6.6.trimethyl.2.cyclohexen.1.yl.._181.4_893.3</th></tr></thead>\n",
       "<tbody>\n",
       "\t<tr><th scope=row>k__Bacteria..p__Firmicutes..c__Clostridia..o__Clostridiales..f__Clostridiaceae..g__..s__id268733</th><td>0.3562363 </td><td>0.2984850 </td><td>0.2302734 </td><td>0.2858731 </td><td>0.2588132 </td><td>0.3000244 </td><td>0.3253156 </td><td>0.2282180 </td><td>0.3343173 </td><td>0.2112793 </td><td>⋯         </td><td>0.2456764 </td><td>0.3291873 </td><td>0.1703194 </td><td>0.1492192 </td><td>0.2138754 </td><td>0.2795446 </td><td>0.2001561 </td><td>0.05612475</td><td>0.1740208 </td><td>0.1616927 </td></tr>\n",
       "\t<tr><th scope=row>k__Bacteria..p__Firmicutes..c__Clostridia..o__Clostridiales..f__Clostridiaceae..g__Sarcina..s__id300662</th><td>0.4261133 </td><td>0.3337124 </td><td>0.3174390 </td><td>0.3791473 </td><td>0.3393324 </td><td>0.3706163 </td><td>0.3609235 </td><td>0.2986067 </td><td>0.4221264 </td><td>0.3240202 </td><td>⋯         </td><td>0.3520267 </td><td>0.2540711 </td><td>0.1930689 </td><td>0.1740340 </td><td>0.2419324 </td><td>0.2269823 </td><td>0.3082185 </td><td>0.13141920</td><td>0.2043832 </td><td>0.1866633 </td></tr>\n",
       "\t<tr><th scope=row>k__Bacteria..p__Firmicutes..c__Clostridia..o__Clostridiales..f__Clostridiaceae..g__..s__id182643</th><td>0.4062420 </td><td>0.3482331 </td><td>0.3108035 </td><td>0.3457455 </td><td>0.3086304 </td><td>0.3383004 </td><td>0.3105252 </td><td>0.2890587 </td><td>0.3964101 </td><td>0.3022334 </td><td>⋯         </td><td>0.3405589 </td><td>0.2847508 </td><td>0.2475531 </td><td>0.1982740 </td><td>0.3948064 </td><td>0.3439179 </td><td>0.3161216 </td><td>0.14764715</td><td>0.2295885 </td><td>0.2567351 </td></tr>\n",
       "\t<tr><th scope=row>k__Bacteria..p__Firmicutes..c__Clostridia..o__Clostridiales..f__Clostridiaceae..g__..s__id4446320</th><td>0.4414626 </td><td>0.3440759 </td><td>0.2775252 </td><td>0.3709414 </td><td>0.3537564 </td><td>0.3868538 </td><td>0.3836030 </td><td>0.3034718 </td><td>0.3977605 </td><td>0.2761036 </td><td>⋯         </td><td>0.2785341 </td><td>0.4097431 </td><td>0.1394990 </td><td>0.2017437 </td><td>0.2188151 </td><td>0.2773698 </td><td>0.2701837 </td><td>0.05078186</td><td>0.2261220 </td><td>0.1480575 </td></tr>\n",
       "\t<tr><th scope=row>k__Bacteria..p__Firmicutes..c__Clostridia..o__Clostridiales..f__Clostridiaceae..g__..s__id4454432</th><td>0.3416242 </td><td>0.3226955 </td><td>0.2625640 </td><td>0.2808843 </td><td>0.2682769 </td><td>0.2967535 </td><td>0.2752368 </td><td>0.2363291 </td><td>0.3247875 </td><td>0.2065694 </td><td>⋯         </td><td>0.2431626 </td><td>0.4086724 </td><td>0.1913065 </td><td>0.2197257 </td><td>0.1985283 </td><td>0.3131342 </td><td>0.2486102 </td><td>0.09217263</td><td>0.1609590 </td><td>0.1720722 </td></tr>\n",
       "\t<tr><th scope=row>k__Bacteria..p__Firmicutes..c__Clostridia..o__Clostridiales..f__Ruminococcaceae..g__..s__id276044</th><td>0.4554624 </td><td>0.3233636 </td><td>0.2796905 </td><td>0.3983743 </td><td>0.3720491 </td><td>0.3903913 </td><td>0.3835109 </td><td>0.2928451 </td><td>0.4303663 </td><td>0.2929552 </td><td>⋯         </td><td>0.3558066 </td><td>0.2952896 </td><td>0.2302536 </td><td>0.1268460 </td><td>0.3261129 </td><td>0.3152505 </td><td>0.2207010 </td><td>0.11742298</td><td>0.2223556 </td><td>0.2129771 </td></tr>\n",
       "</tbody>\n",
       "</table>\n"
      ],
      "text/latex": [
       "\\begin{tabular}{r|lllllllllllllllllllllllllllllllllllllllllllllllllllllllllllllllllllllllllllllll}\n",
       "  & X12.S..Hydroxy.16.heptadecynoic.acid\\_265.2\\_348.3 & X20.6489735772358\\_155.054001629239 & X20.0305406504065\\_185.065251997431 & X13.14.Dihydro.15.ketoprostaglandin.D1\\_220.1\\_358.3 & Traumatic.Acid\\_225.0\\_356.3 & X9.10..EpOME\\_297.6\\_340.3 & X12.S..Hydroxy.16.heptadecynoic.acid\\_262.7\\_362.3 & X8.9..EET.methyl.ester\\_316.3\\_332.3 & ReSpect.PM018114.Sinapoylmalate\\_204.6\\_364.3 & X15.OxoETE\\_319.7\\_326.3 & ⋯ & X2.Butanone..4..2.6.6.trimethyl.2.cyclohexen.1.yl..\\_177.0\\_657.3 & ReSpect.PM018114.Sinapoylmalate\\_205.4\\_443.3 & Amitriptyline\\_278.4\\_413.3 & Genipin\\_209.4\\_423.2 & Traumatic.Acid\\_226.0\\_357.2 & X115.294862068966\\_251.63289853936 & X5.Z..8.Z..11.Z..Eicosatrienoic.acid.methyl.ester\\_322.4\\_465.3 & Genipin\\_210.5\\_485.2 & Jasmine.lactone\\_187.8\\_547.2 & X2.Butanone..4..2.6.6.trimethyl.2.cyclohexen.1.yl..\\_181.4\\_893.3\\\\\n",
       "\\hline\n",
       "\tk\\_\\_Bacteria..p\\_\\_Firmicutes..c\\_\\_Clostridia..o\\_\\_Clostridiales..f\\_\\_Clostridiaceae..g\\_\\_..s\\_\\_id268733 & 0.3562363  & 0.2984850  & 0.2302734  & 0.2858731  & 0.2588132  & 0.3000244  & 0.3253156  & 0.2282180  & 0.3343173  & 0.2112793  & ⋯          & 0.2456764  & 0.3291873  & 0.1703194  & 0.1492192  & 0.2138754  & 0.2795446  & 0.2001561  & 0.05612475 & 0.1740208  & 0.1616927 \\\\\n",
       "\tk\\_\\_Bacteria..p\\_\\_Firmicutes..c\\_\\_Clostridia..o\\_\\_Clostridiales..f\\_\\_Clostridiaceae..g\\_\\_Sarcina..s\\_\\_id300662 & 0.4261133  & 0.3337124  & 0.3174390  & 0.3791473  & 0.3393324  & 0.3706163  & 0.3609235  & 0.2986067  & 0.4221264  & 0.3240202  & ⋯          & 0.3520267  & 0.2540711  & 0.1930689  & 0.1740340  & 0.2419324  & 0.2269823  & 0.3082185  & 0.13141920 & 0.2043832  & 0.1866633 \\\\\n",
       "\tk\\_\\_Bacteria..p\\_\\_Firmicutes..c\\_\\_Clostridia..o\\_\\_Clostridiales..f\\_\\_Clostridiaceae..g\\_\\_..s\\_\\_id182643 & 0.4062420  & 0.3482331  & 0.3108035  & 0.3457455  & 0.3086304  & 0.3383004  & 0.3105252  & 0.2890587  & 0.3964101  & 0.3022334  & ⋯          & 0.3405589  & 0.2847508  & 0.2475531  & 0.1982740  & 0.3948064  & 0.3439179  & 0.3161216  & 0.14764715 & 0.2295885  & 0.2567351 \\\\\n",
       "\tk\\_\\_Bacteria..p\\_\\_Firmicutes..c\\_\\_Clostridia..o\\_\\_Clostridiales..f\\_\\_Clostridiaceae..g\\_\\_..s\\_\\_id4446320 & 0.4414626  & 0.3440759  & 0.2775252  & 0.3709414  & 0.3537564  & 0.3868538  & 0.3836030  & 0.3034718  & 0.3977605  & 0.2761036  & ⋯          & 0.2785341  & 0.4097431  & 0.1394990  & 0.2017437  & 0.2188151  & 0.2773698  & 0.2701837  & 0.05078186 & 0.2261220  & 0.1480575 \\\\\n",
       "\tk\\_\\_Bacteria..p\\_\\_Firmicutes..c\\_\\_Clostridia..o\\_\\_Clostridiales..f\\_\\_Clostridiaceae..g\\_\\_..s\\_\\_id4454432 & 0.3416242  & 0.3226955  & 0.2625640  & 0.2808843  & 0.2682769  & 0.2967535  & 0.2752368  & 0.2363291  & 0.3247875  & 0.2065694  & ⋯          & 0.2431626  & 0.4086724  & 0.1913065  & 0.2197257  & 0.1985283  & 0.3131342  & 0.2486102  & 0.09217263 & 0.1609590  & 0.1720722 \\\\\n",
       "\tk\\_\\_Bacteria..p\\_\\_Firmicutes..c\\_\\_Clostridia..o\\_\\_Clostridiales..f\\_\\_Ruminococcaceae..g\\_\\_..s\\_\\_id276044 & 0.4554624  & 0.3233636  & 0.2796905  & 0.3983743  & 0.3720491  & 0.3903913  & 0.3835109  & 0.2928451  & 0.4303663  & 0.2929552  & ⋯          & 0.3558066  & 0.2952896  & 0.2302536  & 0.1268460  & 0.3261129  & 0.3152505  & 0.2207010  & 0.11742298 & 0.2223556  & 0.2129771 \\\\\n",
       "\\end{tabular}\n"
      ],
      "text/markdown": [
       "\n",
       "| <!--/--> | X12.S..Hydroxy.16.heptadecynoic.acid_265.2_348.3 | X20.6489735772358_155.054001629239 | X20.0305406504065_185.065251997431 | X13.14.Dihydro.15.ketoprostaglandin.D1_220.1_358.3 | Traumatic.Acid_225.0_356.3 | X9.10..EpOME_297.6_340.3 | X12.S..Hydroxy.16.heptadecynoic.acid_262.7_362.3 | X8.9..EET.methyl.ester_316.3_332.3 | ReSpect.PM018114.Sinapoylmalate_204.6_364.3 | X15.OxoETE_319.7_326.3 | ⋯ | X2.Butanone..4..2.6.6.trimethyl.2.cyclohexen.1.yl.._177.0_657.3 | ReSpect.PM018114.Sinapoylmalate_205.4_443.3 | Amitriptyline_278.4_413.3 | Genipin_209.4_423.2 | Traumatic.Acid_226.0_357.2 | X115.294862068966_251.63289853936 | X5.Z..8.Z..11.Z..Eicosatrienoic.acid.methyl.ester_322.4_465.3 | Genipin_210.5_485.2 | Jasmine.lactone_187.8_547.2 | X2.Butanone..4..2.6.6.trimethyl.2.cyclohexen.1.yl.._181.4_893.3 | \n",
       "|---|---|---|---|---|---|\n",
       "| k__Bacteria..p__Firmicutes..c__Clostridia..o__Clostridiales..f__Clostridiaceae..g__..s__id268733 | 0.3562363  | 0.2984850  | 0.2302734  | 0.2858731  | 0.2588132  | 0.3000244  | 0.3253156  | 0.2282180  | 0.3343173  | 0.2112793  | ⋯          | 0.2456764  | 0.3291873  | 0.1703194  | 0.1492192  | 0.2138754  | 0.2795446  | 0.2001561  | 0.05612475 | 0.1740208  | 0.1616927  | \n",
       "| k__Bacteria..p__Firmicutes..c__Clostridia..o__Clostridiales..f__Clostridiaceae..g__Sarcina..s__id300662 | 0.4261133  | 0.3337124  | 0.3174390  | 0.3791473  | 0.3393324  | 0.3706163  | 0.3609235  | 0.2986067  | 0.4221264  | 0.3240202  | ⋯          | 0.3520267  | 0.2540711  | 0.1930689  | 0.1740340  | 0.2419324  | 0.2269823  | 0.3082185  | 0.13141920 | 0.2043832  | 0.1866633  | \n",
       "| k__Bacteria..p__Firmicutes..c__Clostridia..o__Clostridiales..f__Clostridiaceae..g__..s__id182643 | 0.4062420  | 0.3482331  | 0.3108035  | 0.3457455  | 0.3086304  | 0.3383004  | 0.3105252  | 0.2890587  | 0.3964101  | 0.3022334  | ⋯          | 0.3405589  | 0.2847508  | 0.2475531  | 0.1982740  | 0.3948064  | 0.3439179  | 0.3161216  | 0.14764715 | 0.2295885  | 0.2567351  | \n",
       "| k__Bacteria..p__Firmicutes..c__Clostridia..o__Clostridiales..f__Clostridiaceae..g__..s__id4446320 | 0.4414626  | 0.3440759  | 0.2775252  | 0.3709414  | 0.3537564  | 0.3868538  | 0.3836030  | 0.3034718  | 0.3977605  | 0.2761036  | ⋯          | 0.2785341  | 0.4097431  | 0.1394990  | 0.2017437  | 0.2188151  | 0.2773698  | 0.2701837  | 0.05078186 | 0.2261220  | 0.1480575  | \n",
       "| k__Bacteria..p__Firmicutes..c__Clostridia..o__Clostridiales..f__Clostridiaceae..g__..s__id4454432 | 0.3416242  | 0.3226955  | 0.2625640  | 0.2808843  | 0.2682769  | 0.2967535  | 0.2752368  | 0.2363291  | 0.3247875  | 0.2065694  | ⋯          | 0.2431626  | 0.4086724  | 0.1913065  | 0.2197257  | 0.1985283  | 0.3131342  | 0.2486102  | 0.09217263 | 0.1609590  | 0.1720722  | \n",
       "| k__Bacteria..p__Firmicutes..c__Clostridia..o__Clostridiales..f__Ruminococcaceae..g__..s__id276044 | 0.4554624  | 0.3233636  | 0.2796905  | 0.3983743  | 0.3720491  | 0.3903913  | 0.3835109  | 0.2928451  | 0.4303663  | 0.2929552  | ⋯          | 0.3558066  | 0.2952896  | 0.2302536  | 0.1268460  | 0.3261129  | 0.3152505  | 0.2207010  | 0.11742298 | 0.2223556  | 0.2129771  | \n",
       "\n",
       "\n"
      ],
      "text/plain": [
       "                                                                                                        X12.S..Hydroxy.16.heptadecynoic.acid_265.2_348.3\n",
       "k__Bacteria..p__Firmicutes..c__Clostridia..o__Clostridiales..f__Clostridiaceae..g__..s__id268733        0.3562363                                       \n",
       "k__Bacteria..p__Firmicutes..c__Clostridia..o__Clostridiales..f__Clostridiaceae..g__Sarcina..s__id300662 0.4261133                                       \n",
       "k__Bacteria..p__Firmicutes..c__Clostridia..o__Clostridiales..f__Clostridiaceae..g__..s__id182643        0.4062420                                       \n",
       "k__Bacteria..p__Firmicutes..c__Clostridia..o__Clostridiales..f__Clostridiaceae..g__..s__id4446320       0.4414626                                       \n",
       "k__Bacteria..p__Firmicutes..c__Clostridia..o__Clostridiales..f__Clostridiaceae..g__..s__id4454432       0.3416242                                       \n",
       "k__Bacteria..p__Firmicutes..c__Clostridia..o__Clostridiales..f__Ruminococcaceae..g__..s__id276044       0.4554624                                       \n",
       "                                                                                                        X20.6489735772358_155.054001629239\n",
       "k__Bacteria..p__Firmicutes..c__Clostridia..o__Clostridiales..f__Clostridiaceae..g__..s__id268733        0.2984850                         \n",
       "k__Bacteria..p__Firmicutes..c__Clostridia..o__Clostridiales..f__Clostridiaceae..g__Sarcina..s__id300662 0.3337124                         \n",
       "k__Bacteria..p__Firmicutes..c__Clostridia..o__Clostridiales..f__Clostridiaceae..g__..s__id182643        0.3482331                         \n",
       "k__Bacteria..p__Firmicutes..c__Clostridia..o__Clostridiales..f__Clostridiaceae..g__..s__id4446320       0.3440759                         \n",
       "k__Bacteria..p__Firmicutes..c__Clostridia..o__Clostridiales..f__Clostridiaceae..g__..s__id4454432       0.3226955                         \n",
       "k__Bacteria..p__Firmicutes..c__Clostridia..o__Clostridiales..f__Ruminococcaceae..g__..s__id276044       0.3233636                         \n",
       "                                                                                                        X20.0305406504065_185.065251997431\n",
       "k__Bacteria..p__Firmicutes..c__Clostridia..o__Clostridiales..f__Clostridiaceae..g__..s__id268733        0.2302734                         \n",
       "k__Bacteria..p__Firmicutes..c__Clostridia..o__Clostridiales..f__Clostridiaceae..g__Sarcina..s__id300662 0.3174390                         \n",
       "k__Bacteria..p__Firmicutes..c__Clostridia..o__Clostridiales..f__Clostridiaceae..g__..s__id182643        0.3108035                         \n",
       "k__Bacteria..p__Firmicutes..c__Clostridia..o__Clostridiales..f__Clostridiaceae..g__..s__id4446320       0.2775252                         \n",
       "k__Bacteria..p__Firmicutes..c__Clostridia..o__Clostridiales..f__Clostridiaceae..g__..s__id4454432       0.2625640                         \n",
       "k__Bacteria..p__Firmicutes..c__Clostridia..o__Clostridiales..f__Ruminococcaceae..g__..s__id276044       0.2796905                         \n",
       "                                                                                                        X13.14.Dihydro.15.ketoprostaglandin.D1_220.1_358.3\n",
       "k__Bacteria..p__Firmicutes..c__Clostridia..o__Clostridiales..f__Clostridiaceae..g__..s__id268733        0.2858731                                         \n",
       "k__Bacteria..p__Firmicutes..c__Clostridia..o__Clostridiales..f__Clostridiaceae..g__Sarcina..s__id300662 0.3791473                                         \n",
       "k__Bacteria..p__Firmicutes..c__Clostridia..o__Clostridiales..f__Clostridiaceae..g__..s__id182643        0.3457455                                         \n",
       "k__Bacteria..p__Firmicutes..c__Clostridia..o__Clostridiales..f__Clostridiaceae..g__..s__id4446320       0.3709414                                         \n",
       "k__Bacteria..p__Firmicutes..c__Clostridia..o__Clostridiales..f__Clostridiaceae..g__..s__id4454432       0.2808843                                         \n",
       "k__Bacteria..p__Firmicutes..c__Clostridia..o__Clostridiales..f__Ruminococcaceae..g__..s__id276044       0.3983743                                         \n",
       "                                                                                                        Traumatic.Acid_225.0_356.3\n",
       "k__Bacteria..p__Firmicutes..c__Clostridia..o__Clostridiales..f__Clostridiaceae..g__..s__id268733        0.2588132                 \n",
       "k__Bacteria..p__Firmicutes..c__Clostridia..o__Clostridiales..f__Clostridiaceae..g__Sarcina..s__id300662 0.3393324                 \n",
       "k__Bacteria..p__Firmicutes..c__Clostridia..o__Clostridiales..f__Clostridiaceae..g__..s__id182643        0.3086304                 \n",
       "k__Bacteria..p__Firmicutes..c__Clostridia..o__Clostridiales..f__Clostridiaceae..g__..s__id4446320       0.3537564                 \n",
       "k__Bacteria..p__Firmicutes..c__Clostridia..o__Clostridiales..f__Clostridiaceae..g__..s__id4454432       0.2682769                 \n",
       "k__Bacteria..p__Firmicutes..c__Clostridia..o__Clostridiales..f__Ruminococcaceae..g__..s__id276044       0.3720491                 \n",
       "                                                                                                        X9.10..EpOME_297.6_340.3\n",
       "k__Bacteria..p__Firmicutes..c__Clostridia..o__Clostridiales..f__Clostridiaceae..g__..s__id268733        0.3000244               \n",
       "k__Bacteria..p__Firmicutes..c__Clostridia..o__Clostridiales..f__Clostridiaceae..g__Sarcina..s__id300662 0.3706163               \n",
       "k__Bacteria..p__Firmicutes..c__Clostridia..o__Clostridiales..f__Clostridiaceae..g__..s__id182643        0.3383004               \n",
       "k__Bacteria..p__Firmicutes..c__Clostridia..o__Clostridiales..f__Clostridiaceae..g__..s__id4446320       0.3868538               \n",
       "k__Bacteria..p__Firmicutes..c__Clostridia..o__Clostridiales..f__Clostridiaceae..g__..s__id4454432       0.2967535               \n",
       "k__Bacteria..p__Firmicutes..c__Clostridia..o__Clostridiales..f__Ruminococcaceae..g__..s__id276044       0.3903913               \n",
       "                                                                                                        X12.S..Hydroxy.16.heptadecynoic.acid_262.7_362.3\n",
       "k__Bacteria..p__Firmicutes..c__Clostridia..o__Clostridiales..f__Clostridiaceae..g__..s__id268733        0.3253156                                       \n",
       "k__Bacteria..p__Firmicutes..c__Clostridia..o__Clostridiales..f__Clostridiaceae..g__Sarcina..s__id300662 0.3609235                                       \n",
       "k__Bacteria..p__Firmicutes..c__Clostridia..o__Clostridiales..f__Clostridiaceae..g__..s__id182643        0.3105252                                       \n",
       "k__Bacteria..p__Firmicutes..c__Clostridia..o__Clostridiales..f__Clostridiaceae..g__..s__id4446320       0.3836030                                       \n",
       "k__Bacteria..p__Firmicutes..c__Clostridia..o__Clostridiales..f__Clostridiaceae..g__..s__id4454432       0.2752368                                       \n",
       "k__Bacteria..p__Firmicutes..c__Clostridia..o__Clostridiales..f__Ruminococcaceae..g__..s__id276044       0.3835109                                       \n",
       "                                                                                                        X8.9..EET.methyl.ester_316.3_332.3\n",
       "k__Bacteria..p__Firmicutes..c__Clostridia..o__Clostridiales..f__Clostridiaceae..g__..s__id268733        0.2282180                         \n",
       "k__Bacteria..p__Firmicutes..c__Clostridia..o__Clostridiales..f__Clostridiaceae..g__Sarcina..s__id300662 0.2986067                         \n",
       "k__Bacteria..p__Firmicutes..c__Clostridia..o__Clostridiales..f__Clostridiaceae..g__..s__id182643        0.2890587                         \n",
       "k__Bacteria..p__Firmicutes..c__Clostridia..o__Clostridiales..f__Clostridiaceae..g__..s__id4446320       0.3034718                         \n",
       "k__Bacteria..p__Firmicutes..c__Clostridia..o__Clostridiales..f__Clostridiaceae..g__..s__id4454432       0.2363291                         \n",
       "k__Bacteria..p__Firmicutes..c__Clostridia..o__Clostridiales..f__Ruminococcaceae..g__..s__id276044       0.2928451                         \n",
       "                                                                                                        ReSpect.PM018114.Sinapoylmalate_204.6_364.3\n",
       "k__Bacteria..p__Firmicutes..c__Clostridia..o__Clostridiales..f__Clostridiaceae..g__..s__id268733        0.3343173                                  \n",
       "k__Bacteria..p__Firmicutes..c__Clostridia..o__Clostridiales..f__Clostridiaceae..g__Sarcina..s__id300662 0.4221264                                  \n",
       "k__Bacteria..p__Firmicutes..c__Clostridia..o__Clostridiales..f__Clostridiaceae..g__..s__id182643        0.3964101                                  \n",
       "k__Bacteria..p__Firmicutes..c__Clostridia..o__Clostridiales..f__Clostridiaceae..g__..s__id4446320       0.3977605                                  \n",
       "k__Bacteria..p__Firmicutes..c__Clostridia..o__Clostridiales..f__Clostridiaceae..g__..s__id4454432       0.3247875                                  \n",
       "k__Bacteria..p__Firmicutes..c__Clostridia..o__Clostridiales..f__Ruminococcaceae..g__..s__id276044       0.4303663                                  \n",
       "                                                                                                        X15.OxoETE_319.7_326.3\n",
       "k__Bacteria..p__Firmicutes..c__Clostridia..o__Clostridiales..f__Clostridiaceae..g__..s__id268733        0.2112793             \n",
       "k__Bacteria..p__Firmicutes..c__Clostridia..o__Clostridiales..f__Clostridiaceae..g__Sarcina..s__id300662 0.3240202             \n",
       "k__Bacteria..p__Firmicutes..c__Clostridia..o__Clostridiales..f__Clostridiaceae..g__..s__id182643        0.3022334             \n",
       "k__Bacteria..p__Firmicutes..c__Clostridia..o__Clostridiales..f__Clostridiaceae..g__..s__id4446320       0.2761036             \n",
       "k__Bacteria..p__Firmicutes..c__Clostridia..o__Clostridiales..f__Clostridiaceae..g__..s__id4454432       0.2065694             \n",
       "k__Bacteria..p__Firmicutes..c__Clostridia..o__Clostridiales..f__Ruminococcaceae..g__..s__id276044       0.2929552             \n",
       "                                                                                                        ⋯\n",
       "k__Bacteria..p__Firmicutes..c__Clostridia..o__Clostridiales..f__Clostridiaceae..g__..s__id268733        ⋯\n",
       "k__Bacteria..p__Firmicutes..c__Clostridia..o__Clostridiales..f__Clostridiaceae..g__Sarcina..s__id300662 ⋯\n",
       "k__Bacteria..p__Firmicutes..c__Clostridia..o__Clostridiales..f__Clostridiaceae..g__..s__id182643        ⋯\n",
       "k__Bacteria..p__Firmicutes..c__Clostridia..o__Clostridiales..f__Clostridiaceae..g__..s__id4446320       ⋯\n",
       "k__Bacteria..p__Firmicutes..c__Clostridia..o__Clostridiales..f__Clostridiaceae..g__..s__id4454432       ⋯\n",
       "k__Bacteria..p__Firmicutes..c__Clostridia..o__Clostridiales..f__Ruminococcaceae..g__..s__id276044       ⋯\n",
       "                                                                                                        X2.Butanone..4..2.6.6.trimethyl.2.cyclohexen.1.yl.._177.0_657.3\n",
       "k__Bacteria..p__Firmicutes..c__Clostridia..o__Clostridiales..f__Clostridiaceae..g__..s__id268733        0.2456764                                                      \n",
       "k__Bacteria..p__Firmicutes..c__Clostridia..o__Clostridiales..f__Clostridiaceae..g__Sarcina..s__id300662 0.3520267                                                      \n",
       "k__Bacteria..p__Firmicutes..c__Clostridia..o__Clostridiales..f__Clostridiaceae..g__..s__id182643        0.3405589                                                      \n",
       "k__Bacteria..p__Firmicutes..c__Clostridia..o__Clostridiales..f__Clostridiaceae..g__..s__id4446320       0.2785341                                                      \n",
       "k__Bacteria..p__Firmicutes..c__Clostridia..o__Clostridiales..f__Clostridiaceae..g__..s__id4454432       0.2431626                                                      \n",
       "k__Bacteria..p__Firmicutes..c__Clostridia..o__Clostridiales..f__Ruminococcaceae..g__..s__id276044       0.3558066                                                      \n",
       "                                                                                                        ReSpect.PM018114.Sinapoylmalate_205.4_443.3\n",
       "k__Bacteria..p__Firmicutes..c__Clostridia..o__Clostridiales..f__Clostridiaceae..g__..s__id268733        0.3291873                                  \n",
       "k__Bacteria..p__Firmicutes..c__Clostridia..o__Clostridiales..f__Clostridiaceae..g__Sarcina..s__id300662 0.2540711                                  \n",
       "k__Bacteria..p__Firmicutes..c__Clostridia..o__Clostridiales..f__Clostridiaceae..g__..s__id182643        0.2847508                                  \n",
       "k__Bacteria..p__Firmicutes..c__Clostridia..o__Clostridiales..f__Clostridiaceae..g__..s__id4446320       0.4097431                                  \n",
       "k__Bacteria..p__Firmicutes..c__Clostridia..o__Clostridiales..f__Clostridiaceae..g__..s__id4454432       0.4086724                                  \n",
       "k__Bacteria..p__Firmicutes..c__Clostridia..o__Clostridiales..f__Ruminococcaceae..g__..s__id276044       0.2952896                                  \n",
       "                                                                                                        Amitriptyline_278.4_413.3\n",
       "k__Bacteria..p__Firmicutes..c__Clostridia..o__Clostridiales..f__Clostridiaceae..g__..s__id268733        0.1703194                \n",
       "k__Bacteria..p__Firmicutes..c__Clostridia..o__Clostridiales..f__Clostridiaceae..g__Sarcina..s__id300662 0.1930689                \n",
       "k__Bacteria..p__Firmicutes..c__Clostridia..o__Clostridiales..f__Clostridiaceae..g__..s__id182643        0.2475531                \n",
       "k__Bacteria..p__Firmicutes..c__Clostridia..o__Clostridiales..f__Clostridiaceae..g__..s__id4446320       0.1394990                \n",
       "k__Bacteria..p__Firmicutes..c__Clostridia..o__Clostridiales..f__Clostridiaceae..g__..s__id4454432       0.1913065                \n",
       "k__Bacteria..p__Firmicutes..c__Clostridia..o__Clostridiales..f__Ruminococcaceae..g__..s__id276044       0.2302536                \n",
       "                                                                                                        Genipin_209.4_423.2\n",
       "k__Bacteria..p__Firmicutes..c__Clostridia..o__Clostridiales..f__Clostridiaceae..g__..s__id268733        0.1492192          \n",
       "k__Bacteria..p__Firmicutes..c__Clostridia..o__Clostridiales..f__Clostridiaceae..g__Sarcina..s__id300662 0.1740340          \n",
       "k__Bacteria..p__Firmicutes..c__Clostridia..o__Clostridiales..f__Clostridiaceae..g__..s__id182643        0.1982740          \n",
       "k__Bacteria..p__Firmicutes..c__Clostridia..o__Clostridiales..f__Clostridiaceae..g__..s__id4446320       0.2017437          \n",
       "k__Bacteria..p__Firmicutes..c__Clostridia..o__Clostridiales..f__Clostridiaceae..g__..s__id4454432       0.2197257          \n",
       "k__Bacteria..p__Firmicutes..c__Clostridia..o__Clostridiales..f__Ruminococcaceae..g__..s__id276044       0.1268460          \n",
       "                                                                                                        Traumatic.Acid_226.0_357.2\n",
       "k__Bacteria..p__Firmicutes..c__Clostridia..o__Clostridiales..f__Clostridiaceae..g__..s__id268733        0.2138754                 \n",
       "k__Bacteria..p__Firmicutes..c__Clostridia..o__Clostridiales..f__Clostridiaceae..g__Sarcina..s__id300662 0.2419324                 \n",
       "k__Bacteria..p__Firmicutes..c__Clostridia..o__Clostridiales..f__Clostridiaceae..g__..s__id182643        0.3948064                 \n",
       "k__Bacteria..p__Firmicutes..c__Clostridia..o__Clostridiales..f__Clostridiaceae..g__..s__id4446320       0.2188151                 \n",
       "k__Bacteria..p__Firmicutes..c__Clostridia..o__Clostridiales..f__Clostridiaceae..g__..s__id4454432       0.1985283                 \n",
       "k__Bacteria..p__Firmicutes..c__Clostridia..o__Clostridiales..f__Ruminococcaceae..g__..s__id276044       0.3261129                 \n",
       "                                                                                                        X115.294862068966_251.63289853936\n",
       "k__Bacteria..p__Firmicutes..c__Clostridia..o__Clostridiales..f__Clostridiaceae..g__..s__id268733        0.2795446                        \n",
       "k__Bacteria..p__Firmicutes..c__Clostridia..o__Clostridiales..f__Clostridiaceae..g__Sarcina..s__id300662 0.2269823                        \n",
       "k__Bacteria..p__Firmicutes..c__Clostridia..o__Clostridiales..f__Clostridiaceae..g__..s__id182643        0.3439179                        \n",
       "k__Bacteria..p__Firmicutes..c__Clostridia..o__Clostridiales..f__Clostridiaceae..g__..s__id4446320       0.2773698                        \n",
       "k__Bacteria..p__Firmicutes..c__Clostridia..o__Clostridiales..f__Clostridiaceae..g__..s__id4454432       0.3131342                        \n",
       "k__Bacteria..p__Firmicutes..c__Clostridia..o__Clostridiales..f__Ruminococcaceae..g__..s__id276044       0.3152505                        \n",
       "                                                                                                        X5.Z..8.Z..11.Z..Eicosatrienoic.acid.methyl.ester_322.4_465.3\n",
       "k__Bacteria..p__Firmicutes..c__Clostridia..o__Clostridiales..f__Clostridiaceae..g__..s__id268733        0.2001561                                                    \n",
       "k__Bacteria..p__Firmicutes..c__Clostridia..o__Clostridiales..f__Clostridiaceae..g__Sarcina..s__id300662 0.3082185                                                    \n",
       "k__Bacteria..p__Firmicutes..c__Clostridia..o__Clostridiales..f__Clostridiaceae..g__..s__id182643        0.3161216                                                    \n",
       "k__Bacteria..p__Firmicutes..c__Clostridia..o__Clostridiales..f__Clostridiaceae..g__..s__id4446320       0.2701837                                                    \n",
       "k__Bacteria..p__Firmicutes..c__Clostridia..o__Clostridiales..f__Clostridiaceae..g__..s__id4454432       0.2486102                                                    \n",
       "k__Bacteria..p__Firmicutes..c__Clostridia..o__Clostridiales..f__Ruminococcaceae..g__..s__id276044       0.2207010                                                    \n",
       "                                                                                                        Genipin_210.5_485.2\n",
       "k__Bacteria..p__Firmicutes..c__Clostridia..o__Clostridiales..f__Clostridiaceae..g__..s__id268733        0.05612475         \n",
       "k__Bacteria..p__Firmicutes..c__Clostridia..o__Clostridiales..f__Clostridiaceae..g__Sarcina..s__id300662 0.13141920         \n",
       "k__Bacteria..p__Firmicutes..c__Clostridia..o__Clostridiales..f__Clostridiaceae..g__..s__id182643        0.14764715         \n",
       "k__Bacteria..p__Firmicutes..c__Clostridia..o__Clostridiales..f__Clostridiaceae..g__..s__id4446320       0.05078186         \n",
       "k__Bacteria..p__Firmicutes..c__Clostridia..o__Clostridiales..f__Clostridiaceae..g__..s__id4454432       0.09217263         \n",
       "k__Bacteria..p__Firmicutes..c__Clostridia..o__Clostridiales..f__Ruminococcaceae..g__..s__id276044       0.11742298         \n",
       "                                                                                                        Jasmine.lactone_187.8_547.2\n",
       "k__Bacteria..p__Firmicutes..c__Clostridia..o__Clostridiales..f__Clostridiaceae..g__..s__id268733        0.1740208                  \n",
       "k__Bacteria..p__Firmicutes..c__Clostridia..o__Clostridiales..f__Clostridiaceae..g__Sarcina..s__id300662 0.2043832                  \n",
       "k__Bacteria..p__Firmicutes..c__Clostridia..o__Clostridiales..f__Clostridiaceae..g__..s__id182643        0.2295885                  \n",
       "k__Bacteria..p__Firmicutes..c__Clostridia..o__Clostridiales..f__Clostridiaceae..g__..s__id4446320       0.2261220                  \n",
       "k__Bacteria..p__Firmicutes..c__Clostridia..o__Clostridiales..f__Clostridiaceae..g__..s__id4454432       0.1609590                  \n",
       "k__Bacteria..p__Firmicutes..c__Clostridia..o__Clostridiales..f__Ruminococcaceae..g__..s__id276044       0.2223556                  \n",
       "                                                                                                        X2.Butanone..4..2.6.6.trimethyl.2.cyclohexen.1.yl.._181.4_893.3\n",
       "k__Bacteria..p__Firmicutes..c__Clostridia..o__Clostridiales..f__Clostridiaceae..g__..s__id268733        0.1616927                                                      \n",
       "k__Bacteria..p__Firmicutes..c__Clostridia..o__Clostridiales..f__Clostridiaceae..g__Sarcina..s__id300662 0.1866633                                                      \n",
       "k__Bacteria..p__Firmicutes..c__Clostridia..o__Clostridiales..f__Clostridiaceae..g__..s__id182643        0.2567351                                                      \n",
       "k__Bacteria..p__Firmicutes..c__Clostridia..o__Clostridiales..f__Clostridiaceae..g__..s__id4446320       0.1480575                                                      \n",
       "k__Bacteria..p__Firmicutes..c__Clostridia..o__Clostridiales..f__Clostridiaceae..g__..s__id4454432       0.1720722                                                      \n",
       "k__Bacteria..p__Firmicutes..c__Clostridia..o__Clostridiales..f__Ruminococcaceae..g__..s__id276044       0.2129771                                                      "
      ]
     },
     "metadata": {},
     "output_type": "display_data"
    }
   ],
   "source": [
    "head(feature_corr)"
   ]
  },
  {
   "cell_type": "code",
   "execution_count": 96,
   "metadata": {
    "collapsed": false
   },
   "outputs": [
    {
     "data": {
      "text/html": [
       "<ol class=list-inline>\n",
       "\t<li>37</li>\n",
       "\t<li>79</li>\n",
       "</ol>\n"
      ],
      "text/latex": [
       "\\begin{enumerate*}\n",
       "\\item 37\n",
       "\\item 79\n",
       "\\end{enumerate*}\n"
      ],
      "text/markdown": [
       "1. 37\n",
       "2. 79\n",
       "\n",
       "\n"
      ],
      "text/plain": [
       "[1] 37 79"
      ]
     },
     "metadata": {},
     "output_type": "display_data"
    }
   ],
   "source": [
    "dim(feature_corr)"
   ]
  },
  {
   "cell_type": "code",
   "execution_count": 97,
   "metadata": {
    "collapsed": false
   },
   "outputs": [],
   "source": [
    "feature_corr=t(feature_corr)"
   ]
  },
  {
   "cell_type": "code",
   "execution_count": 99,
   "metadata": {
    "collapsed": true
   },
   "outputs": [],
   "source": [
    "feature_corrPvalue=t(feature_corrPvalue)"
   ]
  },
  {
   "cell_type": "code",
   "execution_count": 98,
   "metadata": {
    "collapsed": true
   },
   "outputs": [],
   "source": [
    "write.table(feature_corr, file = \"sotu_metab_corrmat_lc_pr.tsv\", append = FALSE, quote = TRUE, sep = \"\\t\",\n",
    "            eol = \"\\n\", na = \"NA\", dec = \".\", row.names = TRUE,\n",
    "            col.names = TRUE, qmethod = c(\"escape\", \"double\"))"
   ]
  },
  {
   "cell_type": "code",
   "execution_count": 100,
   "metadata": {
    "collapsed": true
   },
   "outputs": [],
   "source": [
    "write.table(feature_corrPvalue, file = \"sotu_metab_corrmatPvalue_lc_pr.tsv\", append = FALSE, quote = TRUE, sep = \"\\t\",\n",
    "            eol = \"\\n\", na = \"NA\", dec = \".\", row.names = TRUE,\n",
    "            col.names = TRUE, qmethod = c(\"escape\", \"double\"))"
   ]
  },
  {
   "cell_type": "code",
   "execution_count": null,
   "metadata": {
    "collapsed": true
   },
   "outputs": [],
   "source": []
  }
 ],
 "metadata": {
  "kernelspec": {
   "display_name": "R [r]",
   "language": "R",
   "name": "R [r]"
  },
  "language_info": {
   "codemirror_mode": "r",
   "file_extension": ".r",
   "mimetype": "text/x-r-source",
   "name": "R",
   "pygments_lexer": "r",
   "version": "3.3.2"
  }
 },
 "nbformat": 4,
 "nbformat_minor": 2
}
