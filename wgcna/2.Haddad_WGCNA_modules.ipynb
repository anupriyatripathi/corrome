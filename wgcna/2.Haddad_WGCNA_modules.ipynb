{
 "cells": [
  {
   "cell_type": "code",
   "execution_count": 6,
   "metadata": {
    "collapsed": false
   },
   "outputs": [
    {
     "name": "stdout",
     "output_type": "stream",
     "text": [
      "Allowing parallel execution with up to 7 working processes.\n"
     ]
    }
   ],
   "source": [
    "options(warn = -1)\n",
    "library(WGCNA)\n",
    "options(stringsAsFactors=FALSE)\n",
    "enableWGCNAThreads()"
   ]
  },
  {
   "cell_type": "code",
   "execution_count": 7,
   "metadata": {
    "collapsed": true
   },
   "outputs": [],
   "source": [
    "load(file='metab_mapping.RData')\n",
    "load(file='microb_mapping.RData')"
   ]
  },
  {
   "cell_type": "code",
   "execution_count": 8,
   "metadata": {
    "collapsed": false
   },
   "outputs": [
    {
     "name": "stdout",
     "output_type": "stream",
     "text": [
      "pickSoftThreshold: will use block size 1004.\n",
      " pickSoftThreshold: calculating connectivity for given powers...\n",
      "   ..working on genes 1 through 1004 of 1004\n",
      "   Power SFT.R.sq  slope truncated.R.sq  mean.k. median.k.  max.k.\n",
      "1      1   0.0239  -4.86          0.979 1.45e+02  1.45e+02 156.000\n",
      "2      2   0.1370  -6.93          0.992 3.24e+01  3.24e+01  37.300\n",
      "3      3   0.0558  -2.72          0.996 9.09e+00  9.08e+00  11.100\n",
      "4      4   0.3630  -5.70          0.898 2.96e+00  2.95e+00   4.160\n",
      "5      5   0.4360 -16.40          0.303 1.08e+00  1.07e+00   2.100\n",
      "6      6   0.5210 -14.10          0.438 4.26e-01  4.18e-01   1.370\n",
      "7      7   0.5280 -10.30          0.579 1.82e-01  1.74e-01   1.090\n",
      "8      8   0.4830  -7.57          0.632 8.26e-02  7.69e-02   0.965\n",
      "9      9   0.4120  -5.50          0.657 3.99e-02  3.53e-02   0.907\n",
      "10    10   0.4380  -4.71          0.589 2.06e-02  1.68e-02   0.875\n",
      "11    12   0.3990  -3.20          0.776 6.81e-03  4.12e-03   0.837\n",
      "12    14   0.4510  -2.78          0.761 3.21e-03  1.09e-03   0.810\n",
      "13    16   0.4830  -2.46          0.752 2.12e-03  3.05e-04   0.785\n",
      "14    18   0.5040  -2.22          0.745 1.73e-03  8.71e-05   0.762\n",
      "15    20   0.5190  -2.04          0.740 1.57e-03  2.58e-05   0.739\n"
     ]
    }
   ],
   "source": [
    "# choose soft-thresholding power for metab\n",
    "powers_metab = c(c(1:10), seq(12, 20, by=2)) \n",
    "sft_metab = pickSoftThreshold(dat_metab, powerVector=powers_metab, verbose=5) "
   ]
  },
  {
   "cell_type": "code",
   "execution_count": 9,
   "metadata": {
    "collapsed": false
   },
   "outputs": [],
   "source": [
    "# cex1 = 0.9 # size of red number \n",
    "# plot(sft_metab$fitIndices[,1], -sign(sft_metab$fitIndices[,3])*sft_metab$fitIndices[,2],\n",
    "#      xlab='Metab Soft Threshold (power)', ylab = 'Scale Free Topology Model Fit',\n",
    "#     type='n', main=paste('Scale independence'))\n",
    "# text(sft_metab$fitIndices[,1], -sign(sft_metab$fitIndices[,3])*sft_metab$fitIndices[,2],\n",
    "#                               labels=powers_metab, cex=cex1, col='red')\n",
    "# abline(h=0.4, col='red') # choose power=4, the lowest power for which the curve flattens out"
   ]
  },
  {
   "cell_type": "code",
   "execution_count": 10,
   "metadata": {
    "collapsed": false
   },
   "outputs": [
    {
     "name": "stdout",
     "output_type": "stream",
     "text": [
      "pickSoftThreshold: will use block size 1004.\n",
      " pickSoftThreshold: calculating connectivity for given powers...\n",
      "   ..working on genes 1 through 1004 of 1004\n",
      "   Power SFT.R.sq  slope truncated.R.sq  mean.k. median.k.  max.k.\n",
      "1      1   0.0239  -4.86          0.979 1.45e+02  1.45e+02 156.000\n",
      "2      2   0.1370  -6.93          0.992 3.24e+01  3.24e+01  37.300\n",
      "3      3   0.0558  -2.72          0.996 9.09e+00  9.08e+00  11.100\n",
      "4      4   0.3630  -5.70          0.898 2.96e+00  2.95e+00   4.160\n",
      "5      5   0.4360 -16.40          0.303 1.08e+00  1.07e+00   2.100\n",
      "6      6   0.5210 -14.10          0.438 4.26e-01  4.18e-01   1.370\n",
      "7      7   0.5280 -10.30          0.579 1.82e-01  1.74e-01   1.090\n",
      "8      8   0.4830  -7.57          0.632 8.26e-02  7.69e-02   0.965\n",
      "9      9   0.4120  -5.50          0.657 3.99e-02  3.53e-02   0.907\n",
      "10    10   0.4380  -4.71          0.589 2.06e-02  1.68e-02   0.875\n",
      "11    12   0.3990  -3.20          0.776 6.81e-03  4.12e-03   0.837\n",
      "12    14   0.4510  -2.78          0.761 3.21e-03  1.09e-03   0.810\n",
      "13    16   0.4830  -2.46          0.752 2.12e-03  3.05e-04   0.785\n",
      "14    18   0.5040  -2.22          0.745 1.73e-03  8.71e-05   0.762\n",
      "15    20   0.5190  -2.04          0.740 1.57e-03  2.58e-05   0.739\n"
     ]
    }
   ],
   "source": [
    "# choose soft-thresholding power for Microb\n",
    "powers_microb = c(c(1:10), seq(12, 20, by=2))\n",
    "sft_microb = pickSoftThreshold(dat_microb, powerVector=powers_microb, verbose=5) "
   ]
  },
  {
   "cell_type": "code",
   "execution_count": 11,
   "metadata": {
    "collapsed": false
   },
   "outputs": [],
   "source": [
    "# cex1 = 0.9 # size of red number \n",
    "# plot(sft_microb$fitIndices[,1], -sign(sft_microb$fitIndices[,3])*sft_microb$fitIndices[,2],\n",
    "#      xlab='microb Soft Threshold (power)', ylab = 'Scale Free Topology Model Fit',\n",
    "#     type='n', main=paste('Scale independence'))\n",
    "# text(sft_microb$fitIndices[,1], -sign(sft_microb$fitIndices[,3])*sft_microb$fitIndices[,2],\n",
    "#                               labels=powers_microb, cex=cex1, col='red')\n",
    "# abline(h=0.4, col='red') # choose power=4, the lowest power for which the curve flattens out"
   ]
  },
  {
   "cell_type": "code",
   "execution_count": 5,
   "metadata": {
    "collapsed": false
   },
   "outputs": [
    {
     "ename": "ERROR",
     "evalue": "Error: REAL() can only be applied to a 'numeric', not a 'integer'\n",
     "output_type": "error",
     "traceback": [
      "Error: REAL() can only be applied to a 'numeric', not a 'integer'\nTraceback:\n",
      "1. blockwiseModules(dat_metab, power = 4, TOMtype = \"unsigned\", \n .     minModuleSize = 10, reassignThreshold = 0, mergeCutHeight = 0.25, \n .     pamRespectsDendro = FALSE, saveTOMS = TRUE, saveTOMFileBase = \"HadadMouseTOM\")"
     ]
    }
   ],
   "source": [
    "net_metab = blockwiseModules(dat_metab, power=4, TOMtype='unsigned', minModuleSize=10, reassignThreshold=0, \n",
    "                                mergeCutHeight=0.25, # numericLabels=TRUE,\n",
    "                                pamRespectsDendro=FALSE, saveTOMS=TRUE, saveTOMFileBase='HadadMouseTOM')"
   ]
  },
  {
   "cell_type": "code",
   "execution_count": 6,
   "metadata": {
    "collapsed": false
   },
   "outputs": [
    {
     "name": "stdout",
     "output_type": "stream",
     "text": [
      "adjacency: replaceMissing: 0\n"
     ]
    }
   ],
   "source": [
    "net_microb = blockwiseModules(dat_microb, power=4, TOMtype='unsigned', minModuleSize=30, reassignThreshold=0, \n",
    "                                mergeCutHeight=0.25, # numericLabels=TRUE,\n",
    "                                pamRespectsDendro=FALSE, saveTOMS=TRUE, saveTOMFileBase='HadadMouseTOM')"
   ]
  },
  {
   "cell_type": "code",
   "execution_count": 7,
   "metadata": {
    "collapsed": false
   },
   "outputs": [
    {
     "name": "stdout",
     "output_type": "stream",
     "text": [
      "\n",
      "   0    1    2    3    4    5    6    7    8    9   10   11   12   13   14   15 \n",
      "1068  333  312  195  111  109  108   96   92   82   79   77   70   68   66   65 \n",
      "  16   17   18   19   20   21   22   23   24   25   26   27   28 \n",
      "  65   64   62   57   55   51   51   47   46   43   37   36   31 \n",
      "\n",
      "   0    1    2    3    4    5    6    7    8    9   10   11   12   13   14   15 \n",
      "1242  142   93   82   72   67   62   59   51   50   50   46   46   46   40   38 \n",
      "  16   17   18   19 \n",
      "  37   33   31   30 \n"
     ]
    }
   ],
   "source": [
    "print(table(net_metab$colors))\n",
    "print(table(net_microb$colors))"
   ]
  },
  {
   "cell_type": "code",
   "execution_count": 8,
   "metadata": {
    "collapsed": false
   },
   "outputs": [
    {
     "data": {
      "text/html": [
       "<strong>pdf:</strong> 2"
      ],
      "text/latex": [
       "\\textbf{pdf:} 2"
      ],
      "text/markdown": [
       "**pdf:** 2"
      ],
      "text/plain": [
       "pdf \n",
       "  2 "
      ]
     },
     "metadata": {},
     "output_type": "display_data"
    }
   ],
   "source": [
    "mergedColors_metab = labels2colors(net_metab$colors)\n",
    "pdf('dendrogram_metab.pdf', width=50, height=30)\n",
    "plotDendroAndColors(net_metab$dendrograms[[1]], mergedColors_metab[net_metab$blockGenes[[1]]], # net$dendrograms[[1]] is the distance matrix\n",
    "                   'Module Colors', dendroLabels=FALSE, hang=0.03,\n",
    "                   addGuide=TRUE, guideHang=0.05, main='Haddad Metab dendrogram and module')\n",
    "dev.off()"
   ]
  },
  {
   "cell_type": "code",
   "execution_count": 9,
   "metadata": {
    "collapsed": false
   },
   "outputs": [
    {
     "data": {
      "text/html": [
       "<strong>pdf:</strong> 2"
      ],
      "text/latex": [
       "\\textbf{pdf:} 2"
      ],
      "text/markdown": [
       "**pdf:** 2"
      ],
      "text/plain": [
       "pdf \n",
       "  2 "
      ]
     },
     "metadata": {},
     "output_type": "display_data"
    }
   ],
   "source": [
    "mergedColors_microb = labels2colors(net_microb$colors)\n",
    "pdf('dendrogram_microb.pdf', width=50, height=30)\n",
    "plotDendroAndColors(net_microb$dendrograms[[1]], mergedColors_microb[net_microb$blockGenes[[1]]], # net$dendrograms[[1]] is the distance matrix\n",
    "                   'Module Colors', dendroLabels=FALSE, hang=0.03,\n",
    "                   addGuide=TRUE, guideHang=0.05, main='Haddad microb dendrogram and module')\n",
    "dev.off()"
   ]
  },
  {
   "cell_type": "code",
   "execution_count": 10,
   "metadata": {
    "collapsed": true
   },
   "outputs": [],
   "source": [
    "# save result from clustering\n",
    "moduleLabels_metab = net_metab$colors\n",
    "moduleColors_metab = labels2colors(net_metab$colors)\n",
    "MEs_metab = net_metab$MEs\n",
    "tree_metab = net_metab$dendrograms[[1]]\n",
    "\n",
    "moduleLabels_microb = net_microb$colors\n",
    "moduleColors_microb = labels2colors(net_microb$colors)\n",
    "MEs_microb = net_microb$MEs\n",
    "tree_microb = net_microb$dendrograms[[1]]\n",
    "\n",
    "save(moduleLabels_metab, moduleColors_metab, MEs_metab, tree_metab, \n",
    "     file='Haddad_metab_modules.RData')\n",
    "save(moduleLabels_microb, moduleColors_microb, MEs_microb, tree_microb, \n",
    "     file='Haddad_microb_modules.RData')"
   ]
  },
  {
   "cell_type": "code",
   "execution_count": null,
   "metadata": {
    "collapsed": true
   },
   "outputs": [],
   "source": []
  }
 ],
 "metadata": {
  "kernelspec": {
   "display_name": "R",
   "language": "R",
   "name": "ir"
  },
  "language_info": {
   "codemirror_mode": "r",
   "file_extension": ".r",
   "mimetype": "text/x-r-source",
   "name": "R",
   "pygments_lexer": "r",
   "version": "3.3.2"
  }
 },
 "nbformat": 4,
 "nbformat_minor": 2
}
